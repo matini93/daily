{
  "nbformat": 4,
  "nbformat_minor": 0,
  "metadata": {
    "colab": {
      "name": "date_08_12.ipynb",
      "provenance": [],
      "collapsed_sections": []
    },
    "kernelspec": {
      "name": "python3",
      "display_name": "Python 3"
    },
    "language_info": {
      "name": "python"
    }
  },
  "cells": [
    {
      "cell_type": "code",
      "execution_count": 1,
      "metadata": {
        "id": "I0sDlSFvPOrn"
      },
      "outputs": [],
      "source": [
        "import datetime "
      ]
    },
    {
      "cell_type": "code",
      "source": [
        "datetime.datetime.now()"
      ],
      "metadata": {
        "colab": {
          "base_uri": "https://localhost:8080/"
        },
        "id": "vaV_vUi2PRxN",
        "outputId": "755f6993-9be5-49f2-cec9-7e3bb9dcf988"
      },
      "execution_count": 2,
      "outputs": [
        {
          "output_type": "execute_result",
          "data": {
            "text/plain": [
              "datetime.datetime(2022, 8, 12, 8, 48, 6, 243730)"
            ]
          },
          "metadata": {},
          "execution_count": 2
        }
      ]
    },
    {
      "cell_type": "code",
      "source": [
        "#131. for문의 실행결과를 예측하라. \n",
        "과일 = [\"사과\", \"귤\", \"수박\"]\n",
        "for 변수 in 과일:\n",
        "    print(변수,end=\" \")\n",
        "print(\"\\n\")\n",
        "print(\"=\"*40)\n",
        "print(\"예상 정답 : 사과, 귤, 수박\")"
      ],
      "metadata": {
        "colab": {
          "base_uri": "https://localhost:8080/"
        },
        "id": "j2DXQyy6PTxq",
        "outputId": "8d8b7573-b715-499c-eea9-90d1ff92e820"
      },
      "execution_count": 4,
      "outputs": [
        {
          "output_type": "stream",
          "name": "stdout",
          "text": [
            "사과 귤 수박 \n",
            "\n",
            "========================================\n",
            "예상 정답 : 사과, 귤, 수박\n"
          ]
        }
      ]
    },
    {
      "cell_type": "code",
      "source": [
        "#132. for문의 실행결과를 예측하라.\n",
        "과일 = [\"사과\", \"귤\", \"수박\"]\n",
        "for 변수 in 과일:\n",
        "  print(\"#####\")\n",
        "\n",
        "print(\"\\n\")\n",
        "print(\"=\"*40)\n",
        "print(\"예상 정답 : #####가 3번 나온다\")\n"
      ],
      "metadata": {
        "colab": {
          "base_uri": "https://localhost:8080/"
        },
        "id": "Hr9E0QhxPnVQ",
        "outputId": "f980c0e0-1831-4833-907d-74b41261dce1"
      },
      "execution_count": 5,
      "outputs": [
        {
          "output_type": "stream",
          "name": "stdout",
          "text": [
            "#####\n",
            "#####\n",
            "#####\n",
            "\n",
            "\n",
            "========================================\n",
            "예상 정답 : #####가 3번 나온다\n"
          ]
        }
      ]
    },
    {
      "cell_type": "code",
      "source": [
        "#133. 다음 for문과 동일한 기능을 수행하는 코드를 작성하세요. \n",
        "for 변수 in [\"A\", \"B\", \"C\"]:\n",
        "  print(변수)\n",
        "print(\"=\"*40)\n",
        "print(\"A\")\n",
        "print('B')\n",
        "print(\"C\")"
      ],
      "metadata": {
        "colab": {
          "base_uri": "https://localhost:8080/"
        },
        "id": "pJ6NHx9bQQPn",
        "outputId": "a6c829a5-130f-4da3-d4df-34cf752d02bb"
      },
      "execution_count": 6,
      "outputs": [
        {
          "output_type": "stream",
          "name": "stdout",
          "text": [
            "A\n",
            "B\n",
            "C\n",
            "========================================\n",
            "A\n",
            "B\n",
            "C\n"
          ]
        }
      ]
    },
    {
      "cell_type": "code",
      "source": [
        "#134. for문을 풀어서 동일한 동작을 하는 코드를 작성하라. \n",
        "for 변수 in [\"A\", \"B\", \"C\"]:\n",
        "  print(\"출력:\", 변수)\n",
        "print(\"=\"*40)\n",
        "print(\"출력:\", \"A\")\n",
        "print(\"출력:\", \"B\")\n",
        "print(\"출력:\", \"C\")"
      ],
      "metadata": {
        "colab": {
          "base_uri": "https://localhost:8080/"
        },
        "id": "Qv6m5UTmQ89a",
        "outputId": "05211539-682d-4dba-806b-4e10af78dd63"
      },
      "execution_count": 9,
      "outputs": [
        {
          "output_type": "stream",
          "name": "stdout",
          "text": [
            "출력: A\n",
            "출력: B\n",
            "출력: C\n",
            "========================================\n",
            "출력: A\n",
            "출력: B\n",
            "출력: C\n"
          ]
        }
      ]
    },
    {
      "cell_type": "code",
      "source": [
        "#135. for문을 풀어서 동일한 동작을 하는 코드를 작성하라. \n",
        "#for문을 쓰지않고 동일한 결과를 도출하라.\n",
        "for 변수 in [\"A\", \"B\", \"C\"]:\n",
        "  b = 변수.lower()\n",
        "  print(\"변환:\", b)\n",
        "print(\"=\"*40)\n",
        "print(\"변환 : a\")\n",
        "print(\"변환 : b\")\n",
        "print(\"변환 : c\")\n"
      ],
      "metadata": {
        "colab": {
          "base_uri": "https://localhost:8080/"
        },
        "id": "A291WGw4RaBs",
        "outputId": "cf845aed-7317-4a84-ccec-dcd454999c46"
      },
      "execution_count": 10,
      "outputs": [
        {
          "output_type": "stream",
          "name": "stdout",
          "text": [
            "변환: a\n",
            "변환: b\n",
            "변환: c\n",
            "========================================\n",
            "변환 : a\n",
            "변환 : b\n",
            "변환 : c\n"
          ]
        }
      ]
    },
    {
      "cell_type": "code",
      "source": [
        "#136. 다음 코드를 for문으로 작성하라. \n",
        "변수 = 10\n",
        "print(변수)\n",
        "변수 = 20\n",
        "print(변수)\n",
        "변수 = 30\n",
        "print(변수)\n",
        "print(\"=\"*40)\n",
        "for 변수 in range(10,40,10):\n",
        "  print(변수)"
      ],
      "metadata": {
        "colab": {
          "base_uri": "https://localhost:8080/"
        },
        "id": "OkLT3c1YS2vT",
        "outputId": "36c5f65e-af36-462c-ab92-818c0f5fb6ec"
      },
      "execution_count": 12,
      "outputs": [
        {
          "output_type": "stream",
          "name": "stdout",
          "text": [
            "10\n",
            "20\n",
            "30\n",
            "========================================\n",
            "10\n",
            "20\n",
            "30\n"
          ]
        }
      ]
    },
    {
      "cell_type": "code",
      "source": [
        "#137. 다음 코드를 for문으로 작성하라. \n",
        "print(10)\n",
        "print(20)\n",
        "print(30)\n",
        "print(\"=\"*40)\n",
        "for i in range(10,40,10):\n",
        "  print(i)"
      ],
      "metadata": {
        "colab": {
          "base_uri": "https://localhost:8080/"
        },
        "id": "3wvmIPWlTQbI",
        "outputId": "8e0ddcd8-b6b9-4706-c1a0-dd9294464f98"
      },
      "execution_count": 13,
      "outputs": [
        {
          "output_type": "stream",
          "name": "stdout",
          "text": [
            "10\n",
            "20\n",
            "30\n",
            "========================================\n",
            "10\n",
            "20\n",
            "30\n"
          ]
        }
      ]
    },
    {
      "cell_type": "code",
      "source": [
        "#138. 다음 코드를 for문으로 작성하라. \n",
        "print(10)\n",
        "print(\"-------\")\n",
        "print(20)\n",
        "print(\"-------\")\n",
        "print(30)\n",
        "print(\"-------\")\n",
        "print(\"=\"*40)\n",
        "for i in range(10,40,10):\n",
        "  print(i)\n",
        "  print(\"-------\")"
      ],
      "metadata": {
        "colab": {
          "base_uri": "https://localhost:8080/"
        },
        "id": "tLvQWuQsThQA",
        "outputId": "fc0ff338-f538-4fad-83a4-0d86987d3aa6"
      },
      "execution_count": 14,
      "outputs": [
        {
          "output_type": "stream",
          "name": "stdout",
          "text": [
            "10\n",
            "-------\n",
            "20\n",
            "-------\n",
            "30\n",
            "-------\n",
            "========================================\n",
            "10\n",
            "-------\n",
            "20\n",
            "-------\n",
            "30\n",
            "-------\n"
          ]
        }
      ]
    },
    {
      "cell_type": "code",
      "source": [
        "#139. 다음 코드를 for문으로 작성하라. \n",
        "print(\"++++\")\n",
        "print(10)\n",
        "print(20)\n",
        "print(30)\n",
        "print(\"=\"*40)\n",
        "print(\"++++\")\n",
        "for i in range(10,40,10):\n",
        "  print(i)"
      ],
      "metadata": {
        "colab": {
          "base_uri": "https://localhost:8080/"
        },
        "id": "s5ADkLFuT4s1",
        "outputId": "ab0932be-9ad1-4e6e-de28-c4f3484c97a8"
      },
      "execution_count": 17,
      "outputs": [
        {
          "output_type": "stream",
          "name": "stdout",
          "text": [
            "++++\n",
            "10\n",
            "20\n",
            "30\n",
            "========================================\n",
            "++++\n",
            "10\n",
            "20\n",
            "30\n"
          ]
        }
      ]
    },
    {
      "cell_type": "code",
      "source": [
        "#140. 다음 코드를 for문으로 작성하라. \n",
        "print(\"-------\")\n",
        "print(\"-------\")\n",
        "print(\"-------\")\n",
        "print(\"-------\")\n",
        "print(\"=\"*40)\n",
        "for i in range(4):\n",
        "  print(\"-------\")"
      ],
      "metadata": {
        "colab": {
          "base_uri": "https://localhost:8080/"
        },
        "id": "wjYDpCnFUJOm",
        "outputId": "c360a1ce-050c-4f1e-d4c8-eba3e81a68aa"
      },
      "execution_count": 18,
      "outputs": [
        {
          "output_type": "stream",
          "name": "stdout",
          "text": [
            "-------\n",
            "-------\n",
            "-------\n",
            "-------\n",
            "========================================\n",
            "-------\n",
            "-------\n",
            "-------\n",
            "-------\n"
          ]
        }
      ]
    },
    {
      "cell_type": "code",
      "source": [
        "#141. 다음과 같이 판매가가 저장된 리스트가 있을 때 부가세가 포함된 가격을 for문을\n",
        "#사용해서 화면에 출력하라. 단, 부가세는 10원으로 가정한다. \n",
        "\n",
        "sell_list = [100, 200, 300]\n",
        "print(\"110\")\n",
        "print(\"210\")\n",
        "print(\"310\")\n",
        "print(\"=\"*40)\n",
        "for i in sell_list:\n",
        "  print(i+10)"
      ],
      "metadata": {
        "colab": {
          "base_uri": "https://localhost:8080/"
        },
        "id": "cc4qYjc5US2K",
        "outputId": "7f18a8c6-e0c7-4c96-98d4-a475afb939c0"
      },
      "execution_count": 20,
      "outputs": [
        {
          "output_type": "stream",
          "name": "stdout",
          "text": [
            "110\n",
            "210\n",
            "310\n",
            "========================================\n",
            "110\n",
            "210\n",
            "310\n"
          ]
        }
      ]
    },
    {
      "cell_type": "code",
      "source": [
        "#142. for문을 사용해서 리스트에 저장된 값을 다음과 같이 출력하라. \n",
        "product_list = [\"김밥\",\"라면\",\"튀김\"]\n",
        "\n",
        "for i in product_list:\n",
        "  print(\"오늘의 메뉴 : \",i)"
      ],
      "metadata": {
        "id": "u9oUvu04UzbB"
      },
      "execution_count": null,
      "outputs": []
    },
    {
      "cell_type": "code",
      "source": [
        "#143. 리스트에 주식 종목이름이 저장돼 있다. \n",
        "#저장된 문자열의 길이를 다음과 같이 출력하라. \n",
        "com_list = [\"SK하이닉스\",\"삼성전자\", \"LG전자\"]\n",
        "\n",
        "print(\"6\")\n",
        "print(\"4\")\n",
        "print(\"4\")\n",
        "print(\"=\"*40)\n",
        "for i in com_list:\n",
        "  print(len(i))\n"
      ],
      "metadata": {
        "colab": {
          "base_uri": "https://localhost:8080/"
        },
        "id": "ktU5VQUBWbR_",
        "outputId": "5f88fb95-02d9-4cf0-a52e-90fc26d8639f"
      },
      "execution_count": 21,
      "outputs": [
        {
          "output_type": "stream",
          "name": "stdout",
          "text": [
            "6\n",
            "4\n",
            "4\n",
            "========================================\n",
            "6\n",
            "4\n",
            "4\n"
          ]
        }
      ]
    },
    {
      "cell_type": "code",
      "source": [
        "#144. 리스트에는 동물이름이 문자열로 저장돼 있다. \n",
        "#동물 이름과 글자수를 다음과 같이 출력하라. \n",
        "pet_list= [\"dog\",\"cat\",\"parrot\"]\n",
        "\n",
        "print(\"dog 3\")\n",
        "print(\"cat 3\")\n",
        "print(\"parrot 6\")\n",
        "print(\"=\"*40)\n",
        "for i in pet_list:\n",
        "  print(i,\" \",len(i))"
      ],
      "metadata": {
        "colab": {
          "base_uri": "https://localhost:8080/"
        },
        "id": "7ZsTz4XxZANn",
        "outputId": "aed84aea-7d1c-4d2c-b9d7-9b54829b67bd"
      },
      "execution_count": 24,
      "outputs": [
        {
          "output_type": "stream",
          "name": "stdout",
          "text": [
            "dog 3\n",
            "cat 3\n",
            "parrot 6\n",
            "========================================\n",
            "dog   3\n",
            "cat   3\n",
            "parrot   6\n"
          ]
        }
      ]
    },
    {
      "cell_type": "code",
      "source": [
        "#145. 리스트에서 동물 이름이 저장돼 있다. \n",
        "#for문을 사용해서 동물 이름의 첫 글자만 출력하라. \n",
        "pet_list= [\"dog\",\"cat\",\"parrot\"]\n",
        "\n",
        "for i in pet_list:\n",
        "  print(i[0])"
      ],
      "metadata": {
        "colab": {
          "base_uri": "https://localhost:8080/"
        },
        "id": "YVxxEcBzZunn",
        "outputId": "609d95c6-4bef-4f22-dd3a-caf1b21016da"
      },
      "execution_count": 25,
      "outputs": [
        {
          "output_type": "stream",
          "name": "stdout",
          "text": [
            "d\n",
            "c\n",
            "p\n"
          ]
        }
      ]
    },
    {
      "cell_type": "code",
      "source": [
        "#146. 리스트에는 세 개의 숫자가 바인딩돼 있다. \n",
        "#for문을 사용해서 다음과 같이 출력하라. \n",
        "for i in range(1,4):\n",
        "  print(\"3 x\",i)"
      ],
      "metadata": {
        "colab": {
          "base_uri": "https://localhost:8080/"
        },
        "id": "dmq7PGiTaPux",
        "outputId": "e8226b89-1552-4046-a00f-5fe76f05aad1"
      },
      "execution_count": 27,
      "outputs": [
        {
          "output_type": "stream",
          "name": "stdout",
          "text": [
            "3 x 1\n",
            "3 x 2\n",
            "3 x 3\n"
          ]
        }
      ]
    },
    {
      "cell_type": "code",
      "source": [
        "#147. 리스트에는 세 개의 숫자가 바인딩돼 있다. \n",
        "#for문을 사용해서 다음과 같이 출력하라. \n",
        "for i in range(1,4):\n",
        "  print(\"3 x \",i,\"=\",i*3)\n",
        "print(\"=\"*40)\n",
        "num_list = [1,2,3]\n",
        "for i in num_list:\n",
        "  print(\"{} x {} = {}\".format(3,i,i*3))"
      ],
      "metadata": {
        "colab": {
          "base_uri": "https://localhost:8080/"
        },
        "id": "QWypqlDAaiOq",
        "outputId": "f6c849e6-add8-40d5-ab84-05b16632d0a6"
      },
      "execution_count": 30,
      "outputs": [
        {
          "output_type": "stream",
          "name": "stdout",
          "text": [
            "3 x  1 = 3\n",
            "3 x  2 = 6\n",
            "3 x  3 = 9\n",
            "========================================\n",
            "3 x 1 = 3\n",
            "3 x 2 = 6\n",
            "3 x 3 = 9\n"
          ]
        }
      ]
    },
    {
      "cell_type": "code",
      "source": [
        "#148. 리스트에는 네 개의 문자열이 바인딩돼 있다. \n",
        "string_list=[\"가\",\"나\",\"다\",\"라\"]\n",
        "\n",
        "for i in range(1,len(string_list)):\n",
        "  print(string_list[i])"
      ],
      "metadata": {
        "colab": {
          "base_uri": "https://localhost:8080/"
        },
        "id": "UqPMWU59cF62",
        "outputId": "b138a6d3-36b1-4b68-a7f1-5e8096e7851f"
      },
      "execution_count": 33,
      "outputs": [
        {
          "output_type": "stream",
          "name": "stdout",
          "text": [
            "나\n",
            "다\n",
            "라\n"
          ]
        }
      ]
    },
    {
      "cell_type": "code",
      "source": [
        "#149. 리스트에는 네 개의 문자열이 바인딩돼 있다. \n",
        "#for문을 사용해서 다음과 같이 출력하라. \n",
        "string_list=[\"가\",\"나\",\"다\",\"라\"]\n",
        "\n",
        "for i in range(len(string_list)):\n",
        "  if i % 2 == 0 :\n",
        "    print(string_list[i])\n",
        "\n"
      ],
      "metadata": {
        "colab": {
          "base_uri": "https://localhost:8080/"
        },
        "id": "Y2v1r2IRc-K4",
        "outputId": "04cfc5e7-770d-4fdc-a9d3-480ca4a1e7fe"
      },
      "execution_count": 34,
      "outputs": [
        {
          "output_type": "stream",
          "name": "stdout",
          "text": [
            "가\n",
            "다\n"
          ]
        }
      ]
    },
    {
      "cell_type": "code",
      "source": [
        "#150. 리스트에는 네 개의 문자열이 바인딩돼 있다. \n",
        "string_list = [\"가\", \"나\", \"다\", \"라\"]\n",
        "#for문을 사용해서 다음과 같이 출력하라. \n",
        "print(\"라\")\n",
        "print(\"다\")\n",
        "print(\"나\")\n",
        "print(\"가\")\n",
        "print(\"=\"*40)\n",
        "for i in range(len(string_list)-1,-1,-1):\n",
        "  print(string_list[i])\n",
        "print(\"=\"*40)\n",
        "for i in string_list[::-1]:\n",
        "  print(i)"
      ],
      "metadata": {
        "colab": {
          "base_uri": "https://localhost:8080/"
        },
        "id": "jhJ6fpkGekJg",
        "outputId": "ca5786fe-43fa-4818-a177-dd1503c41963"
      },
      "execution_count": 41,
      "outputs": [
        {
          "output_type": "stream",
          "name": "stdout",
          "text": [
            "라\n",
            "다\n",
            "나\n",
            "가\n",
            "========================================\n",
            "라\n",
            "다\n",
            "나\n",
            "가\n",
            "========================================\n",
            "라\n",
            "다\n",
            "나\n",
            "가\n"
          ]
        }
      ]
    },
    {
      "cell_type": "code",
      "source": [
        "#151. 리스트에는 네 개의 정수가 저장돼 있다. \n",
        "string_list = [3, -20, -3, 44]\n",
        "#for문을 사용해서 리스트의 음수를 출력하라. \n",
        "\n",
        "for i in string_list:\n",
        "  if i < 0:\n",
        "    print(i)\n",
        "    \n"
      ],
      "metadata": {
        "colab": {
          "base_uri": "https://localhost:8080/"
        },
        "id": "zWR_0u8BgJcy",
        "outputId": "12880fcb-3887-4b19-8946-33d003963a4c"
      },
      "execution_count": 42,
      "outputs": [
        {
          "output_type": "stream",
          "name": "stdout",
          "text": [
            "-20\n",
            "-3\n"
          ]
        }
      ]
    },
    {
      "cell_type": "code",
      "source": [
        "#152. for문을 사용해서 3의 배수만을 출력하라. \n",
        "sample_list = [3, 100, 23, 44]\n",
        "\n",
        "for i in sample_list:\n",
        "  if i % 3 == 0 :\n",
        "    print(i)"
      ],
      "metadata": {
        "colab": {
          "base_uri": "https://localhost:8080/"
        },
        "id": "EkEIUF6pg3CP",
        "outputId": "5531f8f4-6da8-4f81-9cc3-462b041f6dc3"
      },
      "execution_count": 43,
      "outputs": [
        {
          "output_type": "stream",
          "name": "stdout",
          "text": [
            "3\n"
          ]
        }
      ]
    },
    {
      "cell_type": "code",
      "source": [
        "#153. 리스트에서 20보다 작은 3의 배수를 출력하라. \n",
        "num_list = [13, 21, 12, 14, 30, 18]\n",
        "\n",
        "for i in num_list:\n",
        "  if (i%3==0) and (i <20):\n",
        "    print(i)"
      ],
      "metadata": {
        "colab": {
          "base_uri": "https://localhost:8080/"
        },
        "id": "oVfg4aajj6mj",
        "outputId": "f4b60fe4-480d-4119-cf0d-1e554176cd16"
      },
      "execution_count": 44,
      "outputs": [
        {
          "output_type": "stream",
          "name": "stdout",
          "text": [
            "12\n",
            "18\n"
          ]
        }
      ]
    },
    {
      "cell_type": "code",
      "source": [
        "#154. 리스트에서 세 글자 이상의 문자를 화면에 출력하라. \n",
        "string_list =[\"I\", \"study\", \"python\", \"language\", \"!\"]\n",
        "\n",
        "for i in string_list:\n",
        "  if len(i) >= 3 :\n",
        "    print(i)"
      ],
      "metadata": {
        "colab": {
          "base_uri": "https://localhost:8080/"
        },
        "id": "zxMQTZeLkYlG",
        "outputId": "8f43fee3-24c4-4b72-d94e-1b8dac349773"
      },
      "execution_count": 45,
      "outputs": [
        {
          "output_type": "stream",
          "name": "stdout",
          "text": [
            "study\n",
            "python\n",
            "language\n"
          ]
        }
      ]
    },
    {
      "cell_type": "code",
      "source": [
        "#155. 리스트에서 대문자만 화면에 출력하라. \n",
        "string_list = [\"A\", \"b\", \"c\", \"D\"]\n",
        "\n",
        "for i in string_list:\n",
        "  if i.isupper() : \n",
        "    print(i)\n",
        "  else:\n",
        "    pass\n"
      ],
      "metadata": {
        "colab": {
          "base_uri": "https://localhost:8080/"
        },
        "id": "bViNhVJZlKvP",
        "outputId": "484c7946-e24d-431a-e66c-39d0e50278a3"
      },
      "execution_count": 46,
      "outputs": [
        {
          "output_type": "stream",
          "name": "stdout",
          "text": [
            "A\n",
            "D\n"
          ]
        }
      ]
    },
    {
      "cell_type": "code",
      "source": [
        "#156. 리스트에서 소문자만 화면에 출력하라. \n",
        "for i in string_list:\n",
        "  if i.islower():\n",
        "    print(i)\n",
        "  else:\n",
        "    pass"
      ],
      "metadata": {
        "colab": {
          "base_uri": "https://localhost:8080/"
        },
        "id": "TONXkFSYmbZ5",
        "outputId": "18fab2b2-28e4-4404-93ce-44a757608647"
      },
      "execution_count": 50,
      "outputs": [
        {
          "output_type": "stream",
          "name": "stdout",
          "text": [
            "b\n",
            "c\n"
          ]
        }
      ]
    },
    {
      "cell_type": "code",
      "source": [
        "#157. 이름의 첫 글자를 대문자로 변경해서 출력하라. \n",
        "string_list=['dog', 'cat', 'parrot']\n",
        "\n",
        "for i in string_list:\n",
        "  print(i[0].upper()+i[1:])"
      ],
      "metadata": {
        "colab": {
          "base_uri": "https://localhost:8080/"
        },
        "id": "NaF1_oxVnw-G",
        "outputId": "85273003-84fb-42fd-d041-40bec56c8f5b"
      },
      "execution_count": 52,
      "outputs": [
        {
          "output_type": "stream",
          "name": "stdout",
          "text": [
            "Dog\n",
            "Cat\n",
            "Parrot\n"
          ]
        }
      ]
    },
    {
      "cell_type": "code",
      "source": [
        "#158. 파일 이름이 저장된 리스트에서 확장자를 제거하고 파일 이름만 화면에 출력하라. \n",
        "string_list = ['hello.py', 'ex01.py', 'intro.hwp']\n",
        "dummy_list=[]\n",
        "for i in string_list:\n",
        "  dummy_list.append(i.split(\".\")[0])\n",
        "for j in dummy_list:\n",
        "  print(j)"
      ],
      "metadata": {
        "colab": {
          "base_uri": "https://localhost:8080/"
        },
        "id": "wD5ih_EEo2LN",
        "outputId": "783ddac1-006c-4549-b549-9dbfd0bdde2c"
      },
      "execution_count": 75,
      "outputs": [
        {
          "output_type": "stream",
          "name": "stdout",
          "text": [
            "hello\n",
            "ex01\n",
            "intro\n"
          ]
        }
      ]
    },
    {
      "cell_type": "code",
      "source": [
        "#159. 파일 이름이 저장된 리스트에서 확장자가 .h인 파일 이름을 출력하라. \n",
        "file_list = ['intra.h', 'intra.c', 'define.h', 'run.py']\n",
        "\n",
        "for i in  file_list:\n",
        "  if i[-2:] == \".h\":\n",
        "    print(i)\n",
        "  else:\n",
        "    pass"
      ],
      "metadata": {
        "colab": {
          "base_uri": "https://localhost:8080/"
        },
        "id": "ue9dZvHCqvTA",
        "outputId": "b0f25040-bd24-462b-e6fd-8098d6eec8a4"
      },
      "execution_count": 88,
      "outputs": [
        {
          "output_type": "stream",
          "name": "stdout",
          "text": [
            "intra.h\n",
            "define.h\n"
          ]
        }
      ]
    },
    {
      "cell_type": "code",
      "source": [
        "#160. 파일 이름이 저장된 리스트에서 확장자가 .h나 .c인 파일을 화면에 출력하라. \n",
        "file_list = ['intra.h', 'intra.c', 'define.h', 'run.py']\n",
        "\n",
        "for i in file_list:\n",
        "  if (i[-2:] == \".h\") or (i[-2:]==\".c\"):\n",
        "    print(i)\n",
        "  else:\n",
        "    pass"
      ],
      "metadata": {
        "colab": {
          "base_uri": "https://localhost:8080/"
        },
        "id": "LpQtQDH7rp75",
        "outputId": "77ac4940-e6a2-4e52-e5c3-f9ffe15d24bf"
      },
      "execution_count": 89,
      "outputs": [
        {
          "output_type": "stream",
          "name": "stdout",
          "text": [
            "intra.h\n",
            "intra.c\n",
            "define.h\n"
          ]
        }
      ]
    },
    {
      "cell_type": "code",
      "source": [
        "datetime.datetime.now()"
      ],
      "metadata": {
        "colab": {
          "base_uri": "https://localhost:8080/"
        },
        "id": "yjr4bfuat6dT",
        "outputId": "22e8b28a-063e-47ca-b403-e5c87acdaa05"
      },
      "execution_count": 90,
      "outputs": [
        {
          "output_type": "execute_result",
          "data": {
            "text/plain": [
              "datetime.datetime(2022, 8, 12, 11, 9, 50, 136671)"
            ]
          },
          "metadata": {},
          "execution_count": 90
        }
      ]
    },
    {
      "cell_type": "code",
      "source": [
        ""
      ],
      "metadata": {
        "id": "76AXNxGivv6n"
      },
      "execution_count": null,
      "outputs": []
    }
  ]
}