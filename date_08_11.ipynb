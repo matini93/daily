{
  "nbformat": 4,
  "nbformat_minor": 0,
  "metadata": {
    "colab": {
      "name": "date_08_11.ipynb",
      "provenance": []
    },
    "kernelspec": {
      "name": "python3",
      "display_name": "Python 3"
    },
    "language_info": {
      "name": "python"
    }
  },
  "cells": [
    {
      "cell_type": "code",
      "execution_count": 37,
      "metadata": {
        "id": "QkqSE5YTv7K0"
      },
      "outputs": [],
      "source": [
        "import datetime\n",
        "import pandas as pd \n",
        "import numpy as np "
      ]
    },
    {
      "cell_type": "code",
      "source": [
        "datetime.datetime.now()"
      ],
      "metadata": {
        "colab": {
          "base_uri": "https://localhost:8080/"
        },
        "id": "o9Il-8tG2cmL",
        "outputId": "97f76280-a795-47ec-ff06-21f73e970b1e"
      },
      "execution_count": 4,
      "outputs": [
        {
          "output_type": "execute_result",
          "data": {
            "text/plain": [
              "datetime.datetime(2022, 8, 11, 3, 2, 19, 619040)"
            ]
          },
          "metadata": {},
          "execution_count": 4
        }
      ]
    },
    {
      "cell_type": "code",
      "source": [
        "#121. 사용자로부터 문자 한 개를 입력받고, 소문자일 경우, 대문자로 대문자일 경우, 소문자로 변경해서 출력하라. \n",
        "from string import ascii_lowercase, ascii_uppercase\n",
        "\n",
        "alphabet = input(\"알파벳을 입력하세요. : \")\n",
        "\n",
        "if alphabet in list(ascii_uppercase) :\n",
        "  alphabet1 = alphabet.lower()\n",
        "  print(alphabet1)\n",
        "\n",
        "elif alphabet in list(ascii_lowercase):\n",
        "  alphabet2 = alphabet.upper()\n",
        "  print(alphabet2)"
      ],
      "metadata": {
        "colab": {
          "base_uri": "https://localhost:8080/"
        },
        "id": "apPJn13v2k5Z",
        "outputId": "b4e4e6b1-d89a-4288-e2e4-9708b9a91b8c"
      },
      "execution_count": 7,
      "outputs": [
        {
          "output_type": "stream",
          "name": "stdout",
          "text": [
            "알파벳을 입력하세요. : A\n",
            "a\n"
          ]
        }
      ]
    },
    {
      "cell_type": "code",
      "source": [
        "#122. 점수 구간에 해당하는 학점이 아래와 같이 정의되어 있다. 사용자로부터 score를 입력받아 \n",
        "#학점을 출력하라. \n",
        "\n",
        "point = int(input(\"점수를 입력하세요 : \"))\n",
        "\n",
        "if (point >= 81) and (point <= 100):\n",
        "  print(\"A\")\n",
        "elif (point >= 61) and (point <= 80):\n",
        "  print(\"B\")\n",
        "elif (point >= 41) and (point <= 60):\n",
        "  print(\"C\")\n",
        "elif (point >= 21) and (point <= 40):\n",
        "  print(\"D\")\n",
        "elif (point >= 0) and (point <= 20):\n",
        "  print(\"E\")"
      ],
      "metadata": {
        "colab": {
          "base_uri": "https://localhost:8080/"
        },
        "id": "SUc-P931S5xw",
        "outputId": "f2435c4d-d1e0-4ea1-ead1-eafa3e7be966"
      },
      "execution_count": 11,
      "outputs": [
        {
          "output_type": "stream",
          "name": "stdout",
          "text": [
            "점수를 입력하세요 : 50\n",
            "C\n"
          ]
        }
      ]
    },
    {
      "cell_type": "code",
      "source": [
        "#123. 사용자로부터 달러, 엔, 유로 또는 위안 금액을 입력받을 후 이를 원으로 변환하는 프로그램 작성하라. \n",
        "#각 통화별 환율은 다음과 같다. 사용자는 100달러, 1000엔, 13유로, 100위안 같이 금액과 통화명 사이에\n",
        "#공백을 넣어 입력한다고 가정한다. \n",
        "\n",
        "currency_list = [1167, 1.096, 1268, 171]\n",
        "c_name = input(\"화폐를 입력하세요 : \")\n",
        "currency = int(input(\"금액을 입력하세요 : \"))\n",
        "\n",
        "\n",
        "if (c_name == \"달러\"):\n",
        "  print(\"1달러 당 {}원\".format(currency*(currency_list[0]))\n",
        "\n",
        "# elif (c_name == \"엔\") :\n",
        "  # print(\"1엔 당 {}원\".format(currency*(currency_list[1]))\n",
        "\n",
        "elif (c_name == \"유로\"):\n",
        "  print(\"1유로 당 {}원\".format(currency*currency_list[2]))\n",
        "\n",
        "elif (c_name == \"위안\"):\n",
        "  print(\"1위안 당 {}원\".format(currency*currency_list[3]))"
      ],
      "metadata": {
        "colab": {
          "base_uri": "https://localhost:8080/",
          "height": 136
        },
        "id": "sdegbVAtWay1",
        "outputId": "afd01abe-4dc9-4d37-893f-418cef4c5d3a"
      },
      "execution_count": 1,
      "outputs": [
        {
          "output_type": "error",
          "ename": "SyntaxError",
          "evalue": "ignored",
          "traceback": [
            "\u001b[0;36m  File \u001b[0;32m\"<ipython-input-1-86897bede3de>\"\u001b[0;36m, line \u001b[0;32m16\u001b[0m\n\u001b[0;31m    elif (c_name == \"유로\"):\u001b[0m\n\u001b[0m       ^\u001b[0m\n\u001b[0;31mSyntaxError\u001b[0m\u001b[0;31m:\u001b[0m invalid syntax\n"
          ]
        }
      ]
    },
    {
      "cell_type": "code",
      "source": [
        "#124. 사용자로부터 세 개의 숫자를 입력 받은 후 가장 큰 숫자를 출력하라. \n",
        "num_list = []\n",
        "first_num = int(input(\"insert first number : \"))\n",
        "num_list.append(first_num)\n",
        "second_num = int(input(\"insert second number : \"))\n",
        "num_list.append(second_num)\n",
        "third_num = int(input(\"insert third number : \"))\n",
        "num_list.append(third_num)\n",
        "\n",
        "max_num = max(num_list)\n",
        "print(\"max number is : {}\".format(max_num))\n",
        "\n",
        "\n"
      ],
      "metadata": {
        "colab": {
          "base_uri": "https://localhost:8080/"
        },
        "id": "T8hI-mwBYp0u",
        "outputId": "7e095672-4b28-4e7b-cfa3-1cd6a34803ae"
      },
      "execution_count": 6,
      "outputs": [
        {
          "output_type": "stream",
          "name": "stdout",
          "text": [
            "insert first number : 10\n",
            "insert second number : 20\n",
            "insert third number : 30\n",
            "max number is : 30\n"
          ]
        }
      ]
    },
    {
      "cell_type": "markdown",
      "source": [
        ""
      ],
      "metadata": {
        "id": "f0l2bUQcOsP6"
      }
    },
    {
      "cell_type": "code",
      "source": [
        "#125. 휴대폰 번호 앞자리에 따라 통신사는 아래와 같이 구분된다. 사용자로부터 휴대전화 번호를 입력받고,\n",
        "#통신사를 출력하는 프로그램을 작성하라. \n",
        "num = input(\"answer phone number : \")\n",
        "dummy_num = num.split(\"-\")\n",
        "index_num = dummy_num[0]\n",
        "if index_num == '011' :\n",
        "  print(\"your telecom is SKT\")\n",
        "elif (index_num == '016') :\n",
        "  print(\"your telecom is KT\")\n",
        "elif index_num == '019' :\n",
        "  print(\"your telecom is LGU\")\n",
        "elif index_num == '010' :\n",
        "  print(\"your telecom is known\")\n",
        "else:\n",
        "  print(\"worng number\")\n"
      ],
      "metadata": {
        "colab": {
          "base_uri": "https://localhost:8080/"
        },
        "id": "VHX_iKCaMMaE",
        "outputId": "0391d627-9927-45cf-a927-17cadb99501b"
      },
      "execution_count": 22,
      "outputs": [
        {
          "output_type": "stream",
          "name": "stdout",
          "text": [
            "answer phone number : 011-5876-5983\n",
            "your telecom is SKT\n"
          ]
        }
      ]
    },
    {
      "cell_type": "code",
      "source": [
        "#126. 우편번호는 5자리로 구성되는데, 앞의 세자리는 구를 나타낸다. 예를 들어, 강북구의 경우,\n",
        "#010,011,012 세자리로 시작한다. 사용자로부터 5자리우편번호를 받고 구를 판별하라. \n",
        "\n",
        "num = input(\"우편번호를 입력하세요 : \")\n",
        "target = num[:3]\n",
        "one_list = ['010', '011', '012']\n",
        "two_list = ['013', '014', '015']\n",
        "three_list = ['016', '017','018','019']\n",
        "if target in one_list:\n",
        "  print(\"강북구\")\n",
        "\n",
        "elif target in two_list :\n",
        "  print(\"도봉구\")\n",
        "\n",
        "elif target in three_list:\n",
        "  print(\"노원구\")\n"
      ],
      "metadata": {
        "colab": {
          "base_uri": "https://localhost:8080/"
        },
        "id": "cBEdgClNPFRU",
        "outputId": "b267a5cb-056a-4877-b102-83f265abc531"
      },
      "execution_count": 35,
      "outputs": [
        {
          "output_type": "stream",
          "name": "stdout",
          "text": [
            "우편번호를 입력하세요 : 01612\n",
            "노원구\n"
          ]
        }
      ]
    },
    {
      "cell_type": "code",
      "source": [
        "#127. 주민등록번호 뒷 자리 7자리중 첫째 자리는 성별을 나타냄. 1,3은 남자. 2,4는 \n",
        "#여자를 의미한다. 사용자로부터 12자리의 주민등록번호를 입력 받은 후 성별을 출력하는\n",
        "#프로그램을 작성하라. \n",
        "num = input(\"주민등록번호를 입력하세요 : \")\n",
        "target = num.split(\"-\")[1]\n",
        "\n",
        "if (target[0] == \"1\") or (target[0]== \"3\"):\n",
        "  print(\"당신은 남자 입니다.\")\n",
        "else:\n",
        "  print(\"당신은 여자 입니다.\")\n"
      ],
      "metadata": {
        "colab": {
          "base_uri": "https://localhost:8080/"
        },
        "id": "0R2Oca3aPi3K",
        "outputId": "ef8560e9-87b1-44bf-935e-41204665dee0"
      },
      "execution_count": 29,
      "outputs": [
        {
          "output_type": "stream",
          "name": "stdout",
          "text": [
            "주민등록번호를 입력하세요930928-1059317\n",
            "당신은 남자 입니다.\n"
          ]
        }
      ]
    },
    {
      "cell_type": "code",
      "source": [
        "#128. 주민등록번호 뒷 자리 7자리 중 두번째와 세번째는 지역코드를 의미한다. 주민등록번호를 \n",
        "#입력 받은 후 출생지가 서울인지 아닌지 판단하는 코드를 작성하라. \n",
        "num_list = []\n",
        "for i in range(0,9):\n",
        "  num = \"0\"+str(i)\n",
        "  num_list.append(num)\n",
        "\n",
        "index_num = input(\"주민번호를 입력하세요 : \")\n",
        "target = index_num.split(\"-\")[1][1:3]\n",
        "\n",
        "if target in num_list:\n",
        "  print(\"서울입니다\")\n",
        "else:\n",
        "  print(\"서울이 아닙니다.\")\n"
      ],
      "metadata": {
        "colab": {
          "base_uri": "https://localhost:8080/"
        },
        "id": "tIbcm1uFTzZH",
        "outputId": "28d1f57f-8cae-4594-ff48-60ab86dc1a6e"
      },
      "execution_count": 50,
      "outputs": [
        {
          "output_type": "stream",
          "name": "stdout",
          "text": [
            "주민번호를 입력하세요 : 930928-1059317\n",
            "서울입니다\n"
          ]
        }
      ]
    },
    {
      "cell_type": "code",
      "source": [
        "#129. 주민등록번호는 13자리로 구성되는 마지막 자리수는 주민등록번호의 유효성을 체크하는데 사용 \n",
        "#먼저 앞에서부터 12자리의 숫자에 2,3,4,5,6,7,8,92,3,4,5를 차례로 곱한 뒤 그 값을 전부 더 한다. \n",
        "#연산 결과값을 11로 나누면 나머지가 나오는데 11에서 나머지를 뺀 값이 주민등록번호의 마지막\n",
        "#번호가 된다. 주민등록번호의 유효성을 나타내는 프로그램을 작성하라. \n",
        "\n"
      ],
      "metadata": {
        "colab": {
          "base_uri": "https://localhost:8080/"
        },
        "id": "qqoxDofuTgIt",
        "outputId": "5328d9b3-4a0f-42d1-9f63-3472eaa1eabd"
      },
      "execution_count": 51,
      "outputs": [
        {
          "output_type": "execute_result",
          "data": {
            "text/plain": [
              "['00', '01', '02', '03', '04', '05', '06', '07', '08']"
            ]
          },
          "metadata": {},
          "execution_count": 51
        }
      ]
    },
    {
      "cell_type": "code",
      "source": [
        "#130. btc 딕셔너리 안에는 시가, 종가, 최고가. 최저가 등이 저장되어 있다. 최저가와 최고가의 차이를 변동폭으로 정의할 때, (시가 + 변동폭)이 최고가 보다 높을 경우 \n",
        "#\"상승장\", 그렇지 않을 경우 '하락장'문자열을 출력하라. \n",
        "import requests\n",
        "btc = requests.get(\"https://api.bithumb.com/public/ticker/\").json()['data']"
      ],
      "metadata": {
        "id": "QyBIGuQhhs8t"
      },
      "execution_count": 54,
      "outputs": []
    },
    {
      "cell_type": "code",
      "source": [
        "btc[\"opening_price\"]\n",
        "btc['closing_price']\n",
        "btc['min_price']\n",
        "btc['max_price']"
      ],
      "metadata": {
        "colab": {
          "base_uri": "https://localhost:8080/"
        },
        "id": "Fx4INMfbmUpN",
        "outputId": "fbfe91b9-b67c-4b60-d80b-b22d61644c57"
      },
      "execution_count": 55,
      "outputs": [
        {
          "output_type": "execute_result",
          "data": {
            "text/plain": [
              "{'acc_trade_value': '93280645900.1368',\n",
              " 'acc_trade_value_24H': '139401896951.3201',\n",
              " 'closing_price': '32489000',\n",
              " 'date': '1660216284723',\n",
              " 'fluctate_24H': '1631000',\n",
              " 'fluctate_rate_24H': '5.28',\n",
              " 'max_price': '32665000',\n",
              " 'min_price': '31174000',\n",
              " 'opening_price': '31736000',\n",
              " 'prev_closing_price': '31734000',\n",
              " 'units_traded': '2915.88368492',\n",
              " 'units_traded_24H': '4373.48705291'}"
            ]
          },
          "metadata": {},
          "execution_count": 55
        }
      ]
    },
    {
      "cell_type": "code",
      "source": [
        ""
      ],
      "metadata": {
        "id": "4qqtKgfenGOB"
      },
      "execution_count": null,
      "outputs": []
    }
  ]
}