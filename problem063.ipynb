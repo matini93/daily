{
  "nbformat": 4,
  "nbformat_minor": 0,
  "metadata": {
    "colab": {
      "name": "Untitled3.ipynb",
      "provenance": [],
      "collapsed_sections": []
    },
    "kernelspec": {
      "name": "python3",
      "display_name": "Python 3"
    },
    "language_info": {
      "name": "python"
    }
  },
  "cells": [
    {
      "cell_type": "code",
      "source": [
        "import datetime \n",
        "import numpy as np\n",
        "import pandas as pd "
      ],
      "metadata": {
        "id": "RXzVUWiEQgR8"
      },
      "execution_count": null,
      "outputs": []
    },
    {
      "cell_type": "code",
      "source": [
        "datetime.datetime.now()"
      ],
      "metadata": {
        "colab": {
          "base_uri": "https://localhost:8080/"
        },
        "id": "aQIYjrIYQrZW",
        "outputId": "1d470c5a-9cf0-4c2b-8a0c-b0f64f95d8ef"
      },
      "execution_count": null,
      "outputs": [
        {
          "output_type": "execute_result",
          "data": {
            "text/plain": [
              "datetime.datetime(2022, 8, 4, 5, 45, 39, 608733)"
            ]
          },
          "metadata": {},
          "execution_count": 3
        }
      ]
    },
    {
      "cell_type": "code",
      "execution_count": null,
      "metadata": {
        "colab": {
          "base_uri": "https://localhost:8080/"
        },
        "id": "EZ4n1n0JCkoG",
        "outputId": "61dc6b86-bcb1-43ec-8cd2-a6677481cef5"
      },
      "outputs": [
        {
          "output_type": "stream",
          "name": "stdout",
          "text": [
            "hello world\n",
            "mary's cosmetics\n",
            "신씨가 소리질렀다. \"도둑이야\".\n",
            "C:＼Windows\n",
            "안녕하세요.\n",
            "만나서\t\t반갑습니다.\n",
            "'\t' : 탭 \n",
            " '\n",
            "' : 줄 바꾸기\n"
          ]
        }
      ],
      "source": [
        "#001.화면에 hello world 문자열을 출력하세요.\n",
        "print(\"hello world\")\n",
        "\n",
        "#002. 화면에 mary's cosmetics을 출력하세요\n",
        "print(\"mary's cosmetics\")\n",
        "\n",
        "#003. 화면에 아래 문장을 출력하세요.\n",
        "print(\"신씨가 소리질렀다. \\\"도둑이야\\\".\") #문자열안에 \"\",'' 기호를 넣을려면 \"\\\"과 같이 표기한다. \n",
        "\n",
        "#004. 화면에 \"C:\\Windows\"를 출력하세요.\n",
        "print(\"C:＼Windows\")\n",
        "\n",
        "#005. 다음코드를 실행해보고 \\t와 \\n의 역할을 설명해보세요.\n",
        "print(\"안녕하세요.\\n만나서\\t\\t반갑습니다.\")\n",
        "\n",
        "print(\"'\\t' : 탭 \\n '\\n' : 줄 바꾸기\")"
      ]
    },
    {
      "cell_type": "code",
      "source": [
        "#006. print()함수에 두 개의 단어를 입력한 예제입니다. 아래 코드의 출력 결과를 예상해봅시다. \n",
        "print(\"오늘은\",\"일요일\")\n",
        "\n",
        "#007. print()함수를 사용하여 다음과 같이 출력하세요. \n",
        "print(\"naver;kakao;sk;samsung\")\n",
        "print(\"naver\",\"kakao\",\"sk\",'samsung',sep=\";\")\n",
        "\n",
        "#008. print() 함수를 이용하여 다음과 같이 출력하세요.\n",
        "#naver/kakao/sk/samsung\n",
        "print(\"naver\",\"kakao\",\"sk\",'samsung',sep=\"/\")\n",
        "\n",
        "#009. 다음 코드를 수정하여 줄바꿈없이 출력하세요. print() 함수는 두 번 사용합니다.\n",
        "#세미콜론은 한줄에 여러 개의 명령을 작성하기 위해서 사용합니다. \n",
        "print(\"first\",end=\"\");print(\"second\") #print()함수 내에 end 옵션을 주어 이어지게 한다. \n",
        "\n",
        "#010. 5/3의 결과를 화면에 출력하세요 \n",
        "sol = 5/3\n",
        "print(\"5/3 :%.3f\"%sol)"
      ],
      "metadata": {
        "colab": {
          "base_uri": "https://localhost:8080/"
        },
        "id": "VoOrh8JWDIm2",
        "outputId": "90dce2c2-0054-4dae-85f2-3be05e1a8096"
      },
      "execution_count": null,
      "outputs": [
        {
          "output_type": "stream",
          "name": "stdout",
          "text": [
            "오늘은 일요일\n",
            "naver;kakao;sk;samsung\n",
            "naver;kakao;sk;samsung\n",
            "naver/kakao/sk/samsung\n",
            "firstsecond\n",
            "5/3 :1.667\n"
          ]
        }
      ]
    },
    {
      "cell_type": "code",
      "source": [
        "#011. 삼성전자라는 변수로 50,000원을 바인딩해보세요. 삼성전자 주식 10주를 보유하고 있을 때,\n",
        "#총 평가금액을 출력하세요.\n",
        "삼성전자 = 50000\n",
        "주식_수 = 10\n",
        "print(삼성전자*주식_수)"
      ],
      "metadata": {
        "colab": {
          "base_uri": "https://localhost:8080/"
        },
        "id": "RZIs14tlFil9",
        "outputId": "e43f498c-02b9-4c81-8411-48bbf83566af"
      },
      "execution_count": null,
      "outputs": [
        {
          "output_type": "stream",
          "name": "stdout",
          "text": [
            "500000\n"
          ]
        }
      ]
    },
    {
      "cell_type": "code",
      "source": [
        "#012. 다음 표는 삼성전자의 일부 투자정보입니다. 변수를 사용해서 시가총액, 현재가, PER 등을 바인딩해보세요\n"
      ],
      "metadata": {
        "id": "EzgAzXNMJMMN"
      },
      "execution_count": null,
      "outputs": []
    },
    {
      "cell_type": "code",
      "source": [
        "#013. 문자열 출력\n",
        "#변수 s와 t에는 각각 문자열이 바인딩 되어 있습니다. \n",
        "#두 변수를 이용하여 아래와 같이 출력해보세요.\n",
        "s = \"hello\"\n",
        "t = \"python\"\n",
        "\n",
        "print(s,\"!\",t) #틀림\n",
        "print(s+\"!\",t)"
      ],
      "metadata": {
        "colab": {
          "base_uri": "https://localhost:8080/"
        },
        "id": "DUuys81BK1Dc",
        "outputId": "5d0704ab-bd80-4b85-e428-0d3f150234f5"
      },
      "execution_count": null,
      "outputs": [
        {
          "output_type": "stream",
          "name": "stdout",
          "text": [
            "hello ! python\n",
            "hello! python\n"
          ]
        }
      ]
    },
    {
      "cell_type": "code",
      "source": [
        "#014. 파이썬을 이용한 값 계산 \n",
        "#아래 코드의 실행 결과를 예상해보세요 \n",
        "#정답은 8을 예상한다. \n",
        "2 + 2 * 3"
      ],
      "metadata": {
        "colab": {
          "base_uri": "https://localhost:8080/"
        },
        "id": "7UiyPKAwLK2L",
        "outputId": "8e1567ef-9ed0-41c1-d6de-602d76fbda13"
      },
      "execution_count": null,
      "outputs": [
        {
          "output_type": "execute_result",
          "data": {
            "text/plain": [
              "8"
            ]
          },
          "metadata": {},
          "execution_count": 44
        }
      ]
    },
    {
      "cell_type": "code",
      "source": [
        "#015. type()함수는 데이터 타입을 판별합니다. 변수 a에는 128숫자가 바인딩돼 있어 type함수가 int(정수)형임\n",
        "#을 알려줍니다. a = 128 이 할당되어있는 값의 타입을 판별해보세요.\n",
        "\n",
        "a = 132 \n",
        "print(type(a))"
      ],
      "metadata": {
        "colab": {
          "base_uri": "https://localhost:8080/"
        },
        "id": "dbkniSOQLfoI",
        "outputId": "885cb2e1-9525-4348-960c-5aa485827d93"
      },
      "execution_count": null,
      "outputs": [
        {
          "output_type": "stream",
          "name": "stdout",
          "text": [
            "<class 'int'>\n"
          ]
        }
      ]
    },
    {
      "cell_type": "code",
      "source": [
        "#016. 문자열 '720'을 정수형으로 변환해보세요.\n",
        "num_str = \"720\"\n",
        "num_str = int(num_str)\n",
        "print(type(num_str))\n",
        "print(num_str+1, type(num_str))"
      ],
      "metadata": {
        "colab": {
          "base_uri": "https://localhost:8080/"
        },
        "id": "lj8rryX8MDrQ",
        "outputId": "cb254107-24a7-40c1-ff77-8b6d40a592a0"
      },
      "execution_count": null,
      "outputs": [
        {
          "output_type": "stream",
          "name": "stdout",
          "text": [
            "<class 'int'>\n",
            "721 <class 'int'>\n"
          ]
        }
      ]
    },
    {
      "cell_type": "code",
      "source": [
        "#017. 정수 100을 문자열 \"100\"으로 변환해보세요.\n",
        "num = 100\n",
        "result = str(num)\n",
        "print(result, type(result))\n"
      ],
      "metadata": {
        "colab": {
          "base_uri": "https://localhost:8080/",
          "height": 227
        },
        "id": "v9c1SkjpMYx_",
        "outputId": "9418d420-4f1c-4806-a491-3e66a1f55ff6"
      },
      "execution_count": null,
      "outputs": [
        {
          "output_type": "error",
          "ename": "TypeError",
          "evalue": "ignored",
          "traceback": [
            "\u001b[0;31m---------------------------------------------------------------------------\u001b[0m",
            "\u001b[0;31mTypeError\u001b[0m                                 Traceback (most recent call last)",
            "\u001b[0;32m<ipython-input-62-f83afa66df49>\u001b[0m in \u001b[0;36m<module>\u001b[0;34m()\u001b[0m\n\u001b[1;32m      1\u001b[0m \u001b[0;31m#017. 정수 100을 문자열 \"100\"으로 변환해보세요.\u001b[0m\u001b[0;34m\u001b[0m\u001b[0;34m\u001b[0m\u001b[0;34m\u001b[0m\u001b[0m\n\u001b[1;32m      2\u001b[0m \u001b[0mnum\u001b[0m \u001b[0;34m=\u001b[0m \u001b[0;36m100\u001b[0m\u001b[0;34m\u001b[0m\u001b[0;34m\u001b[0m\u001b[0m\n\u001b[0;32m----> 3\u001b[0;31m \u001b[0mresult\u001b[0m \u001b[0;34m=\u001b[0m \u001b[0mstr\u001b[0m\u001b[0;34m(\u001b[0m\u001b[0mnum\u001b[0m\u001b[0;34m)\u001b[0m\u001b[0;34m\u001b[0m\u001b[0;34m\u001b[0m\u001b[0m\n\u001b[0m\u001b[1;32m      4\u001b[0m \u001b[0mprint\u001b[0m\u001b[0;34m(\u001b[0m\u001b[0mresult\u001b[0m\u001b[0;34m,\u001b[0m \u001b[0mtype\u001b[0m\u001b[0;34m(\u001b[0m\u001b[0mresult\u001b[0m\u001b[0;34m)\u001b[0m\u001b[0;34m)\u001b[0m\u001b[0;34m\u001b[0m\u001b[0;34m\u001b[0m\u001b[0m\n",
            "\u001b[0;31mTypeError\u001b[0m: 'str' object is not callable"
          ]
        }
      ]
    },
    {
      "cell_type": "code",
      "source": [
        "#018. 문자열 \"15.79\"를 실수(float)타입으로 변환해보세요.\n",
        "str1 = \"15.79\"\n",
        "num3 = float(str1)\n",
        "print(num3, type(num3))"
      ],
      "metadata": {
        "colab": {
          "base_uri": "https://localhost:8080/"
        },
        "id": "pQjhFoidPqRJ",
        "outputId": "7d165d27-5870-4c00-8b3d-9042474c9d6a"
      },
      "execution_count": null,
      "outputs": [
        {
          "output_type": "stream",
          "name": "stdout",
          "text": [
            "15.79 <class 'float'>\n"
          ]
        }
      ]
    },
    {
      "cell_type": "code",
      "source": [
        "#019. year라는 변수가 문자열 타입의 연도를 바인딩하고 있습니다. 이를 정수로 변환한 후, 최근 3년의 연도를 \n",
        "#화면에 출력해보세요.\n",
        "year = \"2020\"\n",
        "year_int = int(year)\n",
        "print(year_int,year_int+1, year_int+2, sep=\",\")"
      ],
      "metadata": {
        "colab": {
          "base_uri": "https://localhost:8080/"
        },
        "id": "s-jQjM99OFkJ",
        "outputId": "8d94fc51-0d2a-4ec7-9046-4cebe7b244b9"
      },
      "execution_count": null,
      "outputs": [
        {
          "output_type": "stream",
          "name": "stdout",
          "text": [
            "2020,2021,2022\n"
          ]
        }
      ]
    },
    {
      "cell_type": "code",
      "source": [
        "#020. 에어컨이 월 48,584원에 무이자 36개월의 조건으로 홈쇼핑에서 판매되고 있습니다. \n",
        "#총 금액은 계산한 후 이를 화면에 출력해보세요.(변수사용하기)\n",
        "per_cost = 48584\n",
        "month = 36\n",
        "print(\"total cost is :{}\".format(per_cost*month))\n"
      ],
      "metadata": {
        "colab": {
          "base_uri": "https://localhost:8080/"
        },
        "id": "01HV6NjLPlXR",
        "outputId": "c8feed27-1225-4c34-8edc-2cd12aa7c0ba"
      },
      "execution_count": null,
      "outputs": [
        {
          "output_type": "stream",
          "name": "stdout",
          "text": [
            "total cost is :1749024\n"
          ]
        }
      ]
    },
    {
      "cell_type": "code",
      "source": [
        "#021. 문자열 인덱싱\n",
        "#letters가 바인딩하는 문자열에서 첫번째와 세번째 문자를 출력하세요.\n",
        "letters = \"python\"\n",
        "\n",
        "print(letters[0],letters[2])"
      ],
      "metadata": {
        "colab": {
          "base_uri": "https://localhost:8080/"
        },
        "id": "R5BFA6EjQVBn",
        "outputId": "caed921b-2a5c-4e05-96db-7e4e5e22cd67"
      },
      "execution_count": null,
      "outputs": [
        {
          "output_type": "stream",
          "name": "stdout",
          "text": [
            "p t\n"
          ]
        }
      ]
    },
    {
      "cell_type": "code",
      "source": [
        "#022. 자동차 번호가 다음과 같을 때 뒤에 4자리만 출력하세요. \n",
        "license_plate = \"24가 2210\"\n",
        "print(len(license_plate))\n",
        "print(license_plate[4:])"
      ],
      "metadata": {
        "colab": {
          "base_uri": "https://localhost:8080/"
        },
        "id": "H81_TclISbBZ",
        "outputId": "b3461945-135f-4948-fada-63eb5cd24e3f"
      },
      "execution_count": null,
      "outputs": [
        {
          "output_type": "stream",
          "name": "stdout",
          "text": [
            "8\n",
            "2210\n"
          ]
        }
      ]
    },
    {
      "cell_type": "code",
      "source": [
        "#023. 아래의 문자열에서 \"홀\"만 출력하세요.\n",
        "string = \"홀짝홀짝홀짝\"\n",
        "\n",
        "print(string[0],string[2],string[4],sep=\"\")\n",
        "print(\"=\"*20)\n",
        "for i in range(6):\n",
        "  if (i%2 == 0):\n",
        "    print(string[i],end=\"\")\n",
        "  else:\n",
        "    pass\n",
        "print(\"\\n\")\n",
        "print(\"=\"*20)\n",
        "print(string[::2])"
      ],
      "metadata": {
        "colab": {
          "base_uri": "https://localhost:8080/"
        },
        "id": "L_c5K3D-S1ue",
        "outputId": "bc4f0473-0f58-4195-e7cc-a87bbbeb520a"
      },
      "execution_count": null,
      "outputs": [
        {
          "output_type": "stream",
          "name": "stdout",
          "text": [
            "홀홀홀\n",
            "====================\n",
            "홀홀홀\n",
            "\n",
            "====================\n",
            "홀홀홀\n"
          ]
        }
      ]
    },
    {
      "cell_type": "code",
      "source": [
        "#024. 문자열을 거꾸로 뒤집어 출력하세요.\n",
        "string=\"PYTHON\"\n",
        "print(string[::-1])"
      ],
      "metadata": {
        "id": "LbykqlNfTaWU",
        "colab": {
          "base_uri": "https://localhost:8080/"
        },
        "outputId": "2283400a-4bc9-42af-c10e-270fb457681f"
      },
      "execution_count": null,
      "outputs": [
        {
          "output_type": "stream",
          "name": "stdout",
          "text": [
            "NOHTYP\n"
          ]
        }
      ]
    },
    {
      "cell_type": "code",
      "source": [
        "#025. 아래의 전화번호에서 하이푼(\"-\")을 제거하고 출력하세요.\n",
        "phone_number = \"010-1111-2222\"\n",
        "phone_number = phone_number.replace(\"-\",\" \")\n",
        "phone_number"
      ],
      "metadata": {
        "colab": {
          "base_uri": "https://localhost:8080/",
          "height": 35
        },
        "id": "aQsC_lOoBI2L",
        "outputId": "d2686f37-8837-4cd1-b710-aed3be1a8ff6"
      },
      "execution_count": null,
      "outputs": [
        {
          "output_type": "execute_result",
          "data": {
            "text/plain": [
              "'010 1111 2222'"
            ],
            "application/vnd.google.colaboratory.intrinsic+json": {
              "type": "string"
            }
          },
          "metadata": {},
          "execution_count": 22
        }
      ]
    },
    {
      "cell_type": "code",
      "source": [
        "#026. 25번 문제의 번화번호를 아래와 같이 모두 붙여 출력하세요.\n",
        "phone_number = \"010-1111-2222\"\n",
        "phone_number = phone_number.replace(\"-\",\"\")\n",
        "phone_number"
      ],
      "metadata": {
        "colab": {
          "base_uri": "https://localhost:8080/",
          "height": 35
        },
        "id": "6iAgDwt3Cjvg",
        "outputId": "a8fcdd7e-e9d7-4685-98f5-580f19763da0"
      },
      "execution_count": null,
      "outputs": [
        {
          "output_type": "execute_result",
          "data": {
            "text/plain": [
              "'01011112222'"
            ],
            "application/vnd.google.colaboratory.intrinsic+json": {
              "type": "string"
            }
          },
          "metadata": {},
          "execution_count": 23
        }
      ]
    },
    {
      "cell_type": "code",
      "source": [
        "#027. url에 저장된 웹 페이지 주소에서 도메인을 출력하세요.\n",
        "url = \"http://sharebook.kr\"\n",
        "print(url[-2:])\n",
        "print(\"=\"*20)\n",
        "url_split = url.split(\".\")\n",
        "print(url_split)\n",
        "print(url_split[-1])"
      ],
      "metadata": {
        "colab": {
          "base_uri": "https://localhost:8080/"
        },
        "id": "4k3RgKXeC2_a",
        "outputId": "56c9a1ed-d40e-4c09-a7de-77cef749d50f"
      },
      "execution_count": null,
      "outputs": [
        {
          "output_type": "stream",
          "name": "stdout",
          "text": [
            "kr\n",
            "====================\n",
            "['http://sharebook', 'kr']\n",
            "kr\n"
          ]
        }
      ]
    },
    {
      "cell_type": "code",
      "source": [
        "028. #아래 코드의 실행 결과를 예상해보세요.\n",
        "try:\n",
        "  lang = \"python\"\n",
        "  lang[0] = \"P\"\n",
        "  print(p)\n",
        "  print(\"=\"*40)\n",
        "except:\n",
        "  pass\n",
        "print(\"p가 P로 변경될 것이다.\")\n",
        "print(\"=\"*40)\n",
        "print(\"실행되지 않는다.\")\n",
        "print(\"=\"*40)\n",
        "print(\"문자열은 수정할 수 없다.\")"
      ],
      "metadata": {
        "colab": {
          "base_uri": "https://localhost:8080/"
        },
        "id": "-NFMwQB7DuUk",
        "outputId": "239a2726-5681-47e1-c67b-d220fab8eb4d"
      },
      "execution_count": null,
      "outputs": [
        {
          "output_type": "stream",
          "name": "stdout",
          "text": [
            "p가 P로 변경될 것이다.\n",
            "========================================\n",
            "실행되지 않는다.\n",
            "========================================\n",
            "문자열은 수정할 수 없다.\n"
          ]
        }
      ]
    },
    {
      "cell_type": "code",
      "source": [
        "#029. 아래 문자열에서 소문자'a'를 대문자'A'로 변경하세요.\n",
        "string = 'abcdfe2a354a32a'\n",
        "replace_string = string.replace(\"a\",\"A\")\n",
        "replace_string"
      ],
      "metadata": {
        "colab": {
          "base_uri": "https://localhost:8080/",
          "height": 35
        },
        "id": "qkNRWDSHFAcg",
        "outputId": "135a2f31-76cb-4d11-f470-c8d171fad1a4"
      },
      "execution_count": null,
      "outputs": [
        {
          "output_type": "execute_result",
          "data": {
            "text/plain": [
              "'Abcdfe2A354A32A'"
            ],
            "application/vnd.google.colaboratory.intrinsic+json": {
              "type": "string"
            }
          },
          "metadata": {},
          "execution_count": 40
        }
      ]
    },
    {
      "cell_type": "code",
      "source": [
        "#030. 아래 코드의 실행 결과를 예상해보세요.\n",
        "string = \"abcd\"\n",
        "string.replace('b',\"B\")\n",
        "print(\"=\"*40)\n",
        "print('예상 : aBcd가 출력될 것이다.')\n",
        "print(\"=\"*40)\n",
        "print(string)\n",
        "print(\"문자열은 치환될 수 없기 때문에 그대로 출력된다.\")\n"
      ],
      "metadata": {
        "id": "KBONk3-QGGeH",
        "colab": {
          "base_uri": "https://localhost:8080/"
        },
        "outputId": "6d1239cb-ea16-4450-ecd1-3cf6cad6d7ab"
      },
      "execution_count": null,
      "outputs": [
        {
          "output_type": "stream",
          "name": "stdout",
          "text": [
            "========================================\n",
            "예상 : aBcd가 출력될 것이다.\n",
            "========================================\n",
            "abcd\n",
            "문자열은 치환될 수 없기 때문에 그대로 출력된다.\n"
          ]
        }
      ]
    },
    {
      "cell_type": "code",
      "source": [
        "#031. 아래 코드의 실행 결과를 예상해보세요.\n",
        "a = '3'\n",
        "b = \"4\"\n",
        "print(\"=\"*40)\n",
        "print(a + b)\n",
        "print(\"=\"*40)\n",
        "print(34)\n",
        "print(\"3, 4가 문자열로 할당되었기 때문이다.\")"
      ],
      "metadata": {
        "colab": {
          "base_uri": "https://localhost:8080/"
        },
        "id": "2mESxFqyaBjo",
        "outputId": "323d0b10-8f00-4978-da20-6dba64af4654"
      },
      "execution_count": null,
      "outputs": [
        {
          "output_type": "stream",
          "name": "stdout",
          "text": [
            "========================================\n",
            "34\n",
            "========================================\n",
            "34\n",
            "3, 4가 문자열로 할당되었기 때문이다.\n"
          ]
        }
      ]
    },
    {
      "cell_type": "code",
      "source": [
        "#032. 아래 코드의 실행 결과를 예상해보세요.\n",
        "print(\"실행결과\")\n",
        "print(\"-\"*40)\n",
        "print(\"Hi\"*3)\n",
        "print(\"=\"*40)\n",
        "print(\"HiHiHi\")\n",
        "print(\"=\"*40)"
      ],
      "metadata": {
        "colab": {
          "base_uri": "https://localhost:8080/"
        },
        "id": "Iixjuu6Aa_Q2",
        "outputId": "9d7d02ed-ce6a-4c2d-f070-57cf8e503e61"
      },
      "execution_count": null,
      "outputs": [
        {
          "output_type": "stream",
          "name": "stdout",
          "text": [
            "실행결과\n",
            "----------------------------------------\n",
            "HiHiHi\n",
            "========================================\n",
            "HiHiHi\n",
            "========================================\n"
          ]
        }
      ]
    },
    {
      "cell_type": "code",
      "source": [
        "import datetime\n",
        "\n",
        "datetime.datetime.now()"
      ],
      "metadata": {
        "colab": {
          "base_uri": "https://localhost:8080/"
        },
        "id": "EgMdCdpRb5uN",
        "outputId": "e255bd61-85a2-4040-8453-df45267095f7"
      },
      "execution_count": null,
      "outputs": [
        {
          "output_type": "execute_result",
          "data": {
            "text/plain": [
              "datetime.datetime(2022, 8, 4, 1, 19, 51, 347885)"
            ]
          },
          "metadata": {},
          "execution_count": 7
        }
      ]
    },
    {
      "cell_type": "code",
      "source": [
        "#033. 화면에 '-'를 80개 출력하세요\n",
        "print(\"-\"*80)"
      ],
      "metadata": {
        "colab": {
          "base_uri": "https://localhost:8080/"
        },
        "id": "3Ao3pF_Ib-Bz",
        "outputId": "09726573-b098-4810-a966-b6f2b1c0d390"
      },
      "execution_count": null,
      "outputs": [
        {
          "output_type": "stream",
          "name": "stdout",
          "text": [
            "--------------------------------------------------------------------------------\n"
          ]
        }
      ]
    },
    {
      "cell_type": "code",
      "source": [
        "#034.변수에 다음과 같은 문자열이 바인딩되어 있다. \n",
        "#변수에 문자열 더하기와 문자열 곱하기를 사용해서 아래와 같이 출력해보시오.\n",
        "t1 = 'python'\n",
        "t2 = 'java'\n",
        "print((t1+\" \"+t2+\" \")*3) "
      ],
      "metadata": {
        "colab": {
          "base_uri": "https://localhost:8080/"
        },
        "id": "oYK-i7pgdaAN",
        "outputId": "8be48d0d-7c3c-48df-aa7d-bd897b414f01"
      },
      "execution_count": null,
      "outputs": [
        {
          "output_type": "stream",
          "name": "stdout",
          "text": [
            "python java python java python java \n"
          ]
        }
      ]
    },
    {
      "cell_type": "code",
      "source": [
        "#035. 변수에 다음과 같이 문자열과 정수가 바인딩되어 있을 때 %formatting을 사용해서 다음과 같이 출력해보세요.\n",
        "name1 = \"김민수\"\n",
        "age1 = 10\n",
        "name2 = \"이철희\"\n",
        "age2 = 13\n",
        "\n",
        "print(\"이름 : {} 나이 : {}\".format(name1, age1))\n",
        "print(\"이름 : {} 나이 : {}\".format(name2, age2))\n",
        "\n",
        "print(\"=\"*40)\n",
        "print(\"정답\")\n",
        "print(\"=\"*40)\n",
        "print(\"이름 : %s 나이: %d\" %(name1,age1))\n",
        "print(\"이름 : %s 나이: %d\" %(name2,age2))"
      ],
      "metadata": {
        "colab": {
          "base_uri": "https://localhost:8080/"
        },
        "id": "RtOYqFqleac7",
        "outputId": "35de4c97-75e4-40c0-a2e4-3fb25d47fd9d"
      },
      "execution_count": null,
      "outputs": [
        {
          "output_type": "stream",
          "name": "stdout",
          "text": [
            "이름 : 김민수 나이 : 10\n",
            "이름 : 이철희 나이 : 13\n",
            "========================================\n",
            "정답\n",
            "========================================\n",
            "이름 : 김민수 나이: 10\n",
            "이름 : 이철희 나이: 13\n"
          ]
        }
      ]
    },
    {
      "cell_type": "code",
      "source": [
        "#036. 문자열의 format()매서드를 사용해서 35번 문제를 다시 풀어보세요."
      ],
      "metadata": {
        "id": "1HVWxtV9gdTZ"
      },
      "execution_count": null,
      "outputs": []
    },
    {
      "cell_type": "code",
      "source": [
        "#037. 파이썬 3.6부터 지원하는 f-string을 사용해서 035번 문제를 다시 풀어보세요.\n",
        "print(f'이름 :%s 나이 : %d'%(name1, age1))\n",
        "print(f'이름 :%s 나이 : %d'%(name2, age2))"
      ],
      "metadata": {
        "colab": {
          "base_uri": "https://localhost:8080/"
        },
        "id": "JggpeUlsmxCq",
        "outputId": "a3d54680-5599-46d4-91ee-bee5549e15fa"
      },
      "execution_count": null,
      "outputs": [
        {
          "output_type": "stream",
          "name": "stdout",
          "text": [
            "이름 :김민수 나이 : 10\n",
            "이름 :이철희 나이 : 13\n"
          ]
        }
      ]
    },
    {
      "cell_type": "code",
      "source": [
        "#038. 삼성전자의 상장주식수가 다음과 같습니다. 컴마를 제거한 후 이를 정수 타임으로 변환하라. \n",
        "상장주식수 = \"5,969,782,550\"\n",
        "상장주식수 = int(상장주식수.replace(\",\",\"\"))\n",
        "print(상장주식수)"
      ],
      "metadata": {
        "colab": {
          "base_uri": "https://localhost:8080/"
        },
        "id": "tO5qaLQknI6V",
        "outputId": "18b7a850-aa23-4c40-c9c4-0c517b93b869"
      },
      "execution_count": null,
      "outputs": [
        {
          "output_type": "stream",
          "name": "stdout",
          "text": [
            "5969782550\n"
          ]
        }
      ]
    },
    {
      "cell_type": "code",
      "source": [
        "#039. 다음과 같은 문자열에서 2020/03만 출력하세요.\n",
        "분기 = \"2020/03(E) (IFRS연결)\"\n",
        "분기[:7]"
      ],
      "metadata": {
        "colab": {
          "base_uri": "https://localhost:8080/",
          "height": 35
        },
        "id": "lujGgQNhon0c",
        "outputId": "bfbf3e16-4700-44f4-dfe0-0ea9c81729e7"
      },
      "execution_count": null,
      "outputs": [
        {
          "output_type": "execute_result",
          "data": {
            "text/plain": [
              "'2020/03'"
            ],
            "application/vnd.google.colaboratory.intrinsic+json": {
              "type": "string"
            }
          },
          "metadata": {},
          "execution_count": 25
        }
      ]
    },
    {
      "cell_type": "code",
      "source": [
        "#040. 문자열의 좌우의 공백이 있을 때 제거해보세요. \n",
        "data = \"    삼성전자     \"\n",
        "data = data.replace(\" \",\"\")\n",
        "print(data)\n",
        "print(\"=\"*40)\n",
        "data1 = \"    삼성전자     \"\n",
        "data1 = data1.strip()\n",
        "print(data1)\n"
      ],
      "metadata": {
        "colab": {
          "base_uri": "https://localhost:8080/"
        },
        "id": "7COiw4k2pgLc",
        "outputId": "a7df8e2c-ef84-48dc-d525-00f2289e9e5c"
      },
      "execution_count": null,
      "outputs": [
        {
          "output_type": "stream",
          "name": "stdout",
          "text": [
            "삼성전자\n",
            "========================================\n",
            "삼성전자\n"
          ]
        }
      ]
    },
    {
      "cell_type": "code",
      "source": [
        "#041. 다음과 같은 문자열이 있을 때, 이를 대문자 BTC_KRW로 변경하세요.\n",
        "ticker = \"btc_krw\"\n",
        "ticker = ticker.upper()\n",
        "print(ticker)"
      ],
      "metadata": {
        "colab": {
          "base_uri": "https://localhost:8080/"
        },
        "id": "rykCFuttqS2B",
        "outputId": "981a585e-03eb-4617-bc46-e8db6d1c455f"
      },
      "execution_count": null,
      "outputs": [
        {
          "output_type": "stream",
          "name": "stdout",
          "text": [
            "BTC_KRW\n"
          ]
        }
      ]
    },
    {
      "cell_type": "code",
      "source": [
        "#042. 다음과 같은 문자열이 있을 때 이를 소문자 btc_krw로 변경하세요.\n",
        "ticker2 = ticker.lower()\n",
        "print(ticker2)"
      ],
      "metadata": {
        "colab": {
          "base_uri": "https://localhost:8080/"
        },
        "id": "3p3q0RzrrF23",
        "outputId": "445b382d-ccb7-4d99-a8c2-7ca802183392"
      },
      "execution_count": null,
      "outputs": [
        {
          "output_type": "stream",
          "name": "stdout",
          "text": [
            "btc_krw\n"
          ]
        }
      ]
    },
    {
      "cell_type": "code",
      "source": [
        "#043. capitalize, 문자열 \"hello\"가 있을 때 이를 \"Hello\"로 변경해보세요.\n",
        "str = \"hello\"\n",
        "str = str.capitalize()\n",
        "print(str)"
      ],
      "metadata": {
        "colab": {
          "base_uri": "https://localhost:8080/"
        },
        "id": "Tf-Ywdd0rZrc",
        "outputId": "751fb1f1-dfc5-4cd0-efa4-5c7c3984734b"
      },
      "execution_count": null,
      "outputs": [
        {
          "output_type": "stream",
          "name": "stdout",
          "text": [
            "Hello\n"
          ]
        }
      ]
    },
    {
      "cell_type": "code",
      "source": [
        "#044. endswith, 파일 이름이 문자열로 저장되어 있을 때 endswith메서드를 사용해서 파일이름이 \"xlsx\"로 \n",
        "#끝나는지 확인해보세요. \n",
        "file_name = \"보고서.xlsx\"\n",
        "file_name.endswith(\"xlsx\")"
      ],
      "metadata": {
        "colab": {
          "base_uri": "https://localhost:8080/"
        },
        "id": "kNtu6fGrsohT",
        "outputId": "4a25f500-59b6-44ba-ccab-9d8812aa8ed9"
      },
      "execution_count": null,
      "outputs": [
        {
          "output_type": "execute_result",
          "data": {
            "text/plain": [
              "True"
            ]
          },
          "metadata": {},
          "execution_count": 36
        }
      ]
    },
    {
      "cell_type": "code",
      "source": [
        "#045. 파일 이름이 문자열로 저장되어 있을 때 endswith 매서드를 사용해서 파일 이름이 \n",
        "# \"xlsx\" 또는 \"xls\"로 끝나는지 확인해보세요.\n",
        "file_name = \"보고서.xlsx\"\n",
        "file_name.endswith((\"xlsx\", \"xls\"))"
      ],
      "metadata": {
        "colab": {
          "base_uri": "https://localhost:8080/"
        },
        "id": "yXO5gPfFtdRN",
        "outputId": "8c598cb0-6b60-47c2-c08c-995d4e5a1c23"
      },
      "execution_count": null,
      "outputs": [
        {
          "output_type": "execute_result",
          "data": {
            "text/plain": [
              "True"
            ]
          },
          "metadata": {},
          "execution_count": 38
        }
      ]
    },
    {
      "cell_type": "code",
      "source": [
        "#046. startswith, 파일이름이 문자열로 저장되어 있을 때, startswith()를 사용해서 파일이름이 \n",
        "#\"2020\"로 시작하는지 확인해보세요. \n",
        "file_name = \"2020_보고서.xlsx\"\n",
        "file_name.startswith(\"2020\")"
      ],
      "metadata": {
        "colab": {
          "base_uri": "https://localhost:8080/"
        },
        "id": "479eZVtPv5tJ",
        "outputId": "074d66b2-df54-4ca5-dd28-c64d2f28b408"
      },
      "execution_count": null,
      "outputs": [
        {
          "output_type": "execute_result",
          "data": {
            "text/plain": [
              "True"
            ]
          },
          "metadata": {},
          "execution_count": 39
        }
      ]
    },
    {
      "cell_type": "code",
      "source": [
        "datetime.datetime.now()"
      ],
      "metadata": {
        "colab": {
          "base_uri": "https://localhost:8080/"
        },
        "id": "ucK0UaKdxsK-",
        "outputId": "8e839d34-68c2-4a65-8a91-3308f5252905"
      },
      "execution_count": null,
      "outputs": [
        {
          "output_type": "execute_result",
          "data": {
            "text/plain": [
              "datetime.datetime(2022, 8, 4, 7, 13, 18, 219414)"
            ]
          },
          "metadata": {},
          "execution_count": 88
        }
      ]
    },
    {
      "cell_type": "code",
      "source": [
        "#047. 다음과 같이 문자열이 있을 때 btc와 krw로 나눠보세요.\n",
        "\n",
        "ticker = \"btc_krw\"\n",
        "\n",
        "print(ticker.split('_'))"
      ],
      "metadata": {
        "colab": {
          "base_uri": "https://localhost:8080/"
        },
        "id": "frXElDJtWj4t",
        "outputId": "f7c723ac-7adc-4518-e3e5-a60976ed35e0"
      },
      "execution_count": null,
      "outputs": [
        {
          "output_type": "stream",
          "name": "stdout",
          "text": [
            "['btc', 'krw']\n"
          ]
        }
      ]
    },
    {
      "cell_type": "code",
      "source": [
        "#049. 다음과 같이 날짜를 표현하는 문자열이 있을 때, 연도, 월, 일로 나눠보세요.\n",
        "date = \"2020-05-01\"\n",
        "\n",
        "splited_date = date.split(\"-\")\n",
        "splited_date"
      ],
      "metadata": {
        "colab": {
          "base_uri": "https://localhost:8080/"
        },
        "id": "ANKRgi53ZSi4",
        "outputId": "fe6f1a3e-19e4-4fb8-c2f6-4b0905543dca"
      },
      "execution_count": null,
      "outputs": [
        {
          "output_type": "execute_result",
          "data": {
            "text/plain": [
              "['2020', '05', '01']"
            ]
          },
          "metadata": {},
          "execution_count": 6
        }
      ]
    },
    {
      "cell_type": "code",
      "source": [
        "#050. 문자열의 오른쪽에 공백이 있을 때 이를 제거해보세요.\n",
        "data = \"039490      \"\n",
        "skiped_data = data.rstrip()\n",
        "skiped_data"
      ],
      "metadata": {
        "colab": {
          "base_uri": "https://localhost:8080/",
          "height": 35
        },
        "id": "fXiueV_tZPd2",
        "outputId": "f8617ec6-59d9-4fbe-b601-1681635e851a"
      },
      "execution_count": null,
      "outputs": [
        {
          "output_type": "execute_result",
          "data": {
            "text/plain": [
              "'039490'"
            ],
            "application/vnd.google.colaboratory.intrinsic+json": {
              "type": "string"
            }
          },
          "metadata": {},
          "execution_count": 8
        }
      ]
    },
    {
      "cell_type": "code",
      "source": [
        "#051. 2016년 11월 영화 예매 순위 기준 top3이다. 영화 제목을 movie_rank 이름의 리스트에서\n",
        "#저장해보세요.\n",
        "movie_rank =[\"닥터스트레인지\",\"스플릿\",\"럭키\"]\n",
        "movie_rank"
      ],
      "metadata": {
        "colab": {
          "base_uri": "https://localhost:8080/"
        },
        "id": "KdfNZAgdZzzZ",
        "outputId": "1f2c43e7-b6d2-4a03-8e7f-ef93433593dd"
      },
      "execution_count": null,
      "outputs": [
        {
          "output_type": "execute_result",
          "data": {
            "text/plain": [
              "['닥터스트레인지', '스플릿', '럭키']"
            ]
          },
          "metadata": {},
          "execution_count": 18
        }
      ]
    },
    {
      "cell_type": "code",
      "source": [
        "#052. 51번의 리스트에 \"배트맨\"을 추가하라. \n",
        "movie_rank.append(\"배트맨\")\n",
        "movie_rank"
      ],
      "metadata": {
        "colab": {
          "base_uri": "https://localhost:8080/"
        },
        "id": "KriInrrlcnsu",
        "outputId": "39c30c19-3b58-4a92-ca31-751e423b9e0a"
      },
      "execution_count": null,
      "outputs": [
        {
          "output_type": "execute_result",
          "data": {
            "text/plain": [
              "['닥터스트레인지', '스플릿', '럭키', '배트맨']"
            ]
          },
          "metadata": {},
          "execution_count": 19
        }
      ]
    },
    {
      "cell_type": "code",
      "source": [
        "#053. movie_rank 리스트에는 아래와 같이 네 개의 영화 제목이 바인딩되어 있다. \n",
        "#\"슈퍼맨\"을 \"닥터스트레인지\"와 \"스플릿\"사이에 추가하라 \n",
        "movie_rank.insert( 1,\"슈퍼맨\")\n",
        "movie_rank"
      ],
      "metadata": {
        "colab": {
          "base_uri": "https://localhost:8080/"
        },
        "id": "g_sdnORSc5vY",
        "outputId": "f2c9d8d2-cb96-42dc-9a2c-d21f362b2406"
      },
      "execution_count": null,
      "outputs": [
        {
          "output_type": "execute_result",
          "data": {
            "text/plain": [
              "['닥터스트레인지', '슈퍼맨', '스플릿', '럭키', '배트맨']"
            ]
          },
          "metadata": {},
          "execution_count": 23
        }
      ]
    },
    {
      "cell_type": "code",
      "source": [
        "#054. movie_rank에서 \"럭키\"를 삭제하라. \n",
        "# movie_rank.remove(\"럭키\")\n",
        "movie_rank"
      ],
      "metadata": {
        "colab": {
          "base_uri": "https://localhost:8080/"
        },
        "id": "i6Z6h1JqdNeF",
        "outputId": "0646d63a-aea0-491d-b2b3-9192107cd80d"
      },
      "execution_count": null,
      "outputs": [
        {
          "output_type": "execute_result",
          "data": {
            "text/plain": [
              "['닥터스트레인지', '슈퍼맨', '스플릿', '배트맨']"
            ]
          },
          "metadata": {},
          "execution_count": 30
        }
      ]
    },
    {
      "cell_type": "code",
      "source": [
        "#055. movie_rank 리스트에서 \"스플릿\"과 \"배트맨\"을 삭제하라. \n",
        "# movie_rank.remove('스플릿')\n",
        "# movie_rank.remove('배트맨') \n",
        "movie_rank\n",
        "print(\"del movie_rank[1]\")\n",
        "print(\"del movie_rank[2]\")"
      ],
      "metadata": {
        "colab": {
          "base_uri": "https://localhost:8080/"
        },
        "id": "O-46kq5UeNFJ",
        "outputId": "f6959b8a-41d1-4fc6-80e1-cb0145a04d21"
      },
      "execution_count": null,
      "outputs": [
        {
          "output_type": "stream",
          "name": "stdout",
          "text": [
            "del movie_rank[1]\n",
            "del movie_rank[2]\n"
          ]
        }
      ]
    },
    {
      "cell_type": "code",
      "source": [
        "#056. lang1과 lang2 리스트가 있을때 lang1과 lang2의 원소를 모두 갖고 있는 langs리스트를 만들어라.\n",
        "lang1 = [\"C\",\"C++\",\"JAVA\"]\n",
        "lang2 = [\"python\",\"Go\",\"C#\"]\n",
        "\n",
        "langs = lang1 + lang2\n",
        "langs"
      ],
      "metadata": {
        "colab": {
          "base_uri": "https://localhost:8080/"
        },
        "id": "oN37Upw-eyBe",
        "outputId": "ff8bd8fe-8320-4ed0-bde9-b307a5631c59"
      },
      "execution_count": null,
      "outputs": [
        {
          "output_type": "execute_result",
          "data": {
            "text/plain": [
              "['C', 'C++', 'JAVA', 'python', 'Go', 'C#']"
            ]
          },
          "metadata": {},
          "execution_count": 48
        }
      ]
    },
    {
      "cell_type": "code",
      "source": [
        "#057. 다음 리스트에서 최댓값과 최솟값을 출력하라. \n",
        "num = [1,2,3,4,5,6,7]\n",
        "\n",
        "print(\"max is {}\".format(max(num)))\n",
        "print(\"min is {}\".format(min(num)))"
      ],
      "metadata": {
        "colab": {
          "base_uri": "https://localhost:8080/"
        },
        "id": "sTxVKP_Sg6mD",
        "outputId": "45218a19-06f2-406d-dc83-81e4c7804b55"
      },
      "execution_count": null,
      "outputs": [
        {
          "output_type": "stream",
          "name": "stdout",
          "text": [
            "max is 7\n",
            "min is 1\n"
          ]
        }
      ]
    },
    {
      "cell_type": "code",
      "source": [
        "#058. 다음 리스트의 합을 출력하라. \n",
        "nums = [1,2,3,4,5]\n",
        "print(\"nums's sum is {}\".format(sum(nums)))"
      ],
      "metadata": {
        "colab": {
          "base_uri": "https://localhost:8080/"
        },
        "id": "Qabi8wmRhbHm",
        "outputId": "ab500847-a339-4a0a-d285-d78a36191b48"
      },
      "execution_count": null,
      "outputs": [
        {
          "output_type": "stream",
          "name": "stdout",
          "text": [
            "nums's sum is 15\n"
          ]
        }
      ]
    },
    {
      "cell_type": "code",
      "source": [
        "#059. 다음 리스트에 저장된 데이터의 개수를 화면에 구하여라. \n",
        "cook = [\"피자\",\"김밥\",\"만두\",\"양념치킨\",\"족발\",\"피자\",\"쫄면\",\"소시지\",\"라면\",\n",
        "        \"팥빙수\",\"김치전\"]\n",
        "print(\"cook's element total is {}\".format(len(cook)))\n",
        "# print(\"cook's element tottal is {}\".format(count(cook)))"
      ],
      "metadata": {
        "colab": {
          "base_uri": "https://localhost:8080/"
        },
        "id": "JejPQA_Vi5up",
        "outputId": "6abdeee7-4f16-4794-93b6-e804de98af37"
      },
      "execution_count": null,
      "outputs": [
        {
          "output_type": "stream",
          "name": "stdout",
          "text": [
            "cook's element tottal is 11\n"
          ]
        }
      ]
    },
    {
      "cell_type": "code",
      "source": [
        "#060. 다음 리스트의 평균을 출력하라. \n",
        "nums = [1,2,3,4,5]\n",
        "\n",
        "print(\"nums's average is {}\".format(sum(nums)/len(nums) ))"
      ],
      "metadata": {
        "colab": {
          "base_uri": "https://localhost:8080/"
        },
        "id": "z2A3zYPtkv_U",
        "outputId": "7069ce9c-f667-4701-9107-33f901f92dc3"
      },
      "execution_count": null,
      "outputs": [
        {
          "output_type": "stream",
          "name": "stdout",
          "text": [
            "nums's average is 3.0\n"
          ]
        }
      ]
    },
    {
      "cell_type": "code",
      "source": [
        "#061. price 변수에는 날짜와 종가 정보가 저장돼 있다. 날짜 정보를 제외하고 가격 정보만을 \n",
        "#출력하라. \n",
        "price = [\"20180728\",100,130,140,150,160,170]\n",
        "print(price[1:])"
      ],
      "metadata": {
        "colab": {
          "base_uri": "https://localhost:8080/"
        },
        "id": "UYoSKm__lRAj",
        "outputId": "69494609-863f-42a4-d412-469aaf317936"
      },
      "execution_count": null,
      "outputs": [
        {
          "output_type": "stream",
          "name": "stdout",
          "text": [
            "[100, 130, 140, 150, 160, 170]\n"
          ]
        }
      ]
    },
    {
      "cell_type": "code",
      "source": [
        "#062. 슬라이싱을 사용해서 홀수만을 출력하라. \n",
        "nums = [1,2,3,4,5,6,7,8,9,10]\n",
        "\n",
        "for i in range(len(nums)):\n",
        "  if i%2 == 0:\n",
        "    print(nums[i],end=\" \")\n",
        "  else:\n",
        "    pass\n",
        "\n",
        "print(nums[::2])"
      ],
      "metadata": {
        "colab": {
          "base_uri": "https://localhost:8080/"
        },
        "id": "Q_oxnqB3mtpq",
        "outputId": "0a869171-c568-48be-f5a3-12ccf44c9b7c"
      },
      "execution_count": null,
      "outputs": [
        {
          "output_type": "stream",
          "name": "stdout",
          "text": [
            "1 3 5 7 9 [1, 3, 5, 7, 9]\n"
          ]
        }
      ]
    },
    {
      "cell_type": "code",
      "source": [
        "#063. 슬라이싱을 사용해서 짝수만을 출력하라. \n",
        "print(nums[1::2])\n",
        "print(\"=\"*40)\n",
        "for i in range(len(nums)):\n",
        "  if i%2 != 0:\n",
        "    print(nums[i], end=\" \")\n",
        "  else:\n",
        "    pass"
      ],
      "metadata": {
        "colab": {
          "base_uri": "https://localhost:8080/"
        },
        "id": "rfTM-amDny4b",
        "outputId": "bb8ee36c-e327-4af1-fb85-67f6a2eaa769"
      },
      "execution_count": null,
      "outputs": [
        {
          "output_type": "stream",
          "name": "stdout",
          "text": [
            "[2, 4, 6, 8, 10]\n",
            "========================================\n",
            "2 4 6 8 10 "
          ]
        }
      ]
    },
    {
      "cell_type": "code",
      "source": [
        ""
      ],
      "metadata": {
        "id": "_9ELX7odoy5s"
      },
      "execution_count": null,
      "outputs": []
    }
  ]
}