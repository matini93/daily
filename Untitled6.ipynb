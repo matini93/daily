{
  "nbformat": 4,
  "nbformat_minor": 0,
  "metadata": {
    "colab": {
      "name": "Untitled6.ipynb",
      "provenance": [],
      "collapsed_sections": [],
      "authorship_tag": "ABX9TyN6HvEljiKZ098lGo2YhChh",
      "include_colab_link": true
    },
    "kernelspec": {
      "name": "python3",
      "display_name": "Python 3"
    },
    "language_info": {
      "name": "python"
    }
  },
  "cells": [
    {
      "cell_type": "markdown",
      "metadata": {
        "id": "view-in-github",
        "colab_type": "text"
      },
      "source": [
        "<a href=\"https://colab.research.google.com/github/matini93/daily/blob/main/Untitled6.ipynb\" target=\"_parent\"><img src=\"https://colab.research.google.com/assets/colab-badge.svg\" alt=\"Open In Colab\"/></a>"
      ]
    },
    {
      "cell_type": "code",
      "execution_count": 1,
      "metadata": {
        "colab": {
          "base_uri": "https://localhost:8080/"
        },
        "id": "1PvnP2gOKtXC",
        "outputId": "b8683ea2-e7b8-4b59-d213-586c48b244dd"
      },
      "outputs": [
        {
          "output_type": "stream",
          "name": "stdout",
          "text": [
            "비트코인\n"
          ]
        }
      ],
      "source": [
        "#2022.08.31 \n",
        "#201. \"비트코인\" 문자열을 화면에 출력하는 print_coin() 함수를 정의하라.\n",
        "def print_coin():\n",
        "  print(\"비트코인\")\n",
        "\n",
        "print_coin()"
      ]
    },
    {
      "cell_type": "code",
      "source": [
        "#202. 201번에서 정의한 함수를 호출하라. \n",
        "print_coin()"
      ],
      "metadata": {
        "colab": {
          "base_uri": "https://localhost:8080/"
        },
        "id": "KeeEfO3QLLwE",
        "outputId": "3ad003a1-ae84-4c79-b3f4-759f677e8b88"
      },
      "execution_count": 2,
      "outputs": [
        {
          "output_type": "stream",
          "name": "stdout",
          "text": [
            "비트코인\n"
          ]
        }
      ]
    },
    {
      "cell_type": "code",
      "source": [
        "#203. 201번에서 정의한 print_coin함수를 100번 호출하라. \n",
        "#for문으로 반복만 주는 것도 가능하다. \n",
        "for i in range(0,100):\n",
        "  print_coin()"
      ],
      "metadata": {
        "colab": {
          "base_uri": "https://localhost:8080/"
        },
        "id": "kufcIJu6Lamc",
        "outputId": "610656e3-bf9b-4d4a-a23c-ace5cecea8d9"
      },
      "execution_count": 5,
      "outputs": [
        {
          "output_type": "stream",
          "name": "stdout",
          "text": [
            "비트코인\n",
            "비트코인\n",
            "비트코인\n",
            "비트코인\n",
            "비트코인\n",
            "비트코인\n",
            "비트코인\n",
            "비트코인\n",
            "비트코인\n",
            "비트코인\n",
            "비트코인\n",
            "비트코인\n",
            "비트코인\n",
            "비트코인\n",
            "비트코인\n",
            "비트코인\n",
            "비트코인\n",
            "비트코인\n",
            "비트코인\n",
            "비트코인\n",
            "비트코인\n",
            "비트코인\n",
            "비트코인\n",
            "비트코인\n",
            "비트코인\n",
            "비트코인\n",
            "비트코인\n",
            "비트코인\n",
            "비트코인\n",
            "비트코인\n",
            "비트코인\n",
            "비트코인\n",
            "비트코인\n",
            "비트코인\n",
            "비트코인\n",
            "비트코인\n",
            "비트코인\n",
            "비트코인\n",
            "비트코인\n",
            "비트코인\n",
            "비트코인\n",
            "비트코인\n",
            "비트코인\n",
            "비트코인\n",
            "비트코인\n",
            "비트코인\n",
            "비트코인\n",
            "비트코인\n",
            "비트코인\n",
            "비트코인\n",
            "비트코인\n",
            "비트코인\n",
            "비트코인\n",
            "비트코인\n",
            "비트코인\n",
            "비트코인\n",
            "비트코인\n",
            "비트코인\n",
            "비트코인\n",
            "비트코인\n",
            "비트코인\n",
            "비트코인\n",
            "비트코인\n",
            "비트코인\n",
            "비트코인\n",
            "비트코인\n",
            "비트코인\n",
            "비트코인\n",
            "비트코인\n",
            "비트코인\n",
            "비트코인\n",
            "비트코인\n",
            "비트코인\n",
            "비트코인\n",
            "비트코인\n",
            "비트코인\n",
            "비트코인\n",
            "비트코인\n",
            "비트코인\n",
            "비트코인\n",
            "비트코인\n",
            "비트코인\n",
            "비트코인\n",
            "비트코인\n",
            "비트코인\n",
            "비트코인\n",
            "비트코인\n",
            "비트코인\n",
            "비트코인\n",
            "비트코인\n",
            "비트코인\n",
            "비트코인\n",
            "비트코인\n",
            "비트코인\n",
            "비트코인\n",
            "비트코인\n",
            "비트코인\n",
            "비트코인\n",
            "비트코인\n",
            "비트코인\n"
          ]
        }
      ]
    },
    {
      "cell_type": "code",
      "source": [
        "#204. \"비트코인\" 문자열을 100번 화면에 출력하는 print_coins()함수를 정의하라. \n",
        "def print_coins():\n",
        "  print(\"비트코인\"*100)\n",
        "\n",
        "print_coins()"
      ],
      "metadata": {
        "colab": {
          "base_uri": "https://localhost:8080/"
        },
        "id": "fPmfh1hhLqcD",
        "outputId": "4fd48286-de1f-4a49-940d-fa63a336227d"
      },
      "execution_count": 10,
      "outputs": [
        {
          "output_type": "stream",
          "name": "stdout",
          "text": [
            "비트코인비트코인비트코인비트코인비트코인비트코인비트코인비트코인비트코인비트코인비트코인비트코인비트코인비트코인비트코인비트코인비트코인비트코인비트코인비트코인비트코인비트코인비트코인비트코인비트코인비트코인비트코인비트코인비트코인비트코인비트코인비트코인비트코인비트코인비트코인비트코인비트코인비트코인비트코인비트코인비트코인비트코인비트코인비트코인비트코인비트코인비트코인비트코인비트코인비트코인비트코인비트코인비트코인비트코인비트코인비트코인비트코인비트코인비트코인비트코인비트코인비트코인비트코인비트코인비트코인비트코인비트코인비트코인비트코인비트코인비트코인비트코인비트코인비트코인비트코인비트코인비트코인비트코인비트코인비트코인비트코인비트코인비트코인비트코인비트코인비트코인비트코인비트코인비트코인비트코인비트코인비트코인비트코인비트코인비트코인비트코인비트코인비트코인비트코인비트코인\n"
          ]
        }
      ]
    },
    {
      "cell_type": "code",
      "source": [
        "#205. 아래의 에러가 발생하는 이유에 대해서 설명하라. \n",
        "hello()\n",
        "def hello():\n",
        "  print(\"Hi\")\n",
        "#순서가 잘못되었다. hello()를 먼저 정의하고 함수를 호출해야 한다. \n"
      ],
      "metadata": {
        "id": "rWQ_PdioMP1U"
      },
      "execution_count": null,
      "outputs": []
    },
    {
      "cell_type": "code",
      "source": [
        "#206. 아래 코드의 실행결과를 예측하라. \n",
        "def message():\n",
        "  print(\"A\")\n",
        "  print(\"B\")\n",
        "\n",
        "message()\n",
        "print(\"C\")\n",
        "message()\n",
        "print(\"=\"*40)\n",
        "print(\"예측결과\")\n",
        "print(\"A\")\n",
        "print(\"B\")\n",
        "print(\"C\")\n",
        "print(\"A\")\n",
        "print(\"B\")\n"
      ],
      "metadata": {
        "colab": {
          "base_uri": "https://localhost:8080/"
        },
        "id": "SmFs4FTGMNML",
        "outputId": "cff6138a-4406-46e3-8f8e-ef4b261931f4"
      },
      "execution_count": 13,
      "outputs": [
        {
          "output_type": "stream",
          "name": "stdout",
          "text": [
            "A\n",
            "B\n",
            "C\n",
            "A\n",
            "B\n",
            "========================================\n",
            "예측결과\n",
            "A\n",
            "B\n",
            "C\n",
            "A\n",
            "B\n"
          ]
        }
      ]
    },
    {
      "cell_type": "code",
      "source": [
        "#207. 아래 코드의 실행 결과를 예측하라.\n",
        "print(\"A\")\n",
        "\n",
        "def message():\n",
        "  print(\"B\")\n",
        "\n",
        "print(\"C\")\n",
        "message()\n",
        "\n",
        "print(\"=\"*40)\n",
        "print(\"예상결과\")\n",
        "print(\"A\")\n",
        "print(\"B\")\n",
        "print(\"C\")"
      ],
      "metadata": {
        "colab": {
          "base_uri": "https://localhost:8080/"
        },
        "id": "baq2-rUwNWtE",
        "outputId": "c49fa341-2636-4840-9a08-e56993a7f548"
      },
      "execution_count": 14,
      "outputs": [
        {
          "output_type": "stream",
          "name": "stdout",
          "text": [
            "A\n",
            "C\n",
            "B\n",
            "========================================\n",
            "예상결과\n",
            "A\n",
            "B\n",
            "C\n"
          ]
        }
      ]
    },
    {
      "cell_type": "code",
      "source": [
        "#208~210까지는 예측문제이므로 제외한다. \n",
        "#211. 함수의 호출결과를 예측하라. \n",
        "def 함수(문자열):\n",
        "  print(문자열)\n",
        "\n",
        "함수(\"안녕\")\n",
        "함수(\"Hi\")\n"
      ],
      "metadata": {
        "colab": {
          "base_uri": "https://localhost:8080/"
        },
        "id": "IF8wyrQsOtuk",
        "outputId": "66193d8a-d3e9-47ad-a9dc-423ebc02f443"
      },
      "execution_count": 15,
      "outputs": [
        {
          "output_type": "stream",
          "name": "stdout",
          "text": [
            "안녕\n",
            "Hi\n"
          ]
        }
      ]
    },
    {
      "cell_type": "code",
      "source": [
        "#215. 하나의 문자를 입력받아 문자열 끝에 \":D\" 스마일 묹열을 이어 붙여 출력하는 print_with_smile함수를 정의하라. \n",
        "def print_with_smile(문자열):\n",
        "  print(문자열,\":D\")\n",
        "\n",
        "print_with_smile(\"문자열\")"
      ],
      "metadata": {
        "colab": {
          "base_uri": "https://localhost:8080/"
        },
        "id": "aESJHvmOPlbj",
        "outputId": "09d95f8d-3403-41b8-c6d9-c80c66fe3b0b"
      },
      "execution_count": 17,
      "outputs": [
        {
          "output_type": "stream",
          "name": "stdout",
          "text": [
            "문자열:D\n"
          ]
        }
      ]
    },
    {
      "cell_type": "code",
      "source": [
        "#216. 215번에서 정의한 함수를 호출하라. 파라미터는\"안녕하세요\"로 입력하라. \n",
        "print_with_smile(\"안녕하세요\")"
      ],
      "metadata": {
        "colab": {
          "base_uri": "https://localhost:8080/"
        },
        "id": "lukVqg-mRvTM",
        "outputId": "f51bb1cc-5868-40e3-f113-490d98dbe389"
      },
      "execution_count": 18,
      "outputs": [
        {
          "output_type": "stream",
          "name": "stdout",
          "text": [
            "안녕하세요:D\n"
          ]
        }
      ]
    },
    {
      "cell_type": "code",
      "source": [
        "#217. 현재 가격을 입력 받아 상한가(30%)를 출력하는 print_upper_price함수를 정의하라. \n",
        "def print_upper_price(price):\n",
        "  print(int(price)*1.30)\n",
        "\n",
        "print_upper_price(10000)"
      ],
      "metadata": {
        "colab": {
          "base_uri": "https://localhost:8080/"
        },
        "id": "iyGqwMK9SHgm",
        "outputId": "158d5211-d2fc-40f7-9921-3cb3bd29a423"
      },
      "execution_count": 19,
      "outputs": [
        {
          "output_type": "stream",
          "name": "stdout",
          "text": [
            "13000.0\n"
          ]
        }
      ]
    },
    {
      "cell_type": "code",
      "source": [
        "#218. 두 개으 숫자를 입력받아 두 수의 합을 출력하는 print_sum함수를 정의하라. \n",
        "def print_sum(int1, int2):\n",
        "  print(int(int1)+int(int2))\n",
        "\n",
        "print_sum(100,200)"
      ],
      "metadata": {
        "colab": {
          "base_uri": "https://localhost:8080/"
        },
        "id": "p9N8pecqSh8i",
        "outputId": "b91bb0ff-c558-4620-f314-fe24b37178ac"
      },
      "execution_count": 20,
      "outputs": [
        {
          "output_type": "stream",
          "name": "stdout",
          "text": [
            "300\n"
          ]
        }
      ]
    },
    {
      "cell_type": "code",
      "source": [
        "#219. 두 개의 숫자를입력받아 합/차/곱/나눗셈을 출력하는 print_arithmetic_operation함수를 작성하라. \n",
        "def print_arithmetic_operation(int1,int2):\n",
        "  a = int(int1)\n",
        "  b = int(int2)\n",
        "  print(\"{} + {} = {}\".format(a,b,a+b))\n",
        "  print(\"{} - {} = {}\".format(a,b,a-b))\n",
        "  print(\"{} X {} = {}\".format(a,b,a*b))\n",
        "  print(\"{} / {} = {}\".format(a,b,a/b))\n",
        "\n",
        "print_arithmetic_operation(10,5)"
      ],
      "metadata": {
        "colab": {
          "base_uri": "https://localhost:8080/"
        },
        "id": "GEPYo8uuVSI8",
        "outputId": "84d37f60-0704-4c00-a5ab-2d5aa472166c"
      },
      "execution_count": 21,
      "outputs": [
        {
          "output_type": "stream",
          "name": "stdout",
          "text": [
            "10 + 5 = 15\n",
            "10 - 5 = 5\n",
            "10 X 5 = 50\n",
            "10 / 5 = 2.0\n"
          ]
        }
      ]
    },
    {
      "cell_type": "code",
      "source": [
        "#220. 세 개의 숫자를 입력받아 가장 큰 수를 출력하느 print_max함수를 정의하라. 단 if문을 사용해서 수를 비교하라. \n",
        "def print_max(a,b,c):\n",
        "  a = int(a)\n",
        "  b = int(b)\n",
        "  c = int(c)\n",
        "  if a > b and a > c :\n",
        "    print(a)\n",
        "  elif b > a and b > c: \n",
        "    print(b)\n",
        "  elif c > a and c > b:\n",
        "    print(c)\n",
        "\n",
        "print_max(7,5,4)"
      ],
      "metadata": {
        "colab": {
          "base_uri": "https://localhost:8080/"
        },
        "id": "WoYAz2mPWlSr",
        "outputId": "05edcf72-91c1-46de-dfa6-e27f7dec5e9b"
      },
      "execution_count": 24,
      "outputs": [
        {
          "output_type": "stream",
          "name": "stdout",
          "text": [
            "7\n"
          ]
        }
      ]
    },
    {
      "cell_type": "code",
      "source": [
        "#221. 입력된 문자열을 역순으로 출력하는 print_reverse함수를 출력하라. \n",
        "def print_reverse(string):\n",
        "  for i in range(len(string)):\n",
        "    print(string[(len(string)-1)-i],end=\"\")\n",
        "\n",
        "print_reverse(\"python\")\n",
        "print(\"=\"*40)\n",
        "print(\"정답\")\n",
        "def print_reverse(string) :\n",
        "    print(string[::-1])"
      ],
      "metadata": {
        "colab": {
          "base_uri": "https://localhost:8080/"
        },
        "id": "VS8yMmdHatz6",
        "outputId": "333fa0e1-cf80-4b64-c275-aeea86c51226"
      },
      "execution_count": 49,
      "outputs": [
        {
          "output_type": "stream",
          "name": "stdout",
          "text": [
            "nohtyp"
          ]
        }
      ]
    },
    {
      "cell_type": "code",
      "source": [
        "#222. 성적 리스트를 입력받아 평균을 출력하는 print_score함수를 정의하라\n",
        "def print_score(A):\n",
        "  print(sum(A) / len(A))\n",
        "\n",
        "print_score([100,20,50])"
      ],
      "metadata": {
        "colab": {
          "base_uri": "https://localhost:8080/"
        },
        "id": "iZSNGCCndnGi",
        "outputId": "a29b174b-2823-4d73-9411-af0cffd9774b"
      },
      "execution_count": 56,
      "outputs": [
        {
          "output_type": "stream",
          "name": "stdout",
          "text": [
            "56.666666666666664\n"
          ]
        }
      ]
    },
    {
      "cell_type": "code",
      "source": [
        "#223. 하나의 리스트를 입력받아 짝수만 화면에 출력하는 print_even함수를 정의하라. \n",
        "def print_even(A):\n",
        "  for i in A :\n",
        "    if i % 2 == 0:\n",
        "      print(i)\n",
        "    else:\n",
        "      pass\n",
        "sam_list = [100,51,3,45,12]\n",
        "\n",
        "print_even(sam_list)"
      ],
      "metadata": {
        "colab": {
          "base_uri": "https://localhost:8080/"
        },
        "id": "ROCbjJpupQEs",
        "outputId": "e0d9cc99-085e-4f33-de86-18831130fe05"
      },
      "execution_count": 58,
      "outputs": [
        {
          "output_type": "stream",
          "name": "stdout",
          "text": [
            "100\n",
            "12\n"
          ]
        }
      ]
    },
    {
      "cell_type": "code",
      "source": [
        "#224. 하나의 딕셔너리를 입력받아 딕셔너리의 key값을 화면에 출력하는 print_keys 함수를 출력하라. \n",
        "def print_keys(A):\n",
        "  A_list = list(A.keys())\n",
        "  for i in A_list:\n",
        "    print(i)\n",
        "\n",
        "sample_dict = {\"이름\":\"김말똥\", \"나이\":30, \"성별\":0}\n",
        "\n",
        "print_keys(sample_dict)"
      ],
      "metadata": {
        "colab": {
          "base_uri": "https://localhost:8080/"
        },
        "id": "HFFlnKZSvDf0",
        "outputId": "65b64868-400b-421e-df63-b58349902e97"
      },
      "execution_count": 61,
      "outputs": [
        {
          "output_type": "stream",
          "name": "stdout",
          "text": [
            "이름\n",
            "나이\n",
            "성별\n"
          ]
        }
      ]
    },
    {
      "cell_type": "code",
      "source": [
        "#225. my_dict에는 날짜를 키값으로 OHLC가 리스트로 저장돼 있다. \n",
        "#my_dict와 날짜 키값을 입력받아 OHLC리스트를 출력하는 print_value_by_key함수를 정의하라. \n",
        "my_dict = {\"10/26\" : [100, 130, 100, 100],\n",
        "           \"10/27\" : [10, 12, 10, 11]}\n",
        "\n",
        "def print_value_by_key(A, B):\n",
        "  print(A[B])\n",
        "\n",
        "print_value_by_key(my_dict, \"10/26\")\n",
        "\n"
      ],
      "metadata": {
        "colab": {
          "base_uri": "https://localhost:8080/"
        },
        "id": "rpPBLENnzaf9",
        "outputId": "7b3995a2-8802-4864-b76d-2d4f7e3f2609"
      },
      "execution_count": 62,
      "outputs": [
        {
          "output_type": "stream",
          "name": "stdout",
          "text": [
            "[100, 130, 100, 100]\n"
          ]
        }
      ]
    },
    {
      "cell_type": "code",
      "source": [
        "#226. 입력 문자열을 한 줄에 다섯글자씩 출력하는 print_5xn(string)함수를 작성하라. \n",
        "def print_5xn(string):\n",
        "  "
      ],
      "metadata": {
        "id": "VmWUMqvu06lc"
      },
      "execution_count": null,
      "outputs": []
    },
    {
      "cell_type": "code",
      "source": [
        "a = '아이엠어보이유알어걸'\n",
        "\n",
        "a[5:10]"
      ],
      "metadata": {
        "colab": {
          "base_uri": "https://localhost:8080/",
          "height": 35
        },
        "id": "IWANbVxG4pW5",
        "outputId": "7bd9945d-c09c-4149-a989-2fee624070ce"
      },
      "execution_count": 66,
      "outputs": [
        {
          "output_type": "execute_result",
          "data": {
            "text/plain": [
              "'이유알어걸'"
            ],
            "application/vnd.google.colaboratory.intrinsic+json": {
              "type": "string"
            }
          },
          "metadata": {},
          "execution_count": 66
        }
      ]
    },
    {
      "cell_type": "code",
      "source": [],
      "metadata": {
        "id": "LFip12L-4vGk"
      },
      "execution_count": null,
      "outputs": []
    }
  ]
}