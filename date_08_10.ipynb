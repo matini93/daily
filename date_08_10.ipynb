{
  "nbformat": 4,
  "nbformat_minor": 0,
  "metadata": {
    "colab": {
      "name": "date_08_10.ipynb",
      "provenance": []
    },
    "kernelspec": {
      "name": "python3",
      "display_name": "Python 3"
    },
    "language_info": {
      "name": "python"
    }
  },
  "cells": [
    {
      "cell_type": "code",
      "execution_count": 2,
      "metadata": {
        "id": "UXsJdyLI1B7a"
      },
      "outputs": [],
      "source": [
        "import datetime \n",
        "import pandas as pd \n",
        "import numpy as np "
      ]
    },
    {
      "cell_type": "code",
      "source": [
        "datetime.datetime.now()"
      ],
      "metadata": {
        "colab": {
          "base_uri": "https://localhost:8080/"
        },
        "id": "_qj4S7o25EBt",
        "outputId": "27b0811a-5787-4966-ab33-a28fa64fe6ed"
      },
      "execution_count": 7,
      "outputs": [
        {
          "output_type": "execute_result",
          "data": {
            "text/plain": [
              "datetime.datetime(2022, 8, 10, 8, 34, 53, 592830)"
            ]
          },
          "metadata": {},
          "execution_count": 7
        }
      ]
    },
    {
      "cell_type": "code",
      "source": [
        "#091. 아래의 표에서 아이스크림을 키값으로 (가격,재고)리스트를 딕셔너리 값으로 지정하라. \n",
        "#딕셔너리의 이름은 inventory라 한다. \n",
        "key_list = [\"메로나\",\"비비빅\",\"죠스바\"]\n",
        "dict_list=[[300,20],[400,3],[250,100]]\n",
        "inventory = dict(zip(key_list,dict_list))\n",
        "inventory[\"메로나\"]\n",
        "\n",
        "#리스트로 딕셔너리를 만들어줄땐, zip으로 묶어서 만든다. "
      ],
      "metadata": {
        "colab": {
          "base_uri": "https://localhost:8080/"
        },
        "id": "0ey1Uiv_3ruw",
        "outputId": "8bb3ab8f-d4ec-41c5-bb7d-1e98b061defe"
      },
      "execution_count": 15,
      "outputs": [
        {
          "output_type": "execute_result",
          "data": {
            "text/plain": [
              "[300, 20]"
            ]
          },
          "metadata": {},
          "execution_count": 15
        }
      ]
    },
    {
      "cell_type": "code",
      "source": [
        "#092. inventory 딕셔너리에서 메로나의 가격을 화면에 출력하라. \n",
        "inventory[\"메로나\"][0]"
      ],
      "metadata": {
        "colab": {
          "base_uri": "https://localhost:8080/"
        },
        "id": "XsrSL0XG4WFE",
        "outputId": "ff7ddd8a-7f63-42e7-f5e5-86cfa8ceed13"
      },
      "execution_count": 17,
      "outputs": [
        {
          "output_type": "execute_result",
          "data": {
            "text/plain": [
              "300"
            ]
          },
          "metadata": {},
          "execution_count": 17
        }
      ]
    },
    {
      "cell_type": "code",
      "source": [
        "#093. inventory 딕셔너리에서 메로나의 재고를 화면에 출력하라. \n",
        "inventory[\"메로나\"][1]"
      ],
      "metadata": {
        "colab": {
          "base_uri": "https://localhost:8080/"
        },
        "id": "7nOeBiYA6tCX",
        "outputId": "566e668d-7d51-478a-d810-fb33a3aee551"
      },
      "execution_count": 18,
      "outputs": [
        {
          "output_type": "execute_result",
          "data": {
            "text/plain": [
              "20"
            ]
          },
          "metadata": {},
          "execution_count": 18
        }
      ]
    },
    {
      "cell_type": "code",
      "source": [
        "#094. inventory 딕셔너리에 아래 데이터를 추가하라. \n",
        "inventory[\"월드콘\"] = [500, 7]\n",
        "print(inventory)"
      ],
      "metadata": {
        "colab": {
          "base_uri": "https://localhost:8080/"
        },
        "id": "-u_kUuaF_ylW",
        "outputId": "db970b72-a66c-4831-f236-1c2b9473e52d"
      },
      "execution_count": 20,
      "outputs": [
        {
          "output_type": "stream",
          "name": "stdout",
          "text": [
            "{'메로나': [300, 20], '비비빅': [400, 3], '죠스바': [250, 100], '월드콘': [500, 7]}\n"
          ]
        }
      ]
    },
    {
      "cell_type": "code",
      "source": [
        "#095. 다음 딕셔너리로부터 key값으로만 구성된 리스트를 생성하라. \n",
        "icecream = {\"탱크보이\":1200,\"폴라포\":1200,\"빵빠레\":1800, \"월드콘\":1500, \"메로나\":1000}\n",
        "ice_list= list(icecream.keys())\n",
        "ice_list"
      ],
      "metadata": {
        "colab": {
          "base_uri": "https://localhost:8080/"
        },
        "id": "rkmRIOfAACg8",
        "outputId": "d6a687ec-ed17-4cf3-838b-3180c1763998"
      },
      "execution_count": 33,
      "outputs": [
        {
          "output_type": "execute_result",
          "data": {
            "text/plain": [
              "['탱크보이', '폴라포', '빵빠레', '월드콘', '메로나']"
            ]
          },
          "metadata": {},
          "execution_count": 33
        }
      ]
    },
    {
      "cell_type": "code",
      "source": [
        "#096. 다음 딕셔너리에서 values 값으로만 구성된 리스트를 생성하라. \n",
        "values_list = list(icecream.values())\n",
        "values_list"
      ],
      "metadata": {
        "colab": {
          "base_uri": "https://localhost:8080/"
        },
        "id": "-jpRl60zArZ9",
        "outputId": "e6c514b4-6214-439b-cf96-9da0bbb39e17"
      },
      "execution_count": 25,
      "outputs": [
        {
          "output_type": "execute_result",
          "data": {
            "text/plain": [
              "[1200, 1200, 1800, 1500, 1000]"
            ]
          },
          "metadata": {},
          "execution_count": 25
        }
      ]
    },
    {
      "cell_type": "code",
      "source": [
        "#097. icecream 딕셔너리에서 아이스크림 판매 금액의 총합을 출력하라. \n",
        "print(\"icecream의 총 합 : {}\".format(sum(icecream.values())))"
      ],
      "metadata": {
        "colab": {
          "base_uri": "https://localhost:8080/"
        },
        "id": "xskr6je1A-ix",
        "outputId": "5d1133a1-6109-4e20-d37a-a226dbdcab8d"
      },
      "execution_count": 27,
      "outputs": [
        {
          "output_type": "stream",
          "name": "stdout",
          "text": [
            "icecream의 총 합 : 6700\n"
          ]
        }
      ]
    },
    {
      "cell_type": "code",
      "source": [
        "#098. 아래의 new_product 딕셔너리를 다음 icecream 딕셔너리에 추가하라. \n",
        "new_product = {\"팥빙수\":2700, \"아맛나\":1000}\n",
        "icecream.update(new_product)\n",
        "icecream"
      ],
      "metadata": {
        "colab": {
          "base_uri": "https://localhost:8080/"
        },
        "id": "C5QU-AfZBevm",
        "outputId": "ad90d15c-55c6-4b4b-cba8-9e630b8e1223"
      },
      "execution_count": 34,
      "outputs": [
        {
          "output_type": "execute_result",
          "data": {
            "text/plain": [
              "{'메로나': 1000,\n",
              " '빵빠레': 1800,\n",
              " '아맛나': 1000,\n",
              " '월드콘': 1500,\n",
              " '탱크보이': 1200,\n",
              " '팥빙수': 2700,\n",
              " '폴라포': 1200}"
            ]
          },
          "metadata": {},
          "execution_count": 34
        }
      ]
    },
    {
      "cell_type": "code",
      "source": [
        "#099. 아래 두 개의 튜플을 하나의 딕셔너리로 변환하라. keys를 키로, result 이름의 딕셔너리로 저장한다. \n",
        "keys = (\"apple\",\"pear\",\"peach\")\n",
        "vals = (300, 250, 400)\n",
        "\n",
        "results = dict(zip(keys,vals))\n",
        "print(results)"
      ],
      "metadata": {
        "colab": {
          "base_uri": "https://localhost:8080/"
        },
        "id": "lmzbtvGbB0sg",
        "outputId": "645e99e2-d00b-4799-b820-6745d3411e8d"
      },
      "execution_count": 35,
      "outputs": [
        {
          "output_type": "stream",
          "name": "stdout",
          "text": [
            "{'apple': 300, 'pear': 250, 'peach': 400}\n"
          ]
        }
      ]
    },
    {
      "cell_type": "code",
      "source": [
        "#100. date와 close_price 두 개의 리스트를 close_table 이름의 딕셔너리로 생성하라. \n",
        "date = [\"09/05\",\"09/06\",\"09/08\",\"09/09\"]\n",
        "close_price = [10500, 10300, 10100, 10800, 11000]\n",
        "close_table =dict(zip(date, close_price))\n",
        "close_table"
      ],
      "metadata": {
        "colab": {
          "base_uri": "https://localhost:8080/"
        },
        "id": "u5E9qeFSCm3C",
        "outputId": "ffcc563d-288d-413e-c42f-87e4e94f691e"
      },
      "execution_count": 37,
      "outputs": [
        {
          "output_type": "execute_result",
          "data": {
            "text/plain": [
              "{'09/05': 10500, '09/06': 10300, '09/08': 10100, '09/09': 10800}"
            ]
          },
          "metadata": {},
          "execution_count": 37
        }
      ]
    },
    {
      "cell_type": "code",
      "source": [
        "datetime.datetime.now()"
      ],
      "metadata": {
        "colab": {
          "base_uri": "https://localhost:8080/"
        },
        "id": "GL95AHmfDswW",
        "outputId": "4baf443f-b254-48af-c239-eb15a11e9bd4"
      },
      "execution_count": 39,
      "outputs": [
        {
          "output_type": "execute_result",
          "data": {
            "text/plain": [
              "datetime.datetime(2022, 8, 10, 9, 21, 29, 420517)"
            ]
          },
          "metadata": {},
          "execution_count": 39
        }
      ]
    },
    {
      "cell_type": "code",
      "source": [
        "datetime.datetime.now()"
      ],
      "metadata": {
        "colab": {
          "base_uri": "https://localhost:8080/"
        },
        "id": "y3DwixaYDvNu",
        "outputId": "30a7524e-1cc6-4028-9c94-38e86fa372b2"
      },
      "execution_count": 3,
      "outputs": [
        {
          "output_type": "execute_result",
          "data": {
            "text/plain": [
              "datetime.datetime(2022, 8, 10, 13, 7, 28, 789383)"
            ]
          },
          "metadata": {},
          "execution_count": 3
        }
      ]
    },
    {
      "cell_type": "code",
      "source": [
        "#101. 파이썬에서 True 혹은 False를 갖는 데이터 타입은 무엇인가?\n",
        "print(\"예상 정답 : bool\")\n",
        "print(\"=\"*40)\n",
        "print(\"정답 : bool 타입\")"
      ],
      "metadata": {
        "colab": {
          "base_uri": "https://localhost:8080/"
        },
        "id": "vF2GLf6u3ZXI",
        "outputId": "9c995242-179b-43d2-ec64-20c49ce8b0b0"
      },
      "execution_count": 4,
      "outputs": [
        {
          "output_type": "stream",
          "name": "stdout",
          "text": [
            "예상 정답 : bool\n",
            "========================================\n",
            "정답 : bool 타입\n"
          ]
        }
      ]
    },
    {
      "cell_type": "code",
      "source": [
        "#102. 아래 코드의 출력 결과를 예상하라. \n",
        "print(3 == 5)\n",
        "print(\"예상 정답 : False가 나올 것 이다.\")"
      ],
      "metadata": {
        "colab": {
          "base_uri": "https://localhost:8080/"
        },
        "id": "prVpi_V732Xr",
        "outputId": "c61efb4c-7069-4619-8faf-663db65b5fb0"
      },
      "execution_count": 6,
      "outputs": [
        {
          "output_type": "stream",
          "name": "stdout",
          "text": [
            "False\n",
            "예상 정답 : False가 나올 것 이다.\n"
          ]
        }
      ]
    },
    {
      "cell_type": "code",
      "source": [
        "#103. 아래 코드의 출력 결과를 예상하라. \n",
        "print(3 < 5)\n",
        "print(\"예상 정답 : True\")"
      ],
      "metadata": {
        "colab": {
          "base_uri": "https://localhost:8080/"
        },
        "id": "SG3o9EPC4BSR",
        "outputId": "db10faf3-f029-452a-beb7-d9a5f9cf5599"
      },
      "execution_count": 7,
      "outputs": [
        {
          "output_type": "stream",
          "name": "stdout",
          "text": [
            "True\n",
            "예상 정답 : True\n"
          ]
        }
      ]
    },
    {
      "cell_type": "code",
      "source": [
        "#104. 아래 코드의 결과를 예상하라. \n",
        "X = 4 \n",
        "print(1 < X < 5)\n",
        "print(\"예상 정답 : True\")"
      ],
      "metadata": {
        "colab": {
          "base_uri": "https://localhost:8080/"
        },
        "id": "HrmlR-KP4k-2",
        "outputId": "212f9b85-17a3-411c-e8e2-d9408682db11"
      },
      "execution_count": 8,
      "outputs": [
        {
          "output_type": "stream",
          "name": "stdout",
          "text": [
            "True\n",
            "예상 정답 : True\n"
          ]
        }
      ]
    },
    {
      "cell_type": "code",
      "source": [
        "#105. 아래 코드의 결과를 예상하라. \n",
        "print((3 == 3) and (4 != 3) )\n"
      ],
      "metadata": {
        "colab": {
          "base_uri": "https://localhost:8080/"
        },
        "id": "FQkRhjdJ4u-o",
        "outputId": "8fe70d97-d4ce-487f-f3ce-c9d80b5f2ae4"
      },
      "execution_count": 10,
      "outputs": [
        {
          "output_type": "stream",
          "name": "stdout",
          "text": [
            "True\n"
          ]
        }
      ]
    },
    {
      "cell_type": "code",
      "source": [
        "#106. 아래 코드에서 에러가 발생하는 원인에 대해 설명하라. \n",
        "print(3 => 4)\n",
        "#부호의 순서가 =>가 아닌 >= 이다 "
      ],
      "metadata": {
        "colab": {
          "base_uri": "https://localhost:8080/",
          "height": 136
        },
        "id": "H54iS1gq45zH",
        "outputId": "f154ebbd-517f-4047-f9e0-1d66d35f739e"
      },
      "execution_count": 14,
      "outputs": [
        {
          "output_type": "error",
          "ename": "SyntaxError",
          "evalue": "ignored",
          "traceback": [
            "\u001b[0;36m  File \u001b[0;32m\"<ipython-input-14-c5e618371b28>\"\u001b[0;36m, line \u001b[0;32m2\u001b[0m\n\u001b[0;31m    print(3 => 4)\u001b[0m\n\u001b[0m             ^\u001b[0m\n\u001b[0;31mSyntaxError\u001b[0m\u001b[0;31m:\u001b[0m invalid syntax\n"
          ]
        }
      ]
    },
    {
      "cell_type": "code",
      "source": [
        "#107. 아래 코드의 출력 결과를 예상하라. \n",
        "if 4 < 3 :\n",
        "  print(\"hello world!\")\n",
        "\n",
        "print(\"예상 정답 : \",\"안나옴\")"
      ],
      "metadata": {
        "colab": {
          "base_uri": "https://localhost:8080/"
        },
        "id": "xbR6mUZ86Gkt",
        "outputId": "6e51c5a1-a5d5-4c9e-9ce2-f1063fc06583"
      },
      "execution_count": 15,
      "outputs": [
        {
          "output_type": "stream",
          "name": "stdout",
          "text": [
            "예상 정답 :  안나옴\n"
          ]
        }
      ]
    },
    {
      "cell_type": "code",
      "source": [
        "#108. 아래 코드의 출력 결과를 예상하라. \n",
        "if 4 < 3 :\n",
        "  print(\"Hello world!\")\n",
        "else:\n",
        "  print(\"Hi, there\")\n",
        "\n",
        "print(\"예상 : Hi, there\")"
      ],
      "metadata": {
        "colab": {
          "base_uri": "https://localhost:8080/"
        },
        "id": "H1n3hCSHTr9N",
        "outputId": "990b6067-1081-47e8-e52d-52e5a916d3eb"
      },
      "execution_count": 16,
      "outputs": [
        {
          "output_type": "stream",
          "name": "stdout",
          "text": [
            "Hi, there\n",
            "예상 : Hi, there\n"
          ]
        }
      ]
    },
    {
      "cell_type": "code",
      "source": [
        "#109. 아래 코드의 출력 결과를 예상하라. \n",
        "if True :\n",
        "    print (\"1\")\n",
        "    print (\"2\")\n",
        "else :\n",
        "    print(\"3\")\n",
        "print(\"4\")\n",
        "\n",
        "#예상 정답은 1,2,4이 출력된다. False값을 지정하지 않았기 때문이다. "
      ],
      "metadata": {
        "colab": {
          "base_uri": "https://localhost:8080/"
        },
        "id": "EHVCLZrGUA89",
        "outputId": "435260cb-3195-4426-a158-2f2adfea3832"
      },
      "execution_count": 17,
      "outputs": [
        {
          "output_type": "stream",
          "name": "stdout",
          "text": [
            "1\n",
            "2\n",
            "4\n"
          ]
        }
      ]
    },
    {
      "cell_type": "code",
      "source": [
        "#110. 아래 코드의 출력 결과를 예상하라.\n",
        "if True :\n",
        "    if False:\n",
        "        print(\"1\")\n",
        "        print(\"2\")\n",
        "    else:\n",
        "        print(\"3\")\n",
        "else :\n",
        "    print(\"4\")\n",
        "print(\"5\")\n",
        "\n",
        "# 1, 2 , 5가 출력된다. 첫번째 if문에서 True였고 두번째 if 문에서 False였기 때문에 \n",
        "#두번째 if문인 1,2가 출력되고, 큰 if문이 종료되고 외부의 print문인 5가 출력된다. "
      ],
      "metadata": {
        "colab": {
          "base_uri": "https://localhost:8080/"
        },
        "id": "D27FuFwsV6zo",
        "outputId": "7f0083ae-6905-4c91-f31d-20a201686e88"
      },
      "execution_count": 18,
      "outputs": [
        {
          "output_type": "stream",
          "name": "stdout",
          "text": [
            "3\n",
            "5\n"
          ]
        }
      ]
    },
    {
      "cell_type": "code",
      "source": [
        "#111. 사용자로부터 입력받은 문자열을 두 번 출력하라. 아래는 사용자가 \"안녕하세요\"를 입력한\n",
        "#경우의 출력결과이다. \n",
        "a = input()\n",
        "print(a+a)"
      ],
      "metadata": {
        "colab": {
          "base_uri": "https://localhost:8080/"
        },
        "id": "RZuhAaAxXFK6",
        "outputId": "c9bc7bbc-f98b-4cfe-99c4-ab2ec6fdc64c"
      },
      "execution_count": 19,
      "outputs": [
        {
          "output_type": "stream",
          "name": "stdout",
          "text": [
            "안녕하세요\n",
            "안녕하세요안녕하세요\n"
          ]
        }
      ]
    },
    {
      "cell_type": "code",
      "source": [
        "#112. 사용자로부터 하나의 숫자를 입력받고, 입력 받은 숫자에 10을 더해 출력하라. \n",
        "a = int(input(\"숫자를 입력하세요 : \"))\n",
        "print(a+10)"
      ],
      "metadata": {
        "colab": {
          "base_uri": "https://localhost:8080/"
        },
        "id": "_4sy4NdCXpxo",
        "outputId": "b0bc315b-6a3c-4ceb-ef6b-df7c4eb1bc70"
      },
      "execution_count": 21,
      "outputs": [
        {
          "output_type": "stream",
          "name": "stdout",
          "text": [
            "숫자를 입력하세요 :10\n",
            "20\n"
          ]
        }
      ]
    },
    {
      "cell_type": "code",
      "source": [
        "#113. 사용자로부터 하나의 숫자를 입력받고 짝수/ 홀수를 판별하라. \n",
        "a = int(input(\"숫자를 입력하세요 : \"))\n",
        "\n",
        "if a%2 == 0 :\n",
        "  print(\"짝수\")\n",
        "else:\n",
        "  print(\"홀수\")"
      ],
      "metadata": {
        "colab": {
          "base_uri": "https://localhost:8080/"
        },
        "id": "yxmqGvX-X93g",
        "outputId": "4af3519e-dd89-4e92-acdb-cf171f8265a4"
      },
      "execution_count": 23,
      "outputs": [
        {
          "output_type": "stream",
          "name": "stdout",
          "text": [
            "숫자를 입력하세요 : 5\n",
            "홀수\n"
          ]
        }
      ]
    },
    {
      "cell_type": "code",
      "source": [
        "#114. 사용자로부터 값을 입력받은 후 해당 값에 20을 더한 값을 출력하라. 단, 사용자가 \n",
        "#입력한 값과 20을 더한 계산 값이 255를 초과하는 경우, 255를 출력해야 한다. \n",
        "\n",
        "a = int(input(\"숫자를 입력하세요 : \"))\n",
        "\n",
        "if a <= 255 :\n",
        "  print(a+20)\n",
        "elif a > 255 :\n",
        "  print(255)"
      ],
      "metadata": {
        "colab": {
          "base_uri": "https://localhost:8080/"
        },
        "id": "KWtkwf8rYXVF",
        "outputId": "6e0b5e6d-6a4e-419e-d3ea-e5e5a4823b80"
      },
      "execution_count": 25,
      "outputs": [
        {
          "output_type": "stream",
          "name": "stdout",
          "text": [
            "숫자를 입력하세요 : 260\n",
            "255\n"
          ]
        }
      ]
    },
    {
      "cell_type": "code",
      "source": [
        "#115. 사용자로부터 하나의 값을 입력받은 후 해당 값에 20을 뺀 값을 출력하라. \n",
        "#단, 출력 값의 범위는 0~255이다. 예를 들어 결괏값이 0보다 작은 값이 되는 경우, 0을 출력\n",
        "#하고 255보다 큰 값이 되는 경우 255를 출력해야 한다. \n",
        "\n",
        "a = int(input(\"숫자를 입력하세요 : \"))\n",
        "\n",
        "if  (a >= 20) and (a <= 275):\n",
        "  print(a-20)\n",
        "\n",
        "elif a < 20 :\n",
        "  print(0)\n",
        "\n",
        "elif a > 275 : \n",
        "  print(255)"
      ],
      "metadata": {
        "colab": {
          "base_uri": "https://localhost:8080/"
        },
        "id": "YYqU1kKlY_XH",
        "outputId": "2bae4f0c-9486-472c-bbe2-2e18f2617a9b"
      },
      "execution_count": 35,
      "outputs": [
        {
          "output_type": "stream",
          "name": "stdout",
          "text": [
            "숫자를 입력하세요 : 274\n",
            "254\n"
          ]
        }
      ]
    },
    {
      "cell_type": "code",
      "source": [
        "#116. 사용자로부터 입력 받은 시간이 정각인지 판별하라. \n",
        "a = datetime(input(\"시간을 입력해주세요 : \"))\n",
        "\n",
        "if a"
      ],
      "metadata": {
        "id": "nw4SRAToZ3_L"
      },
      "execution_count": null,
      "outputs": []
    },
    {
      "cell_type": "code",
      "source": [
        "#117. 사용자로 입력받은 단어가 아래 fruit 리스트에 포함되어 있는지를 확인하라. \n",
        "fruit = [\"사과\",'포도',\"홍시\"]\n",
        "a = input(\"what is favorite fruit in korean? : \")\n",
        "\n",
        "if a in fruit : \n",
        "  print(\"정답입니다.\")\n",
        "\n",
        "else:\n",
        "  print(\"오답입니다.\")"
      ],
      "metadata": {
        "colab": {
          "base_uri": "https://localhost:8080/"
        },
        "id": "y22DAtWocUma",
        "outputId": "810fd210-c2a3-40df-ab2f-ab5b796fa58d"
      },
      "execution_count": 37,
      "outputs": [
        {
          "output_type": "stream",
          "name": "stdout",
          "text": [
            "what is favorite fruit in korean? : 감\n",
            "오답입니다.\n"
          ]
        }
      ]
    },
    {
      "cell_type": "code",
      "source": [
        "#118. 투자 경고 종목리스트가 있을때 사용자로부터 종목명을 입력 받은 후, \n",
        "#해당 종목이 투자 경고 종목이라면, '투자경고종목입니다.' 아니라면, \"투자 경고 종목이 아닙니다\"\n",
        "#를 출력하는 프로그램을 작성하라. \n",
        "\n",
        "warn_investment_list = [\"Microsoft\", \"Google\", \"Naver\", \"Kakao\", \"SAMSUNG\", \"LG\"]\n",
        "\n",
        "a = input(\"insert company name in English : \").lower()\n",
        "\n",
        "\n",
        "if a in [f.lower() for f in  warn_investment_list]:\n",
        "  print(\"투자 경고 종목입니다.\")\n",
        "else:\n",
        "  print(\"투자 경고 종목이 아닙니다.\")"
      ],
      "metadata": {
        "colab": {
          "base_uri": "https://localhost:8080/"
        },
        "id": "YksxwAmfeWOD",
        "outputId": "2f7697bd-59fe-4b7e-abd3-3654c694fd72"
      },
      "execution_count": 49,
      "outputs": [
        {
          "output_type": "stream",
          "name": "stdout",
          "text": [
            "insert company name in English : GOOGLE\n",
            "투자 경고 종목입니다.\n"
          ]
        }
      ]
    },
    {
      "cell_type": "code",
      "source": [
        "#119. 아래와 같이 fruit 딕셔너리가 정의되어 있다. 사용자가 입력한 값이 딕셔너리 키 값에 \n",
        "#포함되어 있다면, \"정답입니다\", 아닐 경우, \"오답입니다\"를 출력하라. \n",
        "fruit = {\"봄\": \"딸기\",\"여름\":\"토마토\",\"가을\":\"사과\"}\n",
        "\n",
        "a = input(\"제가 좋아하는 계절은 : \")\n",
        "\n",
        "if a in list(fruit.keys()):\n",
        "  print(\"정답입니다.\")\n",
        "\n",
        "else:\n",
        "  print(\"오답입니다.\")"
      ],
      "metadata": {
        "colab": {
          "base_uri": "https://localhost:8080/"
        },
        "id": "LG2ZqDCIfxMY",
        "outputId": "dabe8b04-1827-4dfc-f599-0a0466ed8c1e"
      },
      "execution_count": 52,
      "outputs": [
        {
          "output_type": "stream",
          "name": "stdout",
          "text": [
            "제가 좋아하는 계절은 : 겨울\n",
            "오답입니다.\n"
          ]
        }
      ]
    },
    {
      "cell_type": "code",
      "source": [
        "#120. 아아래와 같이 fruit 딕셔너리가 정의되어 있다. 사용자가 입력한 값이 딕셔너리 값 (value)에 포함되었다면 \n",
        "#\"정답입니다\"를 아닐 경우 \"오답입니다\" 출력하라.\n",
        "fruit = {\"봄\" : \"딸기\", \"여름\" : \"토마토\", \"가을\" : \"사과\"}\n",
        "\n",
        "a = input(\"좋아하는 과일은? : \")\n",
        "\n",
        "if a in fruit.values():\n",
        "  print(\"정답입니다.\")\n",
        "else:\n",
        "  print(\"오답입니다.\")"
      ],
      "metadata": {
        "colab": {
          "base_uri": "https://localhost:8080/"
        },
        "id": "LeIqIJq-gT1e",
        "outputId": "735bb325-8411-4343-acb3-9b12f00d0301"
      },
      "execution_count": 54,
      "outputs": [
        {
          "output_type": "stream",
          "name": "stdout",
          "text": [
            "좋아하는 과일은? : 한라봉\n",
            "오답입니다.\n"
          ]
        }
      ]
    },
    {
      "cell_type": "code",
      "source": [
        "datetime.datetime.now()"
      ],
      "metadata": {
        "colab": {
          "base_uri": "https://localhost:8080/"
        },
        "id": "xHPCGeQKkP6F",
        "outputId": "d049a959-70f4-42c4-e26c-aa4c9413eab2"
      },
      "execution_count": 55,
      "outputs": [
        {
          "output_type": "execute_result",
          "data": {
            "text/plain": [
              "datetime.datetime(2022, 8, 10, 16, 23, 36, 949639)"
            ]
          },
          "metadata": {},
          "execution_count": 55
        }
      ]
    },
    {
      "cell_type": "code",
      "source": [
        ""
      ],
      "metadata": {
        "id": "oHe8fvs8kY0W"
      },
      "execution_count": null,
      "outputs": []
    }
  ]
}