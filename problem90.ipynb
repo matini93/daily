{
  "nbformat": 4,
  "nbformat_minor": 0,
  "metadata": {
    "colab": {
      "name": "problem90.ipynb",
      "provenance": [],
      "collapsed_sections": []
    },
    "kernelspec": {
      "name": "python3",
      "display_name": "Python 3"
    },
    "language_info": {
      "name": "python"
    }
  },
  "cells": [
    {
      "cell_type": "code",
      "source": [
        "import datetime\n",
        "import numpy as np\n",
        "import pandas as pd "
      ],
      "metadata": {
        "id": "Om-n0vSpnDfZ"
      },
      "execution_count": 15,
      "outputs": []
    },
    {
      "cell_type": "code",
      "source": [
        "datetime.datetime.now()"
      ],
      "metadata": {
        "colab": {
          "base_uri": "https://localhost:8080/"
        },
        "id": "zTVe4HfAnJhF",
        "outputId": "1733bd19-ea5e-4bc0-e93e-13d738fab60d"
      },
      "execution_count": 16,
      "outputs": [
        {
          "output_type": "execute_result",
          "data": {
            "text/plain": [
              "datetime.datetime(2022, 8, 5, 6, 6, 30, 663779)"
            ]
          },
          "metadata": {},
          "execution_count": 16
        }
      ]
    },
    {
      "cell_type": "code",
      "execution_count": 18,
      "metadata": {
        "colab": {
          "base_uri": "https://localhost:8080/"
        },
        "id": "HghyezlqmJoC",
        "outputId": "1aec6b10-9e14-459e-b809-4f86906bb70f"
      },
      "outputs": [
        {
          "output_type": "stream",
          "name": "stdout",
          "text": [
            "[5, 4, 3, 2, 1]\n",
            "========================================\n",
            "정답 : nums[::-1]\n"
          ]
        }
      ],
      "source": [
        "#064. 슬라이싱을 사용해서 리스트의 숫자를 역 방향으로 출력하라. \n",
        "\n",
        "nums = [1,2,3,4,5]\n",
        "\n",
        "print(nums[-1::-1])\n",
        "print(\"=\"*40)\n",
        "print(\"정답 : nums[::-1]\")"
      ]
    },
    {
      "cell_type": "code",
      "source": [
        "#065. interest 리스트에는 아래의 데이터가 바인딩되어 있다. \n",
        "#interest 리스트를 사용하여 아래와 같이 화면에 출력하라. \n",
        "interest = [\"삼성전자\",\"LG전자\",\"Naver\"]\n",
        "print(interest[0]+\" \"+interest[2])"
      ],
      "metadata": {
        "colab": {
          "base_uri": "https://localhost:8080/"
        },
        "id": "s9om5l6JmlAb",
        "outputId": "b1d00adb-aeb0-4d0e-e9d6-8730f9a7f3ce"
      },
      "execution_count": 19,
      "outputs": [
        {
          "output_type": "stream",
          "name": "stdout",
          "text": [
            "삼성전자 Naver\n"
          ]
        }
      ]
    },
    {
      "cell_type": "code",
      "source": [
        "#066. interest 리스트에는 아래의 데이터가 바인딩되어 있다. \n",
        "#interest 리스트를 사용하여 아래와 같이 화면에 출력하라. \n",
        "\n",
        "interest = [\"삼성전자\",\"LG전자\",\"Naver\",\"SK하이닉스\",\"미래에셋대우\"]\n",
        "\n",
        "for i in range(len(interest)):\n",
        "  print(interest[i], end=\" \")\n",
        "print(\"\\n\")\n",
        "print(\"=\"*40)\n",
        "print(\"정답 :\") \n",
        "print(\" \".join(interest))\n",
        "\n"
      ],
      "metadata": {
        "colab": {
          "base_uri": "https://localhost:8080/"
        },
        "id": "lYgD9Vrvoov2",
        "outputId": "0c7b97c5-d126-4b82-ec6a-050eafba6cb6"
      },
      "execution_count": 24,
      "outputs": [
        {
          "output_type": "stream",
          "name": "stdout",
          "text": [
            "삼성전자 LG전자 Naver SK하이닉스 미래에셋대우 \n",
            "\n",
            "========================================\n",
            "정답 :\n",
            "삼성전자 LG전자 Naver SK하이닉스 미래에셋대우\n"
          ]
        }
      ]
    },
    {
      "cell_type": "code",
      "source": [
        "#067. interest 리스트를 사용하여 아래와 같이 화면에 출력하라. \n",
        "interest = ['삼성전자', 'LG전자', 'Naver', 'SK하이닉스', '미래에셋대우']\n",
        "\n",
        "print(\"/\".join(interest))"
      ],
      "metadata": {
        "colab": {
          "base_uri": "https://localhost:8080/"
        },
        "id": "BW_a-n_GpUIJ",
        "outputId": "d9b723e2-81b1-4d91-fe78-9cb622a34d7c"
      },
      "execution_count": 25,
      "outputs": [
        {
          "output_type": "stream",
          "name": "stdout",
          "text": [
            "삼성전자/LG전자/Naver/SK하이닉스/미래에셋대우\n"
          ]
        }
      ]
    },
    {
      "cell_type": "code",
      "source": [
        "#068. (join) join매서드를 사용해서 interest 리스트를 아래와 같이 화면에 출력해라. \n",
        "interest = ['삼성전자', 'LG전자', 'Naver', 'SK하이닉스', '미래에셋대우']\n",
        "\n",
        "print('\\n'.join(interest))"
      ],
      "metadata": {
        "colab": {
          "base_uri": "https://localhost:8080/"
        },
        "id": "wReXwHmSp6Eh",
        "outputId": "fb8d261e-fd2b-4fd5-afa1-342e62f79351"
      },
      "execution_count": 26,
      "outputs": [
        {
          "output_type": "stream",
          "name": "stdout",
          "text": [
            "삼성전자\n",
            "LG전자\n",
            "Naver\n",
            "SK하이닉스\n",
            "미래에셋대우\n"
          ]
        }
      ]
    },
    {
      "cell_type": "code",
      "source": [
        "#069. 문자열 split 매서드 \n",
        "#회사 이름이 슬래시(\"/\")로 구분되어 하나의 문자열로 저장되어 있다. \n",
        "#이를 interest이름의 리스트로 분리 저장하라. \n",
        "\n",
        "string = \"삼성전자/LG전자/Naver\"\n",
        "\n",
        "interest = string.split(\"/\")\n",
        "interest"
      ],
      "metadata": {
        "colab": {
          "base_uri": "https://localhost:8080/"
        },
        "id": "F153Vb0tqNAo",
        "outputId": "fab69e00-a4fa-472f-c37a-8e3f45eb80d5"
      },
      "execution_count": 28,
      "outputs": [
        {
          "output_type": "execute_result",
          "data": {
            "text/plain": [
              "['삼성전자', 'LG전자', 'Naver']"
            ]
          },
          "metadata": {},
          "execution_count": 28
        }
      ]
    },
    {
      "cell_type": "code",
      "source": [
        "#070. 리스트 정렬 \n",
        "#리스트에 있는 값을 오름차순으로 정렬하세요. \n",
        "data = [2,4,3,1,5,10,9]\n",
        "\n",
        "data.sort()\n",
        "data\n",
        "\n",
        "#list를 변환할 때 list 자체를 변수 지정하면 Nonetype으로 출력된다. \n",
        "\n",
        "print(\"=\"*40)\n",
        "print(\"정답 : \",\"1) data.sort()\",\"2) data2 = sorted(data)\")"
      ],
      "metadata": {
        "colab": {
          "base_uri": "https://localhost:8080/"
        },
        "id": "mabIaieUrZ0u",
        "outputId": "b1363a03-28b3-4395-adbf-9d7d6dc5d49f"
      },
      "execution_count": 43,
      "outputs": [
        {
          "output_type": "stream",
          "name": "stdout",
          "text": [
            "========================================\n",
            "정답 :  1) data.sort() 2) data2 = sorted(data)\n"
          ]
        }
      ]
    },
    {
      "cell_type": "code",
      "source": [
        "#071. my_variable 이름의 비어있는 튜플을 만들어라. \n",
        "\n",
        "my_varilable = ()\n",
        "\n",
        "print(\"=\"*40)\n",
        "print(\"정답\");print(\"\\n\")\n",
        "print(type(my_varilable))"
      ],
      "metadata": {
        "colab": {
          "base_uri": "https://localhost:8080/"
        },
        "id": "frV4ciUMr1ZN",
        "outputId": "b91e1b6b-ac97-4c78-f797-fcd708b76678"
      },
      "execution_count": 46,
      "outputs": [
        {
          "output_type": "stream",
          "name": "stdout",
          "text": [
            "========================================\n",
            "정답\n",
            "\n",
            "\n",
            "<class 'tuple'>\n"
          ]
        }
      ]
    },
    {
      "cell_type": "code",
      "source": [
        "#072. 2016년 영화 예매 순위 기준 top3는 다음과 같다. 영화 제목을 movie_rank 이름의 튜플에 저장하라. \n",
        "#순위 정보는 저장하지 않는다. \n",
        "df = pd.DataFrame(data={\"순위\":[1,2,3],\"영화\":[\"닥터 스트레인지\",\"스플릿\",\"럭키\"]})\n",
        "movie_rank = tuple(df[\"영화\"])\n",
        "len(movie_rank)\n",
        "print(type(movie_rank))"
      ],
      "metadata": {
        "colab": {
          "base_uri": "https://localhost:8080/"
        },
        "id": "GBTFhDicr-wR",
        "outputId": "13dfe733-3f43-4b6c-9b7a-3cfc46f8b80f"
      },
      "execution_count": 61,
      "outputs": [
        {
          "output_type": "stream",
          "name": "stdout",
          "text": [
            "<class 'tuple'>\n"
          ]
        }
      ]
    },
    {
      "cell_type": "code",
      "source": [
        "#073. 숫자 1이 저장된 튜플을 생성하라. \n",
        "exam_tuple = (1,)\n",
        "print(exam_tuple, type(exam_tuple))"
      ],
      "metadata": {
        "colab": {
          "base_uri": "https://localhost:8080/"
        },
        "id": "tX3zumQzvHLg",
        "outputId": "8d5ffc47-7600-4b2a-acce-1b89f18d636c"
      },
      "execution_count": 65,
      "outputs": [
        {
          "output_type": "stream",
          "name": "stdout",
          "text": [
            "(1,) <class 'tuple'>\n"
          ]
        }
      ]
    },
    {
      "cell_type": "code",
      "source": [
        "#074. 다음 코드를 실행해보고 오류가 발생하는 원인을 설명하라. \n",
        "t = (1,2,3)\n",
        "t[0] = 'a'\n",
        "# tuple은 슬라이싱 할 수 없다. 즉, tuple은 변경이 불가능하다. "
      ],
      "metadata": {
        "colab": {
          "base_uri": "https://localhost:8080/",
          "height": 209
        },
        "id": "9b4dkc16zfYF",
        "outputId": "62b1b8b6-3fc4-42e0-b8d9-c5f0a3f9d4e5"
      },
      "execution_count": 66,
      "outputs": [
        {
          "output_type": "error",
          "ename": "TypeError",
          "evalue": "ignored",
          "traceback": [
            "\u001b[0;31m---------------------------------------------------------------------------\u001b[0m",
            "\u001b[0;31mTypeError\u001b[0m                                 Traceback (most recent call last)",
            "\u001b[0;32m<ipython-input-66-0689524ec24a>\u001b[0m in \u001b[0;36m<module>\u001b[0;34m()\u001b[0m\n\u001b[1;32m      1\u001b[0m \u001b[0;31m#074. 다음 코드를 실행해보고 오류가 발생하는 원인을 설명하라.\u001b[0m\u001b[0;34m\u001b[0m\u001b[0;34m\u001b[0m\u001b[0;34m\u001b[0m\u001b[0m\n\u001b[1;32m      2\u001b[0m \u001b[0mt\u001b[0m \u001b[0;34m=\u001b[0m \u001b[0;34m(\u001b[0m\u001b[0;36m1\u001b[0m\u001b[0;34m,\u001b[0m\u001b[0;36m2\u001b[0m\u001b[0;34m,\u001b[0m\u001b[0;36m3\u001b[0m\u001b[0;34m)\u001b[0m\u001b[0;34m\u001b[0m\u001b[0;34m\u001b[0m\u001b[0m\n\u001b[0;32m----> 3\u001b[0;31m \u001b[0mt\u001b[0m\u001b[0;34m[\u001b[0m\u001b[0;36m0\u001b[0m\u001b[0;34m]\u001b[0m \u001b[0;34m=\u001b[0m \u001b[0;34m'a'\u001b[0m\u001b[0;34m\u001b[0m\u001b[0;34m\u001b[0m\u001b[0m\n\u001b[0m",
            "\u001b[0;31mTypeError\u001b[0m: 'tuple' object does not support item assignment"
          ]
        }
      ]
    },
    {
      "cell_type": "code",
      "source": [
        "#075. 아래와 같이 t에는 1, 2, ,3 ,4 데이터가 바인딩되어 있다. t가 바인딩하는 데이터 타입은 무엇인가? \n",
        "t = 1,2,3,4 \n",
        "print(\"예상 : int\")\n",
        "print(\"=\"*40)\n",
        "print(\"정답 : \",type(t))\n",
        "#tuple은 괄호와 함께 데이터를 정의해야 하지만, 사용자 편의를 위해 괄호 없이도 동작한다, \n"
      ],
      "metadata": {
        "colab": {
          "base_uri": "https://localhost:8080/"
        },
        "id": "lnoEDUf31u43",
        "outputId": "2b383de7-6675-41f5-f9e2-d95f4aeef833"
      },
      "execution_count": 69,
      "outputs": [
        {
          "output_type": "stream",
          "name": "stdout",
          "text": [
            "예상 : int\n",
            "========================================\n",
            "정답 :  <class 'tuple'>\n"
          ]
        }
      ]
    },
    {
      "cell_type": "code",
      "source": [
        "datetime.datetime.now()"
      ],
      "metadata": {
        "colab": {
          "base_uri": "https://localhost:8080/"
        },
        "id": "R_M_Q5X33RFD",
        "outputId": "aca04c6a-ee74-4372-fb3c-1b5873ba44ec"
      },
      "execution_count": 71,
      "outputs": [
        {
          "output_type": "execute_result",
          "data": {
            "text/plain": [
              "datetime.datetime(2022, 8, 5, 8, 6, 53, 211810)"
            ]
          },
          "metadata": {},
          "execution_count": 71
        }
      ]
    },
    {
      "cell_type": "code",
      "source": [
        "#075. 아래와 같이 t에는 1,2,3,4가 바인딩되어 있다. t가 바인딩하는 데이터 타입은 무엇인가? \n",
        "t = 1,2,3,4 \n",
        "print(\"예상 : tuple\")\n",
        "print(\"=\"*40 )\n",
        "print(\"정답 :\",type(t))"
      ],
      "metadata": {
        "colab": {
          "base_uri": "https://localhost:8080/"
        },
        "id": "pU7WM58N2P3-",
        "outputId": "3f2aade9-6d9c-49b7-b385-f3a5d98b748b"
      },
      "execution_count": 72,
      "outputs": [
        {
          "output_type": "stream",
          "name": "stdout",
          "text": [
            "예상 : tuple\n",
            "========================================\n",
            "정답 : <class 'tuple'>\n"
          ]
        }
      ]
    },
    {
      "cell_type": "code",
      "source": [
        "#076. 변수 t에는 아래와 같은 값이 저장되어 있다. 변수 t가 ('A','B','C')튜플을 가르키도록 수정하라 \n",
        "t = ('a','b','c')\n",
        "t = ('A',\"B\",'C')\n",
        "t\n",
        "#튜플의 값은 변경이 되지 않기 때문에, 새로운 값을 변수에 할당해 준다. "
      ],
      "metadata": {
        "colab": {
          "base_uri": "https://localhost:8080/"
        },
        "id": "hTTMeIxOF_kF",
        "outputId": "2b756cd9-5988-42fb-8d4d-8380f99152e3"
      },
      "execution_count": 74,
      "outputs": [
        {
          "output_type": "execute_result",
          "data": {
            "text/plain": [
              "('A', 'B', 'C')"
            ]
          },
          "metadata": {},
          "execution_count": 74
        }
      ]
    },
    {
      "cell_type": "code",
      "source": [
        "#077. 다음 튜플을 리스트로 변환하라. \n",
        "interest = (\"삼성전자\",\"LG전자\",\"SK Hynix\")\n",
        "interest = list(interest)\n",
        "print(interest,type(interest))"
      ],
      "metadata": {
        "colab": {
          "base_uri": "https://localhost:8080/"
        },
        "id": "XrxzFd98GZpB",
        "outputId": "7a0d4406-d7cc-462f-a991-9c0bde19af78"
      },
      "execution_count": 76,
      "outputs": [
        {
          "output_type": "stream",
          "name": "stdout",
          "text": [
            "['삼성전자', 'LG전자', 'SK Hynix'] <class 'list'>\n"
          ]
        }
      ]
    },
    {
      "cell_type": "code",
      "source": [
        "#078. 다음 리스트를 튜플로 변경하라. \n",
        "interest = [\"삼성전자\",\"LG전자\",\"SK Hynix\"]\n",
        "interest = tuple(interest)\n",
        "print(interest,type(interest))"
      ],
      "metadata": {
        "colab": {
          "base_uri": "https://localhost:8080/"
        },
        "id": "YyOsu7uDHPwC",
        "outputId": "240570e9-1c0f-4084-e258-e7ed8990cff8"
      },
      "execution_count": 78,
      "outputs": [
        {
          "output_type": "stream",
          "name": "stdout",
          "text": [
            "('삼성전자', 'LG전자', 'SK Hynix') <class 'tuple'>\n"
          ]
        }
      ]
    },
    {
      "cell_type": "code",
      "source": [
        "#079. 다음 코드의 실행 결과를 예상하라.\n",
        "temp = (\"apple\",\"banana\",\"cake\")\n",
        "\n",
        "a,b,c = temp\n",
        "print('예상 : (\"apple\",\"banana\",\"cake\")')\n",
        "print(\"=\"*40)\n",
        "print(\"정답 :\",a,b,c)\n",
        "#각각의 변수에 할당된다. "
      ],
      "metadata": {
        "colab": {
          "base_uri": "https://localhost:8080/"
        },
        "id": "sBaMcNMrIb3K",
        "outputId": "82b64332-4423-40aa-fb4e-8db941e63d1f"
      },
      "execution_count": 80,
      "outputs": [
        {
          "output_type": "stream",
          "name": "stdout",
          "text": [
            "예상 : (\"apple\",\"banana\",\"cake\")\n",
            "========================================\n",
            "정답 : apple banana cake\n"
          ]
        }
      ]
    },
    {
      "cell_type": "code",
      "source": [
        "#080. 1부터 99까지의 정수 중 짝수만 저장된 튜플을 생성하라. \n",
        "correct_tuple = tuple(range(2,99,2))\n",
        "correct_tuple"
      ],
      "metadata": {
        "colab": {
          "base_uri": "https://localhost:8080/"
        },
        "id": "hdCmgqfrYUb4",
        "outputId": "b36a0d1c-79ec-45fd-935f-d44f1f6b0e39"
      },
      "execution_count": 82,
      "outputs": [
        {
          "output_type": "execute_result",
          "data": {
            "text/plain": [
              "(2,\n",
              " 4,\n",
              " 6,\n",
              " 8,\n",
              " 10,\n",
              " 12,\n",
              " 14,\n",
              " 16,\n",
              " 18,\n",
              " 20,\n",
              " 22,\n",
              " 24,\n",
              " 26,\n",
              " 28,\n",
              " 30,\n",
              " 32,\n",
              " 34,\n",
              " 36,\n",
              " 38,\n",
              " 40,\n",
              " 42,\n",
              " 44,\n",
              " 46,\n",
              " 48,\n",
              " 50,\n",
              " 52,\n",
              " 54,\n",
              " 56,\n",
              " 58,\n",
              " 60,\n",
              " 62,\n",
              " 64,\n",
              " 66,\n",
              " 68,\n",
              " 70,\n",
              " 72,\n",
              " 74,\n",
              " 76,\n",
              " 78,\n",
              " 80,\n",
              " 82,\n",
              " 84,\n",
              " 86,\n",
              " 88,\n",
              " 90,\n",
              " 92,\n",
              " 94,\n",
              " 96,\n",
              " 98)"
            ]
          },
          "metadata": {},
          "execution_count": 82
        }
      ]
    },
    {
      "cell_type": "code",
      "source": [
        "#기본적으로 데이터 언패킹은 좌변의 변수와 우변의 데이터 개수가 같아야 한다. \n",
        "#하지만 star expression을 사용하면 변수의 개수가 달라도 데이터 언패킹을 할 수 있다. \n",
        "#튜플에 저장된 데이터 중에서 앞에 있는 두 개의 데이터만 필요할 경우 나머지 데이터의 언패킹 코드를 작성할 필요가 없다. \n",
        "#081. 다음과 같이 10개의 값이 저장된 scores 리스트가 있을 때, start expression을 사용하여\n",
        "#좌측 8개의 값을 vaild_score 변수에 바인딩하라. \n",
        "scores =[8.8,8.9,8.7,9.2,9.3,9.7,9.9,9.5,7.8,9.4]\n",
        "\n",
        "*vaild_score,a,b = scores\n",
        "print(a)\n",
        "print(b)\n",
        "print(vaild_score)"
      ],
      "metadata": {
        "colab": {
          "base_uri": "https://localhost:8080/"
        },
        "id": "Hr9aWG_-Yv9Q",
        "outputId": "37c8487a-879c-4ea3-93e9-1f12d7f18ce1"
      },
      "execution_count": 89,
      "outputs": [
        {
          "output_type": "stream",
          "name": "stdout",
          "text": [
            "7.8\n",
            "9.4\n",
            "[8.8, 8.9, 8.7, 9.2, 9.3, 9.7, 9.9, 9.5]\n"
          ]
        }
      ]
    },
    {
      "cell_type": "code",
      "source": [
        "#082. 다음과 같이 10개의 값이 저장된 scores 리스트가 있을 때, start expression을 \n",
        "#사용하여 우측 8개의 값을 vaild_score 변수에 바인딩하여라. \n",
        "scores = [8.8, 8.9, 8.7, 9.2, 9.3, 9.7, 9.9, 9.5, 7.8, 9.4]\n",
        "len(scores)\n",
        "a, b, *vaild_score = scores\n",
        "vaild_score"
      ],
      "metadata": {
        "colab": {
          "base_uri": "https://localhost:8080/"
        },
        "id": "JZ2Fc5acckKF",
        "outputId": "89feb8a7-dc67-4669-afdb-1ed9ce8cbf74"
      },
      "execution_count": 90,
      "outputs": [
        {
          "output_type": "execute_result",
          "data": {
            "text/plain": [
              "[8.7, 9.2, 9.3, 9.7, 9.9, 9.5, 7.8, 9.4]"
            ]
          },
          "metadata": {},
          "execution_count": 90
        }
      ]
    },
    {
      "cell_type": "code",
      "source": [
        "#083. 다음과 같이 10개의 값이 저장된 scores 리스트가 있을 때, start expression을 \n",
        "#사용하여 가운데 있는 8개의 값을 vaild_score 변수에 바인딩하여라. \n",
        "scores = [8.8, 8.9, 8.7, 9.2, 9.3, 9.7, 9.9, 9.5, 7.8, 9.4]\n",
        "_, *vaild_score,_ = scores\n",
        "vaild_score"
      ],
      "metadata": {
        "colab": {
          "base_uri": "https://localhost:8080/"
        },
        "id": "oBvTcKSLdOPG",
        "outputId": "d21b2d5d-9b1a-4ef2-9ca6-7b2e2520860f"
      },
      "execution_count": 91,
      "outputs": [
        {
          "output_type": "execute_result",
          "data": {
            "text/plain": [
              "[8.9, 8.7, 9.2, 9.3, 9.7, 9.9, 9.5, 7.8]"
            ]
          },
          "metadata": {},
          "execution_count": 91
        }
      ]
    },
    {
      "cell_type": "code",
      "source": [
        "#084. temp 이름의 비어있는 딕셔너리를 만들어라. \n",
        "temp ={} \n",
        "temp1 = dict()\n",
        "\n",
        "print(\"temp's type is :\",type(temp))\n",
        "print(\"temp1's type is :\",type(temp1))"
      ],
      "metadata": {
        "colab": {
          "base_uri": "https://localhost:8080/"
        },
        "id": "BcKpGOxjfEuO",
        "outputId": "a3ad1044-df71-4967-8160-354b9d70a32d"
      },
      "execution_count": 92,
      "outputs": [
        {
          "output_type": "stream",
          "name": "stdout",
          "text": [
            "temp's type is : <class 'dict'>\n",
            "temp1's type is : <class 'dict'>\n"
          ]
        }
      ]
    },
    {
      "cell_type": "code",
      "source": [
        "#085. 다음 아이스크림 이름과 희망가격을 딕셔너리로 구성하라. \n",
        "icecream = {\"메로나\":1000,\"폴라포\":1200,\"빵빠레\":1800}\n",
        "icecream"
      ],
      "metadata": {
        "colab": {
          "base_uri": "https://localhost:8080/"
        },
        "id": "ZGlj1EFAfXae",
        "outputId": "2161f6b8-d998-48ae-ccdf-87ece9a35608"
      },
      "execution_count": 93,
      "outputs": [
        {
          "output_type": "execute_result",
          "data": {
            "text/plain": [
              "{'메로나': 1000, '빵빠레': 1800, '폴라포': 1200}"
            ]
          },
          "metadata": {},
          "execution_count": 93
        }
      ]
    },
    {
      "cell_type": "code",
      "source": [
        "#086. 085번의 딕셔너리에 아래 아이스크림 가격정보를 추가하라. \n",
        "icecream[\"죠스바\"] = 1200\n",
        "icecream[\"월드콘\"] = 1500\n",
        "icecream"
      ],
      "metadata": {
        "colab": {
          "base_uri": "https://localhost:8080/"
        },
        "id": "Abwtn4cWfrFv",
        "outputId": "754f35f6-be29-48c9-9561-f971d894cbfb"
      },
      "execution_count": 100,
      "outputs": [
        {
          "output_type": "execute_result",
          "data": {
            "text/plain": [
              "{'메로나': 1000, '빵빠레': 1800, '월드콘': 1500, '죠스바': 1200, '폴라포': 1200}"
            ]
          },
          "metadata": {},
          "execution_count": 100
        }
      ]
    },
    {
      "cell_type": "code",
      "source": [
        " #087. 다음 딕셔너리를 이용하여 메로나 가격을 출력하라.\n",
        " print(\"내 정답 :\",icecream[\"메로나\"])\n",
        " print(\"=\"*40)\n",
        "print(\"메로나 가격: \", icecream[\"메로나\"])"
      ],
      "metadata": {
        "colab": {
          "base_uri": "https://localhost:8080/"
        },
        "id": "OXcDAYHlf9Fb",
        "outputId": "56dc3281-ce1f-4711-96df-7792e69f56e8"
      },
      "execution_count": 101,
      "outputs": [
        {
          "output_type": "stream",
          "name": "stdout",
          "text": [
            "내 정답 : 1000\n",
            "========================================\n",
            "메로나 가격:  1000\n"
          ]
        }
      ]
    },
    {
      "cell_type": "code",
      "source": [
        "#088. 다음 딕셔너리에서 메로나의 가격을 1300으로 수정하라. \n",
        "icecream[\"메로나\"] = 1300\n",
        "icecream"
      ],
      "metadata": {
        "colab": {
          "base_uri": "https://localhost:8080/"
        },
        "id": "58zs7zidhvtb",
        "outputId": "6438f8ee-fd62-40ca-cab3-6fd203733634"
      },
      "execution_count": 102,
      "outputs": [
        {
          "output_type": "execute_result",
          "data": {
            "text/plain": [
              "{'메로나': 1300, '빵빠레': 1800, '월드콘': 1500, '죠스바': 1200, '폴라포': 1200}"
            ]
          },
          "metadata": {},
          "execution_count": 102
        }
      ]
    },
    {
      "cell_type": "code",
      "source": [
        "#089. 다음 딕셔너리에서 메로나를 삭제해라. \n",
        "del icecream[\"메로나\"]\n",
        "icecream"
      ],
      "metadata": {
        "colab": {
          "base_uri": "https://localhost:8080/"
        },
        "id": "irTjDBW5ildm",
        "outputId": "dfd6c118-8276-4470-98dd-19cc8e30afd8"
      },
      "execution_count": 103,
      "outputs": [
        {
          "output_type": "execute_result",
          "data": {
            "text/plain": [
              "{'빵빠레': 1800, '월드콘': 1500, '죠스바': 1200, '폴라포': 1200}"
            ]
          },
          "metadata": {},
          "execution_count": 103
        }
      ]
    },
    {
      "cell_type": "code",
      "source": [
        "#090. 다음 코드에서 에러가 발생한 원인을 설명하라. \n",
        "icecream = {'폴라포': 1200, '빵빠레': 1800, '월드콘': 1500, '메로나': 1000}\n",
        "icecream['누가바']\n",
        "#dict안에 \"누가바\"키 값을 가진 value값이 없기 때문이다. "
      ],
      "metadata": {
        "colab": {
          "base_uri": "https://localhost:8080/",
          "height": 209
        },
        "id": "q5ECtpYgivsK",
        "outputId": "e3fcb80c-04c1-4bbe-e0cf-92e5f3cdb19a"
      },
      "execution_count": 104,
      "outputs": [
        {
          "output_type": "error",
          "ename": "KeyError",
          "evalue": "ignored",
          "traceback": [
            "\u001b[0;31m---------------------------------------------------------------------------\u001b[0m",
            "\u001b[0;31mKeyError\u001b[0m                                  Traceback (most recent call last)",
            "\u001b[0;32m<ipython-input-104-dc234adcdf0a>\u001b[0m in \u001b[0;36m<module>\u001b[0;34m()\u001b[0m\n\u001b[1;32m      1\u001b[0m \u001b[0;31m#090. 다음 코드에서 에러가 발생한 원인을 설명하라.\u001b[0m\u001b[0;34m\u001b[0m\u001b[0;34m\u001b[0m\u001b[0;34m\u001b[0m\u001b[0m\n\u001b[1;32m      2\u001b[0m \u001b[0micecream\u001b[0m \u001b[0;34m=\u001b[0m \u001b[0;34m{\u001b[0m\u001b[0;34m'폴라포'\u001b[0m\u001b[0;34m:\u001b[0m \u001b[0;36m1200\u001b[0m\u001b[0;34m,\u001b[0m \u001b[0;34m'빵빠레'\u001b[0m\u001b[0;34m:\u001b[0m \u001b[0;36m1800\u001b[0m\u001b[0;34m,\u001b[0m \u001b[0;34m'월드콘'\u001b[0m\u001b[0;34m:\u001b[0m \u001b[0;36m1500\u001b[0m\u001b[0;34m,\u001b[0m \u001b[0;34m'메로나'\u001b[0m\u001b[0;34m:\u001b[0m \u001b[0;36m1000\u001b[0m\u001b[0;34m}\u001b[0m\u001b[0;34m\u001b[0m\u001b[0;34m\u001b[0m\u001b[0m\n\u001b[0;32m----> 3\u001b[0;31m \u001b[0micecream\u001b[0m\u001b[0;34m[\u001b[0m\u001b[0;34m'누가바'\u001b[0m\u001b[0;34m]\u001b[0m\u001b[0;34m\u001b[0m\u001b[0;34m\u001b[0m\u001b[0m\n\u001b[0m",
            "\u001b[0;31mKeyError\u001b[0m: '누가바'"
          ]
        }
      ]
    },
    {
      "cell_type": "code",
      "source": [
        ""
      ],
      "metadata": {
        "id": "OA1rJW5Wi9v7"
      },
      "execution_count": null,
      "outputs": []
    }
  ]
}