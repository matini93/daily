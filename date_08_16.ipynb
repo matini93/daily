{
  "nbformat": 4,
  "nbformat_minor": 0,
  "metadata": {
    "colab": {
      "name": "date_08_16.ipynb",
      "provenance": []
    },
    "kernelspec": {
      "name": "python3",
      "display_name": "Python 3"
    },
    "language_info": {
      "name": "python"
    }
  },
  "cells": [
    {
      "cell_type": "code",
      "execution_count": 1,
      "metadata": {
        "id": "jwcT9Ki7f6zX"
      },
      "outputs": [],
      "source": [
        "import datetime"
      ]
    },
    {
      "cell_type": "code",
      "source": [
        "datetime.datetime.now()"
      ],
      "metadata": {
        "colab": {
          "base_uri": "https://localhost:8080/"
        },
        "id": "IuybASDKgCQ2",
        "outputId": "9f1a4180-15fb-4a25-eb82-dc44ba83eb3c"
      },
      "execution_count": 2,
      "outputs": [
        {
          "output_type": "execute_result",
          "data": {
            "text/plain": [
              "datetime.datetime(2022, 8, 16, 2, 36, 17, 829675)"
            ]
          },
          "metadata": {},
          "execution_count": 2
        }
      ]
    },
    {
      "cell_type": "code",
      "source": [
        "#161. for문과 range 구믄을 사용해서 0~99까지 한 라인에 하나씩 순차적으로 출력하는 프로그램을 작성하라. \n",
        "for i in range(100): \n",
        "  print(i)"
      ],
      "metadata": {
        "id": "BVVKa_fvgkM1"
      },
      "execution_count": null,
      "outputs": []
    },
    {
      "cell_type": "code",
      "source": [
        "#162. 월드컵은 4년마다 한 번 개최된다. range()를 사용하여 2002~2050년까지 중 월드컵이 개최되는 연도를 출력하라. \n",
        "for i in range(2002,2051,4):\n",
        "  print(i)"
      ],
      "metadata": {
        "colab": {
          "base_uri": "https://localhost:8080/"
        },
        "id": "IIGS19wygyWs",
        "outputId": "64f6f1a4-a23e-48d6-ef13-2b155c9c27d7"
      },
      "execution_count": 5,
      "outputs": [
        {
          "output_type": "stream",
          "name": "stdout",
          "text": [
            "2002\n",
            "2006\n",
            "2010\n",
            "2014\n",
            "2018\n",
            "2022\n",
            "2026\n",
            "2030\n",
            "2034\n",
            "2038\n",
            "2042\n",
            "2046\n",
            "2050\n"
          ]
        }
      ]
    },
    {
      "cell_type": "code",
      "source": [
        "#163. 1부터 30까지의 숫자 중 3의 배수를 출력하라. \n",
        "for i in range(1,31):\n",
        "  if i%3==0:\n",
        "    print(i)"
      ],
      "metadata": {
        "colab": {
          "base_uri": "https://localhost:8080/"
        },
        "id": "8U2UkrYIhFE1",
        "outputId": "4e36ebe3-b3a1-4c73-d1ce-c8d33f586cbd"
      },
      "execution_count": 7,
      "outputs": [
        {
          "output_type": "stream",
          "name": "stdout",
          "text": [
            "3\n",
            "6\n",
            "9\n",
            "12\n",
            "15\n",
            "18\n",
            "21\n",
            "24\n",
            "27\n",
            "30\n"
          ]
        }
      ]
    },
    {
      "cell_type": "code",
      "source": [
        "#164. 99부터 0까지 감소하는 숫자들을 한 라인에 하나씩 출력하라. \n",
        "for i in range(99,-1,-1):\n",
        "  print(i)\n",
        "\n",
        "#for i in ragne(100):\n",
        "#  print(99-i)"
      ],
      "metadata": {
        "id": "_LFdWUfPhUsF"
      },
      "execution_count": null,
      "outputs": []
    },
    {
      "cell_type": "code",
      "source": [
        "#165. for문을 사용해서 아래와 같이 출력하라. \n",
        "for i in range(10):\n",
        "  print(\"0.\",i)\n",
        "print(\"=\"*40)\n",
        "for i in range(10): \n",
        "  print(i /10)"
      ],
      "metadata": {
        "colab": {
          "base_uri": "https://localhost:8080/"
        },
        "id": "1zXRTBebhvpW",
        "outputId": "05c782c3-db34-4aa1-af06-6df530c40d69"
      },
      "execution_count": 19,
      "outputs": [
        {
          "output_type": "stream",
          "name": "stdout",
          "text": [
            "0. 0\n",
            "0. 1\n",
            "0. 2\n",
            "0. 3\n",
            "0. 4\n",
            "0. 5\n",
            "0. 6\n",
            "0. 7\n",
            "0. 8\n",
            "0. 9\n",
            "========================================\n",
            "0.0\n",
            "0.1\n",
            "0.2\n",
            "0.3\n",
            "0.4\n",
            "0.5\n",
            "0.6\n",
            "0.7\n",
            "0.8\n",
            "0.9\n"
          ]
        }
      ]
    },
    {
      "cell_type": "code",
      "source": [
        "#166. 구구단 3단을 출력하라. \n",
        "for i in range(1,10):\n",
        "  print(\"3 X {} = {}\".format(i,3*i))"
      ],
      "metadata": {
        "colab": {
          "base_uri": "https://localhost:8080/"
        },
        "id": "dknrlxfciHv0",
        "outputId": "41fa52cd-5b94-48aa-f3d1-b306d66bce3f"
      },
      "execution_count": 20,
      "outputs": [
        {
          "output_type": "stream",
          "name": "stdout",
          "text": [
            "3 X 1 = 3\n",
            "3 X 2 = 6\n",
            "3 X 3 = 9\n",
            "3 X 4 = 12\n",
            "3 X 5 = 15\n",
            "3 X 6 = 18\n",
            "3 X 7 = 21\n",
            "3 X 8 = 24\n",
            "3 X 9 = 27\n"
          ]
        }
      ]
    },
    {
      "cell_type": "code",
      "source": [
        "#167. 구구단 3단을 출력하라. 단 홀수 번째만 출력한다. \n",
        "for i in range(1,10): \n",
        "  if i%2 == 0:\n",
        "    pass\n",
        "  else:\n",
        "    print(\"3 X {} = {}\".format(i, i*3))"
      ],
      "metadata": {
        "colab": {
          "base_uri": "https://localhost:8080/"
        },
        "id": "trkCJZd6k-WN",
        "outputId": "93f96504-a91d-44f6-ebb2-890175bbd2f2"
      },
      "execution_count": 26,
      "outputs": [
        {
          "output_type": "stream",
          "name": "stdout",
          "text": [
            "3 X 1 = 3\n",
            "3 X 3 = 9\n",
            "3 X 5 = 15\n",
            "3 X 7 = 21\n",
            "3 X 9 = 27\n"
          ]
        }
      ]
    },
    {
      "cell_type": "code",
      "source": [
        "#168. 1~10까지의 숫자에 대해 모두 더한 값을 출력하는 프로그램을 for문을 사용하여 작성하라. \n",
        "num=[]\n",
        "for j in range(11):\n",
        "  num.append(j)\n",
        "  a = sum(num)\n",
        "print(a)\n",
        "print(\"=\"*40)\n",
        "num_sum=0\n",
        "for i in range(11):\n",
        "  num_sum += i \n",
        "print(num_sum)"
      ],
      "metadata": {
        "colab": {
          "base_uri": "https://localhost:8080/"
        },
        "id": "Yu9yItAllOwQ",
        "outputId": "d78d05c4-7fe5-44bb-c72a-965692023e11"
      },
      "execution_count": 36,
      "outputs": [
        {
          "output_type": "stream",
          "name": "stdout",
          "text": [
            "55\n",
            "========================================\n",
            "55\n"
          ]
        }
      ]
    },
    {
      "cell_type": "code",
      "source": [
        "#169. 1~10까지의 숫자 중 모든 홀수의 합을 출력하는 프로그램을 for문을 사용하여 작성하라. \n",
        "odd_sum = 0\n",
        "for i in range(11):\n",
        "  if i %2 == 0:\n",
        "    pass\n",
        "  else:\n",
        "    odd_sum += i \n",
        "print(odd_sum)\n",
        "    "
      ],
      "metadata": {
        "colab": {
          "base_uri": "https://localhost:8080/"
        },
        "id": "-L_KHcE4l_Ut",
        "outputId": "23e66822-6ac8-48d0-fc87-ed30c208dee8"
      },
      "execution_count": 43,
      "outputs": [
        {
          "output_type": "stream",
          "name": "stdout",
          "text": [
            "25\n"
          ]
        }
      ]
    },
    {
      "cell_type": "code",
      "source": [
        "#170. 1~10까지의 숫자를 모두 곱한 값을 출력하는 프로그램을 for문을 사용하여 작성하라. \n",
        "multi_num = 1 \n",
        "for i in range(1,11):\n",
        "  multi_num *= i\n",
        "print(multi_num)"
      ],
      "metadata": {
        "colab": {
          "base_uri": "https://localhost:8080/"
        },
        "id": "xlwoj8XJpF_O",
        "outputId": "5e46c9ad-f390-4849-dacd-43aa4fd08149"
      },
      "execution_count": 46,
      "outputs": [
        {
          "output_type": "stream",
          "name": "stdout",
          "text": [
            "3628800\n"
          ]
        }
      ]
    },
    {
      "cell_type": "code",
      "source": [
        "#171. 아래와 같이 리스트의 데이터를 출력하되, 단 for문과 range문을 사용하라. \n",
        "price_list = [32100, 32150, 32000, 32500]\n",
        "print(price_list[0])\n",
        "print(price_list[1])\n",
        "print(price_list[2])\n",
        "print(price_list[3])\n",
        "print(\"=\"*40)\n",
        "for element in price_list:\n",
        "  print(element)"
      ],
      "metadata": {
        "colab": {
          "base_uri": "https://localhost:8080/"
        },
        "id": "gK-G7P17udcb",
        "outputId": "b9674b20-c71a-477a-8786-004750d1ab93"
      },
      "execution_count": 47,
      "outputs": [
        {
          "output_type": "stream",
          "name": "stdout",
          "text": [
            "32100\n",
            "32150\n",
            "32000\n",
            "32500\n",
            "========================================\n",
            "32100\n",
            "32150\n",
            "32000\n",
            "32500\n"
          ]
        }
      ]
    },
    {
      "cell_type": "code",
      "source": [
        "#172. 아래와 같이 리스트의 데이터를 출력하라. 단, for문과 range문을 사용하라. \n",
        "price_list = [32100, 32150, 32000, 32500]\n",
        "print(0,price_list[0])\n",
        "print(1,price_list[1])\n",
        "print(2,price_list[2])\n",
        "print(3,price_list[3])\n",
        "print(\"=\"*40)\n",
        "for i in enumerate(price_list):\n",
        "  print(i)\n",
        "print(\"=\"*40)\n",
        "for i in range(4):\n",
        "  print(i,price_list[i])"
      ],
      "metadata": {
        "colab": {
          "base_uri": "https://localhost:8080/"
        },
        "id": "fFiOIbXQwIsC",
        "outputId": "a131bc83-12d0-4ec8-a616-9bb2de77d54b"
      },
      "execution_count": 51,
      "outputs": [
        {
          "output_type": "stream",
          "name": "stdout",
          "text": [
            "0 32100\n",
            "1 32150\n",
            "2 32000\n",
            "3 32500\n",
            "========================================\n",
            "(0, 32100)\n",
            "(1, 32150)\n",
            "(2, 32000)\n",
            "(3, 32500)\n",
            "========================================\n",
            "0 32100\n",
            "1 32150\n",
            "2 32000\n",
            "3 32500\n"
          ]
        }
      ]
    },
    {
      "cell_type": "code",
      "source": [
        "#173. 아래와 같이 리스트의 데이터를 출력하라. 단, for문과 range문을 사용하라. \n",
        "price_list = [32100, 32150, 32000, 32500]\n",
        "for i in range(4): \n",
        "  print(3-i,price_list[i])"
      ],
      "metadata": {
        "colab": {
          "base_uri": "https://localhost:8080/"
        },
        "id": "zqrgWl89xZcA",
        "outputId": "48afabd6-ba4a-4f76-ae43-2d4fb12c8cd9"
      },
      "execution_count": 52,
      "outputs": [
        {
          "output_type": "stream",
          "name": "stdout",
          "text": [
            "3 32100\n",
            "2 32150\n",
            "1 32000\n",
            "0 32500\n"
          ]
        }
      ]
    },
    {
      "cell_type": "code",
      "source": [
        "#174. 아래와 같이 리스트의 데이터를 출력하라. 단, for문과 range문을 사용하라. \n",
        "price_list = [32100, 32150, 32000, 32500]\n",
        "\n",
        "for i in range(1,4):\n",
        "  print(100+i*10-10,price_list[i])"
      ],
      "metadata": {
        "colab": {
          "base_uri": "https://localhost:8080/"
        },
        "id": "YfdK7UNXyMwO",
        "outputId": "81bdfef5-16e8-471a-89e4-789671cfb263"
      },
      "execution_count": 58,
      "outputs": [
        {
          "output_type": "stream",
          "name": "stdout",
          "text": [
            "100 32150\n",
            "110 32000\n",
            "120 32500\n"
          ]
        }
      ]
    },
    {
      "cell_type": "code",
      "source": [
        "#175. my_list를 아래와 같이 출력하라. \n",
        "my_list = [\"가\", \"나\", \"다\", \"라\"]\n",
        "for i in range(3):\n",
        "  print(my_list[i],my_list[1+i])"
      ],
      "metadata": {
        "colab": {
          "base_uri": "https://localhost:8080/"
        },
        "id": "LNOSfvDtzTlz",
        "outputId": "0c6dbc80-4594-4561-90dd-4bc50d4b266d"
      },
      "execution_count": 57,
      "outputs": [
        {
          "output_type": "stream",
          "name": "stdout",
          "text": [
            "가 나\n",
            "나 다\n",
            "다 라\n"
          ]
        }
      ]
    },
    {
      "cell_type": "code",
      "source": [
        "#176. 리스트를 아래와 같이 출력하라. \n",
        "my_list = [\"가\", \"나\", \"다\", \"라\", \"마\"]\n",
        "\n",
        "for i in range(3):\n",
        "  print(my_list[i],my_list[1+i],my_list[2+i])"
      ],
      "metadata": {
        "colab": {
          "base_uri": "https://localhost:8080/"
        },
        "id": "ZPFAN4f73DDi",
        "outputId": "3d0abb51-6b00-4c31-f885-0b0c74688d94"
      },
      "execution_count": 60,
      "outputs": [
        {
          "output_type": "stream",
          "name": "stdout",
          "text": [
            "가 나 다\n",
            "나 다 라\n",
            "다 라 마\n"
          ]
        }
      ]
    },
    {
      "cell_type": "code",
      "source": [
        "#177. 반복문과 range함수를 사용해서 my_list를 아래와 같이 출력하라. \n",
        "my_list = [\"가\", \"나\", \"다\", \"라\"]\n",
        "for i in range(3):\n",
        "  print(my_list[3-i],my_list[2-i])"
      ],
      "metadata": {
        "colab": {
          "base_uri": "https://localhost:8080/"
        },
        "id": "43UxOsWZ4HOY",
        "outputId": "d25dc583-5e7c-4d72-9ef9-5aba18f3f6bd"
      },
      "execution_count": 61,
      "outputs": [
        {
          "output_type": "stream",
          "name": "stdout",
          "text": [
            "라 다\n",
            "다 나\n",
            "나 가\n"
          ]
        }
      ]
    },
    {
      "cell_type": "code",
      "source": [
        "#178. 리스트에는 네 개의 정수가 저장되어 있다. 각각의 데이터에 대해서 자신과 우측값과의 차분값을 화면에 출력하라. \n",
        "my_list = [100, 200, 400, 800]\n",
        "for i in range(1,4):\n",
        "  print(my_list[i]-my_list[i-1])"
      ],
      "metadata": {
        "colab": {
          "base_uri": "https://localhost:8080/"
        },
        "id": "qaRwfuqm5jBI",
        "outputId": "c19f506f-6ade-4122-d171-f0da5256a793"
      },
      "execution_count": 63,
      "outputs": [
        {
          "output_type": "stream",
          "name": "stdout",
          "text": [
            "100\n",
            "200\n",
            "400\n"
          ]
        }
      ]
    },
    {
      "cell_type": "code",
      "source": [
        "#179. 리스트에는 6일 간의 종가 데이터가 저장되어 있다. 종가 데이터의 3일 이동 평균을 계산하고 이를 화면에 출력하라. \n",
        "my_list = [100, 200, 400, 800, 1000, 1300]\n",
        "for i in range(4):\n",
        "  print((my_list[2+i]+my_list[1+i]+my_list[i])/3)\n"
      ],
      "metadata": {
        "colab": {
          "base_uri": "https://localhost:8080/"
        },
        "id": "IT5mdes656vl",
        "outputId": "27b20de8-eff6-43e1-cf3b-685fc2fdd185"
      },
      "execution_count": 69,
      "outputs": [
        {
          "output_type": "stream",
          "name": "stdout",
          "text": [
            "233.33333333333334\n",
            "466.6666666666667\n",
            "733.3333333333334\n",
            "1033.3333333333333\n"
          ]
        }
      ]
    },
    {
      "cell_type": "code",
      "source": [
        "#180. 리스트에 5일간의 저가, 고가 정보가 저장돼 있다. 고가와 저가의 차를 변동폭이라고 정의할 때, \n",
        "#low, high 두개의 리스트를 사용해서 5일간의 변동폭을 volatility리스트에 저장하라. \n",
        "low_prices  = [100, 200, 400, 800, 1000]\n",
        "high_prices = [150, 300, 430, 880, 1000]\n",
        "volatility = []\n",
        "for i,j in zip(low_prices,high_prices):\n",
        "  volatility.append(j-i)\n",
        "volatility"
      ],
      "metadata": {
        "colab": {
          "base_uri": "https://localhost:8080/"
        },
        "id": "hGK03g7G7WOE",
        "outputId": "5a489b3c-b3e5-4297-e51f-767fc78e1141"
      },
      "execution_count": 67,
      "outputs": [
        {
          "output_type": "execute_result",
          "data": {
            "text/plain": [
              "[50, 100, 30, 80, 0]"
            ]
          },
          "metadata": {},
          "execution_count": 67
        }
      ]
    },
    {
      "cell_type": "code",
      "source": [
        "import pandas as pd"
      ],
      "metadata": {
        "id": "Lp7baUODg25X"
      },
      "execution_count": 1,
      "outputs": []
    },
    {
      "cell_type": "code",
      "source": [
        "#181. 표에서 하나의 행을 하나의 리스트로, 총 3개의 리스트를 갖는 이차원 리스트 apart를 정의하라. \n",
        "\n",
        "\n",
        "df = pd.DataFrame(data=[[\"101호\",\"102호\"],[\"201호\",\"202호\"],[\"301호\",\"302호\"]])\n",
        "apart = []\n",
        "for i in range(3):\n",
        "  element = list(df.loc[i])\n",
        "  apart.append(element)\n",
        "apart\n"
      ],
      "metadata": {
        "colab": {
          "base_uri": "https://localhost:8080/"
        },
        "id": "r4Jnlnr7-usZ",
        "outputId": "4467d4b0-0a28-455c-f724-851fc31bda14"
      },
      "execution_count": 87,
      "outputs": [
        {
          "output_type": "execute_result",
          "data": {
            "text/plain": [
              "[['101호', '102호'], ['201호', '202호'], ['301호', '302호']]"
            ]
          },
          "metadata": {},
          "execution_count": 87
        }
      ]
    },
    {
      "cell_type": "code",
      "source": [
        "#182. 아래 표에서 하나의 열을 하나의 리스트로, 총 2개의 리스트를 갖는 이차원 리스트 stock을 정의하라. \n",
        "df = pd.DataFrame(data = [[\"시가\",\"종가\"],[100,80],[200,210],[300,330]])\n",
        "\n",
        "stock = []\n",
        "for i in range(2):\n",
        "  element = list(df[i])\n",
        "  stock.append(element)\n",
        "stock"
      ],
      "metadata": {
        "colab": {
          "base_uri": "https://localhost:8080/"
        },
        "id": "COO2ADuuFKZF",
        "outputId": "9ecb5687-b439-4589-ff94-0f5314a5edbf"
      },
      "execution_count": 2,
      "outputs": [
        {
          "output_type": "execute_result",
          "data": {
            "text/plain": [
              "[['시가', 100, 200, 300], ['종가', 80, 210, 330]]"
            ]
          },
          "metadata": {},
          "execution_count": 2
        }
      ]
    },
    {
      "cell_type": "code",
      "source": [
        "#183. 아래 표를 stock 이름의 딕셔너리로 표현하라. 시가를 key로 저장하고, 나머지 같은 열의 데이터를 리스트로 \n",
        "#저장해서 value로 저장한다. 종가 역시 key로 저장하고, 나머지 같은 열의 데이터를 리스트로 저장해서 \n",
        "#value로 저장한다. \n",
        "stock = dict()\n",
        "dum1_list = []\n",
        "dum2_list = []\n",
        "for i in range(2):\n",
        "  for j in range(1,4):\n",
        "    if i < 1:\n",
        "      dum1_list.append(df.iat[j,i])\n",
        "    else:\n",
        "      dum2_list.append(df.iat[j,i])\n",
        "stock[\"시가\"] = dum1_list\n",
        "stock[\"종가\"] = dum2_list\n",
        "stock   \n"
      ],
      "metadata": {
        "colab": {
          "base_uri": "https://localhost:8080/"
        },
        "id": "TdvGiLx7FTIJ",
        "outputId": "f0793ae5-47af-458d-850b-ca4a3ec93963"
      },
      "execution_count": 14,
      "outputs": [
        {
          "output_type": "execute_result",
          "data": {
            "text/plain": [
              "{'시가': [100, 200, 300], '종가': [80, 210, 330]}"
            ]
          },
          "metadata": {},
          "execution_count": 14
        }
      ]
    },
    {
      "cell_type": "code",
      "source": [
        "#184. 아래 표를 stock이라는 이름의 딕셔너리로 표현하라. 날짜를 key로 저장하고, 나머지 같은 행의 데이터를 \n",
        "#리스트로 저장해서 value로 저장한다. 첫 열이 날짜이다. \n",
        "df184 = pd.DataFrame(data=[['10/10', 80, 110, 70, 90],['10/11',210,230,190,200]])\n",
        "df184\n",
        "\n",
        "stock=dict()\n",
        "stock[df184.iat[0,0]] = [df184.iat[0,1],df184.iat[0,2],df184.iat[0,3],df184.iat[0,4]]\n",
        "stock[df184.iat[1,0]] = [df184.iat[1,1],df184.iat[1,2],df184.iat[1,3],df184.iat[1,4]]\n",
        "stock"
      ],
      "metadata": {
        "id": "oLrzDD1uIavj",
        "outputId": "45fd1c35-210e-4671-8f6b-4a249f66915f",
        "colab": {
          "base_uri": "https://localhost:8080/"
        }
      },
      "execution_count": 19,
      "outputs": [
        {
          "output_type": "execute_result",
          "data": {
            "text/plain": [
              "{'10/10': [80, 110, 70, 90], '10/11': [210, 230, 190, 200]}"
            ]
          },
          "metadata": {},
          "execution_count": 19
        }
      ]
    },
    {
      "cell_type": "code",
      "source": [
        "#185. 리스트에 저장된 데이터를 아래와 같이 출력하라. \n",
        "apart = [ [101, 102], [201, 202], [301, 302] ]\n",
        "\n",
        "for i in range(3):\n",
        "  for j in range(2):\n",
        "    print(apart[i][j],\"호\")"
      ],
      "metadata": {
        "id": "q6cjXIqaJRba",
        "outputId": "df522a52-e01b-4d49-e38f-78117c9a3b18",
        "colab": {
          "base_uri": "https://localhost:8080/"
        }
      },
      "execution_count": 23,
      "outputs": [
        {
          "output_type": "stream",
          "name": "stdout",
          "text": [
            "101 호\n",
            "102 호\n",
            "201 호\n",
            "202 호\n",
            "301 호\n",
            "302 호\n"
          ]
        }
      ]
    },
    {
      "cell_type": "code",
      "source": [
        "#186. 리스트에 저장된 데이터를 아래와 같이 출력하라. \n",
        "apart = [ [101, 102], [201, 202], [301, 302] ]\n",
        "\n",
        "for i in range(3):\n",
        "  for j in range(2):\n",
        "    print(apart[2-i][j],\"호\")"
      ],
      "metadata": {
        "id": "9d0z3HVEm3mp",
        "outputId": "b23e9ab2-96d5-4309-b14a-a0a2f49b079f",
        "colab": {
          "base_uri": "https://localhost:8080/"
        }
      },
      "execution_count": 30,
      "outputs": [
        {
          "output_type": "stream",
          "name": "stdout",
          "text": [
            "301 호\n",
            "302 호\n",
            "201 호\n",
            "202 호\n",
            "101 호\n",
            "102 호\n"
          ]
        }
      ]
    },
    {
      "cell_type": "code",
      "source": [
        "#187. 리스트에 저장된 데이터를 아래와 같이 출력하라. \n",
        "apart = [ [101, 102], [201, 202], [301, 302] ]\n",
        "for i in range(3):\n",
        "  for j in range(2):\n",
        "    print(apart[2-i][1-j],\"호\")\n"
      ],
      "metadata": {
        "id": "d4KbTCPloEpT",
        "outputId": "b371d66f-10bd-4cc1-e604-75f4fc1a8b9a",
        "colab": {
          "base_uri": "https://localhost:8080/"
        }
      },
      "execution_count": 31,
      "outputs": [
        {
          "output_type": "stream",
          "name": "stdout",
          "text": [
            "302 호\n",
            "301 호\n",
            "202 호\n",
            "201 호\n",
            "102 호\n",
            "101 호\n"
          ]
        }
      ]
    },
    {
      "cell_type": "code",
      "source": [
        "#188. 리스트에 저장된 데이터를 아래와 같이 출력하라. \n",
        "apart = [ [101, 102], [201, 202], [301, 302] ]\n",
        "\n",
        "for i in range(3):\n",
        "  for j in range(2):\n",
        "    print(apart[i][j],\"호\")\n",
        "    print(\"-\"*5)"
      ],
      "metadata": {
        "id": "QaLgn5ndqS21",
        "outputId": "11a1ae07-e126-4abb-c06f-eeeaf94a1f82",
        "colab": {
          "base_uri": "https://localhost:8080/"
        }
      },
      "execution_count": 32,
      "outputs": [
        {
          "output_type": "stream",
          "name": "stdout",
          "text": [
            "101 호\n",
            "-----\n",
            "102 호\n",
            "-----\n",
            "201 호\n",
            "-----\n",
            "202 호\n",
            "-----\n",
            "301 호\n",
            "-----\n",
            "302 호\n",
            "-----\n"
          ]
        }
      ]
    },
    {
      "cell_type": "code",
      "source": [
        "#189. 리스트에 저장된 데이터를 아래와 같이 출력하라. \n",
        "apart = [ [101, 102], [201, 202], [301, 302] ]\n",
        "\n",
        "for i in range(3):\n",
        "  print(apart[i][0],\"호\")\n",
        "  print(apart[i][1],\"호\")\n",
        "  print(\"-\"*5)"
      ],
      "metadata": {
        "id": "LYP4yYV-qnS6",
        "outputId": "ee67fe88-9571-4952-c32c-3943a7cbf0be",
        "colab": {
          "base_uri": "https://localhost:8080/"
        }
      },
      "execution_count": 33,
      "outputs": [
        {
          "output_type": "stream",
          "name": "stdout",
          "text": [
            "101 호\n",
            "102 호\n",
            "-----\n",
            "201 호\n",
            "202 호\n",
            "-----\n",
            "301 호\n",
            "302 호\n",
            "-----\n"
          ]
        }
      ]
    },
    {
      "cell_type": "code",
      "source": [
        "#190. 리스트에 저장된 데이터를 아래와 같이 출력하라. \n",
        "apart = [ [101, 102], [201, 202], [301, 302] ]\n",
        "\n",
        "for i in apart:\n",
        "  for j in i:\n",
        "    print(j,\"호\")\n",
        "print(\"-\"*5)"
      ],
      "metadata": {
        "id": "9p3VYkE-rJSG",
        "outputId": "cecefb79-d588-464e-ac6f-d9178403c713",
        "colab": {
          "base_uri": "https://localhost:8080/"
        }
      },
      "execution_count": 35,
      "outputs": [
        {
          "output_type": "stream",
          "name": "stdout",
          "text": [
            "101 호\n",
            "102 호\n",
            "201 호\n",
            "202 호\n",
            "301 호\n",
            "302 호\n",
            "-----\n"
          ]
        }
      ]
    },
    {
      "cell_type": "code",
      "source": [
        ""
      ],
      "metadata": {
        "id": "7MQlb8gTrj_H"
      },
      "execution_count": null,
      "outputs": []
    }
  ]
}