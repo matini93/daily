{
  "nbformat": 4,
  "nbformat_minor": 0,
  "metadata": {
    "colab": {
      "provenance": [],
      "authorship_tag": "ABX9TyPKeKDFkNV7HjIwNnPHkLQZ",
      "include_colab_link": true
    },
    "kernelspec": {
      "name": "python3",
      "display_name": "Python 3"
    },
    "language_info": {
      "name": "python"
    }
  },
  "cells": [
    {
      "cell_type": "markdown",
      "metadata": {
        "id": "view-in-github",
        "colab_type": "text"
      },
      "source": [
        "<a href=\"https://colab.research.google.com/github/matini93/daily/blob/main/date_09_01.ipynb\" target=\"_parent\"><img src=\"https://colab.research.google.com/assets/colab-badge.svg\" alt=\"Open In Colab\"/></a>"
      ]
    },
    {
      "cell_type": "code",
      "execution_count": 5,
      "metadata": {
        "colab": {
          "base_uri": "https://localhost:8080/"
        },
        "id": "oT4hYmmK-9fE",
        "outputId": "8a7747f8-8e36-47f3-cdf2-33bf09ba1958"
      },
      "outputs": [
        {
          "output_type": "stream",
          "name": "stdout",
          "text": [
            "엄마는외계\n",
            "인\n"
          ]
        }
      ],
      "source": [
        "#226. 입력 문자열을 한 줄에 다섯글자씩 출력하는 print_5xn(string)함수를 작성하라. \n",
        "def print_5xn(string):\n",
        "  chunk_num = int(len(string) / 5)\n",
        "  for x in range(chunk_num + 1):\n",
        "    print(string[x * 5: x * 5 + 5])\n",
        "\n",
        "print_5xn(\"엄마는외계인\")\n",
        "#못품   "
      ]
    },
    {
      "cell_type": "code",
      "source": [
        "#227. 문자열과 한줄에 출력될 글자 수를 입력을 받아 한줄에 입력된 글자 수만큼 출력하는 \n",
        "#print_mxn(string)함수를 작성하라. \n",
        "#print_mxn(\"아이엠어보이유알어걸\",3)\n",
        "\n",
        "def print_mxn(string, num):\n",
        "  check_num = int(len(string)/ int(num))\n",
        "  for x in range(check_num +1 ): \n",
        "    print(string[x*int(num): x*int(num)+int(num)])\n",
        "\n",
        "print_mxn(\"무궁화꽃이피었습니다\",3)"
      ],
      "metadata": {
        "colab": {
          "base_uri": "https://localhost:8080/"
        },
        "id": "R63TLCySAnYx",
        "outputId": "8c021c7b-0d6e-4c2d-9994-d309d2284af7"
      },
      "execution_count": 6,
      "outputs": [
        {
          "output_type": "stream",
          "name": "stdout",
          "text": [
            "무궁화\n",
            "꽃이피\n",
            "었습니\n",
            "다\n"
          ]
        }
      ]
    },
    {
      "cell_type": "code",
      "source": [
        "#228. 연봉을 입력받아 월급을 계산하는 calc_monthly_salary(annual_salary) 함수를 정의하라. \n",
        "#회사는 연봉을 12개월로 나누어 분할 지급하며, 이 때 1원 미만은 버림한다. \n",
        "def calc_monthly_salary(num):\n",
        "  num = int(num)\n",
        "  print(\"{}\".format(int(num / 12)))\n",
        "\n",
        "calc_monthly_salary(4500000)"
      ],
      "metadata": {
        "colab": {
          "base_uri": "https://localhost:8080/"
        },
        "id": "V-GUKQGEB5bk",
        "outputId": "ec503cba-bf3d-4ee7-b99f-622ae8dbfc08"
      },
      "execution_count": 12,
      "outputs": [
        {
          "output_type": "stream",
          "name": "stdout",
          "text": [
            "375000\n"
          ]
        }
      ]
    },
    {
      "cell_type": "code",
      "source": [],
      "metadata": {
        "id": "e9Y5y4PeDtk_"
      },
      "execution_count": null,
      "outputs": []
    }
  ]
}