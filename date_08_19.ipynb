{
  "nbformat": 4,
  "nbformat_minor": 0,
  "metadata": {
    "colab": {
      "name": "date_08_19.ipynb",
      "provenance": [],
      "authorship_tag": "ABX9TyMD3bXCAeAx629zouaUUw07",
      "include_colab_link": true
    },
    "kernelspec": {
      "name": "python3",
      "display_name": "Python 3"
    },
    "language_info": {
      "name": "python"
    }
  },
  "cells": [
    {
      "cell_type": "markdown",
      "metadata": {
        "id": "view-in-github",
        "colab_type": "text"
      },
      "source": [
        "<a href=\"https://colab.research.google.com/github/matini93/daily/blob/main/date_08_19.ipynb\" target=\"_parent\"><img src=\"https://colab.research.google.com/assets/colab-badge.svg\" alt=\"Open In Colab\"/></a>"
      ]
    },
    {
      "cell_type": "code",
      "execution_count": 1,
      "metadata": {
        "colab": {
          "base_uri": "https://localhost:8080/"
        },
        "id": "5VnZyJUD1XdW",
        "outputId": "aa074030-9c8c-482a-d8d6-1095e87e3849"
      },
      "outputs": [
        {
          "output_type": "stream",
          "name": "stdout",
          "text": [
            "2000.28\n",
            "3050.427\n",
            "2050.287\n",
            "1980.2772\n",
            "7501.05\n",
            "2050.287\n",
            "2050.287\n",
            "1980.2772\n",
            "15452.163\n",
            "15052.107\n",
            "15552.177\n",
            "14902.086\n"
          ]
        }
      ],
      "source": [
        "#191. data에는 매수한 종목들의 OHLC (open/high/low/close) 가격 정보가 바인딩 되어있다.\n",
        "#수수료를 0.014 %로 가정할 때, 각 가격에 수수료를 포함한 가격을 한라인에 하나씩 출력하라.\n",
        "data = [\n",
        "    [2000,3050,2050,1980],\n",
        "    [7500,2050,2050,1980],\n",
        "    [15450,15050,15550,14900]\n",
        "]\n",
        "for i in data:\n",
        "  for j in i:\n",
        "    total = j + j*0.00014\n",
        "    print(total)"
      ]
    },
    {
      "cell_type": "code",
      "source": [
        "#192. 191번의 출력 결과를 행단위로 '----'구분자를 추가하라. \n",
        "for i in data:\n",
        "  for j in i : \n",
        "    total = j + j*0.00014\n",
        "    print(total)\n",
        "  print(\"----\")"
      ],
      "metadata": {
        "colab": {
          "base_uri": "https://localhost:8080/"
        },
        "id": "FkSB-RjC4ZJQ",
        "outputId": "25821476-6967-4731-fa20-86878b55e1a1"
      },
      "execution_count": 3,
      "outputs": [
        {
          "output_type": "stream",
          "name": "stdout",
          "text": [
            "2000.28\n",
            "3050.427\n",
            "2050.287\n",
            "1980.2772\n",
            "----\n",
            "7501.05\n",
            "2050.287\n",
            "2050.287\n",
            "1980.2772\n",
            "----\n",
            "15452.163\n",
            "15052.107\n",
            "15552.177\n",
            "14902.086\n",
            "----\n"
          ]
        }
      ]
    },
    {
      "cell_type": "code",
      "source": [
        "#193. 192번 문제의 결괏값을 result이름의 리스트에 1차원 배열로 저장하라. \n",
        "result_list = []\n",
        "for i in data:\n",
        "  for j in i : \n",
        "    total = j + j*0.00014\n",
        "    result_list.append(total)\n",
        "result_list"
      ],
      "metadata": {
        "colab": {
          "base_uri": "https://localhost:8080/"
        },
        "id": "8qyasrGQ43Fn",
        "outputId": "61bbbc03-829e-4ed1-dbc5-90322dbb3fac"
      },
      "execution_count": 4,
      "outputs": [
        {
          "output_type": "execute_result",
          "data": {
            "text/plain": [
              "[2000.28,\n",
              " 3050.427,\n",
              " 2050.287,\n",
              " 1980.2772,\n",
              " 7501.05,\n",
              " 2050.287,\n",
              " 2050.287,\n",
              " 1980.2772,\n",
              " 15452.163,\n",
              " 15052.107,\n",
              " 15552.177,\n",
              " 14902.086]"
            ]
          },
          "metadata": {},
          "execution_count": 4
        }
      ]
    },
    {
      "cell_type": "code",
      "source": [
        "#194. 191번 문제의 결괏값을 result 이름의 리스트에 2차원 배열로 저장하라. 저장 포맷은 아래와 같다. 각 행에 대한 데이터끼리 리스트에 저장되어야 한다.\n",
        "#리스트의 위치로 배열이 달라진다. \n",
        "big_list = []\n",
        "for i in data:\n",
        "  result_list1 = []\n",
        "  for j in i : \n",
        "    total = j + j*0.00014\n",
        "    result_list1.append(total)\n",
        "  big_list.append(result_list1)\n",
        "print(big_list)"
      ],
      "metadata": {
        "colab": {
          "base_uri": "https://localhost:8080/"
        },
        "id": "o8IVErpY7Vkv",
        "outputId": "b0596864-7551-4967-8594-94a576933751"
      },
      "execution_count": 18,
      "outputs": [
        {
          "output_type": "stream",
          "name": "stdout",
          "text": [
            "[[2000.28, 3050.427, 2050.287, 1980.2772], [7501.05, 2050.287, 2050.287, 1980.2772], [15452.163, 15052.107, 15552.177, 14902.086]]\n"
          ]
        }
      ]
    },
    {
      "cell_type": "code",
      "source": [
        "len(result_list1)"
      ],
      "metadata": {
        "colab": {
          "base_uri": "https://localhost:8080/"
        },
        "id": "iKdf-SfI7nDn",
        "outputId": "d86b0bd6-a6de-40df-d326-2ea05587bcbb"
      },
      "execution_count": 17,
      "outputs": [
        {
          "output_type": "execute_result",
          "data": {
            "text/plain": [
              "12"
            ]
          },
          "metadata": {},
          "execution_count": 17
        }
      ]
    },
    {
      "cell_type": "code",
      "source": [
        "#195. ohlc 리스트에는 시가(open), 고가 (high), 저가 (low) , 종가(close)가 날짜별로 저장돼 있다. 화면에 종가데이터를 출력하라.\n",
        "ohlc = [[\"open\", \"high\", \"low\", \"close\"],\n",
        "        [100, 110, 70, 100],\n",
        "        [200, 210, 180, 190],\n",
        "        [300, 310, 300, 310]]\n",
        "\n",
        "for i in ohlc[1:]:\n",
        "  print(i[3])\n"
      ],
      "metadata": {
        "colab": {
          "base_uri": "https://localhost:8080/"
        },
        "id": "tZwZr6hP7o8j",
        "outputId": "7a6ff3ad-9323-47e2-d633-fb8410e497d5"
      },
      "execution_count": 21,
      "outputs": [
        {
          "output_type": "stream",
          "name": "stdout",
          "text": [
            "100\n",
            "190\n",
            "310\n"
          ]
        }
      ]
    },
    {
      "cell_type": "code",
      "source": [
        "#196.ohlc 리스트에는 시가(open), 고가 (high), 저가 (low) , 종가(close)가 날짜별로 저장돼 있다. 종가가 150원보다 큰경우에만 종가를 출력하라.\n",
        "ohlc = [[\"open\", \"high\", \"low\", \"close\"],\n",
        "        [100, 110, 70, 100],\n",
        "        [200, 210, 180, 190],\n",
        "        [300, 310, 300, 310]]\n",
        "\n",
        "for i in ohlc[1:]:\n",
        "  a= int(i[3])\n",
        "  if a > 150 :\n",
        "    print(a)\n",
        "  else:\n",
        "    pass"
      ],
      "metadata": {
        "colab": {
          "base_uri": "https://localhost:8080/"
        },
        "id": "5fUlAwMUB7XV",
        "outputId": "71f72434-4bdd-491d-ed77-934877884352"
      },
      "execution_count": 25,
      "outputs": [
        {
          "output_type": "stream",
          "name": "stdout",
          "text": [
            "190\n",
            "310\n"
          ]
        }
      ]
    },
    {
      "cell_type": "code",
      "source": [
        "#197.ohlc 리스트에는 시가(open), 고가 (high), 저가 (low) , 종가(close)가 날짜별로 저장돼 있다. 종가가 시가 보다 크거나 같은 경우에만 종가를 출력하라.\n",
        "ohlc = [[\"open\", \"high\", \"low\", \"close\"],\n",
        "        [100, 110, 70, 100],\n",
        "        [200, 210, 180, 190],\n",
        "        [300, 310, 300, 310]]\n",
        "for i in ohlc:\n",
        "  if i[3] >= i[0]:\n",
        "    print(i[3])\n",
        "  else:\n",
        "    pass\n"
      ],
      "metadata": {
        "colab": {
          "base_uri": "https://localhost:8080/"
        },
        "id": "rcxd12pUCa7m",
        "outputId": "0bf78836-e947-4fec-c5e4-cf5ee7a8152a"
      },
      "execution_count": 27,
      "outputs": [
        {
          "output_type": "stream",
          "name": "stdout",
          "text": [
            "100\n",
            "310\n"
          ]
        }
      ]
    },
    {
      "cell_type": "code",
      "source": [
        "#198. ohlc 리스트에는 시가(open), 고가 (high), 저가 (low) , 종가(close)가 날짜별로 저장돼 있다. 고가와 저가의 차이를 변동폭으로 정의할 때 변동폭을 volatility 이름의 리스트에 저장하라.\n",
        "ohlc = [[\"open\", \"high\", \"low\", \"close\"],\n",
        "        [100, 110, 70, 100],\n",
        "        [200, 210, 180, 190],\n",
        "        [300, 310, 300, 310]]\n",
        "volatilty = []\n",
        "for i in ohlc[1:]:\n",
        "  \n",
        "  delta = i[1] - i[2]\n",
        "  volatilty.append(delta)\n",
        "print(volatilty)"
      ],
      "metadata": {
        "colab": {
          "base_uri": "https://localhost:8080/"
        },
        "id": "ljxlpx59DtYS",
        "outputId": "33114c12-887e-4881-aa90-3e8872784bd3"
      },
      "execution_count": 31,
      "outputs": [
        {
          "output_type": "stream",
          "name": "stdout",
          "text": [
            "[40, 30, 10]\n"
          ]
        }
      ]
    },
    {
      "cell_type": "code",
      "source": [
        "#199.리스트에는 3일 간의 ohlc 데이터가 저장돼 있다. 종가가 시가보다 높은 날의 변동성 (고가 - 저가)을 화면에 출력하라.\n",
        "ohlc = [[\"open\", \"high\", \"low\", \"close\"],\n",
        "        [100, 110, 70, 100],\n",
        "        [200, 210, 180, 190],\n",
        "        [300, 310, 300, 310]]\n",
        "\n",
        "for i in ohlc[1:]:\n",
        "  if i[3] > i[0]:\n",
        "    print(i[3] - i[0])"
      ],
      "metadata": {
        "colab": {
          "base_uri": "https://localhost:8080/"
        },
        "id": "U1WpkiY-Eh_L",
        "outputId": "d3c0279c-272e-4d74-86ae-595ca26b89ff"
      },
      "execution_count": 32,
      "outputs": [
        {
          "output_type": "stream",
          "name": "stdout",
          "text": [
            "10\n"
          ]
        }
      ]
    },
    {
      "cell_type": "code",
      "source": [
        "#200.리스트에는 3일 간의 ohlc 데이터가 저장돼 있다. 시가에 매수해서 종가에 매도 했을 경우 총 수익금을 계산하라.\n",
        "\n",
        "ohlc = [[\"open\", \"high\", \"low\", \"close\"],\n",
        "        [100, 110, 70, 100],\n",
        "        [200, 210, 180, 190],\n",
        "        [300, 310, 300, 310]]\n",
        "a_list = []\n",
        "for i in ohlc[1:]:\n",
        "  a = i[0]- i[3]\n",
        "  a_list.append(a)\n",
        "  result = sum(a_list)\n",
        "print(result)"
      ],
      "metadata": {
        "colab": {
          "base_uri": "https://localhost:8080/"
        },
        "id": "nXO2rfZeFp73",
        "outputId": "19c465fb-a0c5-4dd4-83cf-887558279fbb"
      },
      "execution_count": 34,
      "outputs": [
        {
          "output_type": "stream",
          "name": "stdout",
          "text": [
            "0\n"
          ]
        }
      ]
    },
    {
      "cell_type": "code",
      "source": [
        ""
      ],
      "metadata": {
        "id": "IMbZ-WW0GrPj"
      },
      "execution_count": null,
      "outputs": []
    }
  ]
}